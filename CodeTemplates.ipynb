{
 "cells": [
  {
   "cell_type": "markdown",
   "metadata": {},
   "source": [
    "# Code Template\n",
    "- [Code Template](#code-template)\n",
    "  - [Two Pointers](#two-pointers)\n",
    "  - [Sliding Window](#sliding-window)\n",
    "  - [Build a prefix sum](#build-a-prefix-sum)\n",
    "  - [Efficient string building](#efficient-string-building)\n",
    "  - [Linked List](#linked-list)\n",
    "    - [Fast and Slow Pointers](#fast-and-slow-pointers)\n",
    "    - [Reversing Linked List](#reversing-a-linked-list)\n",
    "  - [Find number of subarrays that fit an exact criteria](#find-number-of-subarrays-that-fit-an-exact-criteria)\n",
    "  - [Dijikstra's Algorithm](#dijistras-algorithm)\n",
    "  Dijistra's algorithm"
   ]
  },
  {
   "cell_type": "markdown",
   "metadata": {},
   "source": [
    "## Two Pointers\n",
    "- One input, opposite ends\n",
    "    - Find a pair with a sum\n",
    "    - Find a pair with a sum closest to target\n",
    "- Two inputs, exhaust both\n",
    "    - Merge two sorted arrays\n",
    "    - Find all pairs in two arrays with a sum less than target"
   ]
  },
  {
   "cell_type": "code",
   "execution_count": null,
   "metadata": {},
   "outputs": [],
   "source": [
    "def fn(arr):\n",
    "    left = ans = 0\n",
    "    right = len(arr) - 1\n",
    "    while left < right:\n",
    "        if CONDITION:\n",
    "            left += 1\n",
    "        else:\n",
    "            right -= 1\n",
    "    return ans"
   ]
  },
  {
   "cell_type": "code",
   "execution_count": null,
   "metadata": {},
   "outputs": [],
   "source": [
    "def fn(arr1, arr2):\n",
    "    i = j = ans = 0\n",
    "    while i < len(arr1) and j < len(arr2):\n",
    "        # do some logic\n",
    "        if CONDITION:\n",
    "            i += 1\n",
    "        else:\n",
    "            j += 1\n",
    "    while i < len(arr1):\n",
    "        # do logic\n",
    "        i += 1\n",
    "    while j < len(arr2):\n",
    "        # do logic\n",
    "        j += 1\n",
    "    return ans  "
   ]
  },
  {
   "cell_type": "markdown",
   "metadata": {},
   "source": [
    "## Sliding Window"
   ]
  },
  {
   "cell_type": "code",
   "execution_count": null,
   "metadata": {},
   "outputs": [],
   "source": [
    "def fn(arr):\n",
    "    left = ans = curr = 0\n",
    "    for right in range(len(arr)):\n",
    "        # do logic here to add arr[right] to curr\n",
    "        while WINDOW_CONDITION_BROKEN:\n",
    "            left += 1\n",
    "        # update ans\n",
    "    return ans "
   ]
  },
  {
   "cell_type": "markdown",
   "metadata": {},
   "source": [
    "## Build a prefix sum"
   ]
  },
  {
   "cell_type": "code",
   "execution_count": null,
   "metadata": {},
   "outputs": [],
   "source": [
    "def fn(arr):\n",
    "    prefix = [arr[0]]\n",
    "    for i in range(1, len(arr)):\n",
    "        prefix.append(prefix[-1] + arr[i])\n",
    "    return prefix"
   ]
  },
  {
   "cell_type": "markdown",
   "metadata": {},
   "source": [
    "## Efficient string building"
   ]
  },
  {
   "cell_type": "code",
   "execution_count": null,
   "metadata": {},
   "outputs": [],
   "source": [
    "def fn(arr):\n",
    "    ans = []\n",
    "    # equivalent to ans = list(arr)\n",
    "    for c in arr:\n",
    "        ans.append(c)\n",
    "    return \"\".join(ans)"
   ]
  },
  {
   "cell_type": "markdown",
   "metadata": {},
   "source": [
    "## Linked List\n",
    "### Fast and slow pointer\n",
    "### Reversing a linked list"
   ]
  },
  {
   "cell_type": "code",
   "execution_count": null,
   "metadata": {},
   "outputs": [],
   "source": [
    "def fn(head):\n",
    "    slow = fast = head\n",
    "    while fast and fast.next:\n",
    "        slow = slow.next\n",
    "        fast = fast.next.next\n",
    "    return ans"
   ]
  },
  {
   "cell_type": "code",
   "execution_count": null,
   "metadata": {},
   "outputs": [],
   "source": [
    "def fn(head):\n",
    "    curr = head\n",
    "    prev = None\n",
    "    while curr:\n",
    "        next_node = curr.next\n",
    "        curr.next = prev\n",
    "        prev = curr\n",
    "        curr = next_node\n",
    "    return prev"
   ]
  },
  {
   "cell_type": "markdown",
   "metadata": {},
   "source": []
  },
  {
   "cell_type": "code",
   "execution_count": null,
   "metadata": {},
   "outputs": [],
   "source": []
  },
  {
   "cell_type": "markdown",
   "metadata": {},
   "source": [
    "## Find number of subarrays that fit an exact criteria"
   ]
  },
  {
   "cell_type": "code",
   "execution_count": null,
   "metadata": {},
   "outputs": [],
   "source": [
    "from collections import defaultdict\n",
    "def fn(arr,k):\n",
    "    counts = defaultdict(int)\n",
    "    counts[0] = 1\n",
    "    ans = curr = 0\n",
    "    for num in arr:\n",
    "        # do logic to change arr\n",
    "        ans += counts[curr-k]\n",
    "        counts[curr] += 1\n",
    "    return ans   "
   ]
  },
  {
   "cell_type": "markdown",
   "metadata": {},
   "source": [
    "## Build a trie"
   ]
  },
  {
   "cell_type": "code",
   "execution_count": null,
   "metadata": {},
   "outputs": [],
   "source": [
    "class TreeNode:\n",
    "    def __init__(self, val=0, left=None, right=None):\n",
    "        self.data = None\n",
    "        self.children = {}\n",
    "def fn(words):\n",
    "    root = TreeNode()\n",
    "    for word in words:\n",
    "        curr = root\n",
    "        for c in word:\n",
    "            if c not in curr.children:\n",
    "                curr.children[c] = TreeNode()\n",
    "            curr = curr.children[c]\n",
    "        # at this point, you have a full word at curr\n",
    "        # perform more logic here to give curr an attribute or something\n",
    "    return root"
   ]
  },
  {
   "cell_type": "markdown",
   "metadata": {},
   "source": [
    "## Dijistra's algorithm"
   ]
  },
  {
   "cell_type": "code",
   "execution_count": null,
   "metadata": {},
   "outputs": [],
   "source": [
    "distances = [math.inf] * n\n",
    "distances[source] = 0\n",
    "heap = [(0, source)]\n",
    "while heap:\n",
    "    curr_dist, node = heapq.heappop(heap)\n",
    "    if curr_dist > distances[node]:\n",
    "        continue\n",
    "    for neighbor, weight in graph[node]:\n",
    "        dist = curr_dist + weight\n",
    "        if dist < distances[neighbor]:\n",
    "            distances[neighbor] = dist\n",
    "            heapq.heappush(heap, (dist, neighbor))"
   ]
  }
 ],
 "metadata": {
  "language_info": {
   "name": "python"
  }
 },
 "nbformat": 4,
 "nbformat_minor": 2
}
