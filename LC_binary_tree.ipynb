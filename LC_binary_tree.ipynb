{
 "cells": [
  {
   "cell_type": "markdown",
   "metadata": {},
   "source": [
    "# Binary tree"
   ]
  },
  {
   "cell_type": "markdown",
   "metadata": {},
   "source": [
    "### Balanced tree\n",
    "(110) Given a binary tree, determine if it is height-balanced.\n",
    "Height-balanced: A height-balanced binary tree is a binary tree in which the depth of the two subtrees of every node never differs by more than one."
   ]
  },
  {
   "cell_type": "code",
   "execution_count": null,
   "metadata": {},
   "outputs": [],
   "source": [
    "class Solution:\n",
    "    def isBalanced(self, root: Optional[TreeNode]) -> bool:\n",
    "        ok = True\n",
    "\n",
    "        def height(node):\n",
    "            nonlocal ok\n",
    "\n",
    "            if node is None:\n",
    "                return 0\n",
    "            lh = height(node.left)\n",
    "            rh = height(node.right)\n",
    "            if abs(lh - rh) > 1:\n",
    "                ok = False\n",
    "            return max(lh, rh) + 1\n",
    "            \n",
    "        height(root)\n",
    "        return ok"
   ]
  },
  {
   "cell_type": "code",
   "execution_count": null,
   "metadata": {},
   "outputs": [],
   "source": [
    "class Solution:\n",
    "    def isBalanced(self, root: Optional[TreeNode]) -> bool:\n",
    "         def dfs(node):\n",
    "            if node is None:\n",
    "                return 0\n",
    "            lh, rh = dfs(node.left), dfs(node.right)\n",
    "            if lh is None or rh is None or abs(lh - rh) > 1:\n",
    "                return None\n",
    "            return max(lh, rh) + 1\n",
    "        \n",
    "        return dfs(root) is not None"
   ]
  },
  {
   "cell_type": "markdown",
   "metadata": {},
   "source": [
    "### Binary Tree Level Order Traversal"
   ]
  },
  {
   "cell_type": "markdown",
   "metadata": {},
   "source": [
    "(102) Given the root of a binary tree, return the level order traversal of its nodes' values. (i.e., from left to right, level by level)."
   ]
  },
  {
   "cell_type": "code",
   "execution_count": null,
   "metadata": {},
   "outputs": [],
   "source": [
    "class Solution:\n",
    "    def levelOrder(self, root: Optional[TreeNode]) -> List[List[int]]:\n",
    "        if root is None:\n",
    "            return []\n",
    "        res = []\n",
    "        current_level = [root]\n",
    "        while current_level != []:\n",
    "            res.append([node.val for node in current_level])\n",
    "            next_level = []\n",
    "            for node in current_level:\n",
    "                next_level += [node.left, node.right]\n",
    "            current_level = [node for node in next_level if node is not None]\n",
    "        return res"
   ]
  },
  {
   "cell_type": "markdown",
   "metadata": {},
   "source": [
    "### 100. Same Tree\n",
    "Given the roots of two binary trees p and q, write a function to check if they are the same or not.\n",
    "Two binary trees are considered the same if they are structurally identical, and the nodes have the same value."
   ]
  },
  {
   "cell_type": "code",
   "execution_count": null,
   "metadata": {},
   "outputs": [],
   "source": [
    "class Solution:\n",
    "    def isSameTree(self, p: Optional[TreeNode], q: Optional[TreeNode]) -> bool:\n",
    "        def comp(a,b):\n",
    "            if (a is None) != (b is None):\n",
    "                return False\n",
    "            else:\n",
    "                return a is None or (a.val == b.val and comp(a.left, b.left) and comp(a.right,b.right))\n",
    "        return comp(p, q)"
   ]
  },
  {
   "cell_type": "markdown",
   "metadata": {},
   "source": [
    "### Binary Tree Inorder Traversal\n",
    "Given the root of a binary tree, return the inorder traversal of its nodes' values."
   ]
  },
  {
   "cell_type": "code",
   "execution_count": null,
   "metadata": {},
   "outputs": [],
   "source": [
    "class Solution:\n",
    "    def inorderTraversal(self, root: Optional[TreeNode]) -> List[int]:\n",
    "        res = []\n",
    "        def dfs(node):\n",
    "            if node.left is not None:\n",
    "                dfs(node.left)\n",
    "            res.append(node.val)\n",
    "            if node.right is not None:\n",
    "                dfs(node.right)\n",
    "        if root is None:\n",
    "            return []\n",
    "        else:\n",
    "            dfs(root)\n",
    "            return res"
   ]
  },
  {
   "cell_type": "markdown",
   "metadata": {},
   "source": [
    "### 95. Unique Binary Search Trees II\n",
    "Given an integer n, return all the structurally unique BST's (binary search trees), which has exactly n nodes of unique values from 1 to n. Return the answer in any order."
   ]
  },
  {
   "cell_type": "code",
   "execution_count": null,
   "metadata": {},
   "outputs": [],
   "source": [
    "class Solution:\n",
    "    def generateTrees(self, n: int) -> List[Optional[TreeNode]]:\n",
    "        def dfs(lo, hi):\n",
    "            # [lo, hi)\n",
    "            if lo == hi:\n",
    "                return [None]\n",
    "            res = []\n",
    "            for mid in range(lo, hi):\n",
    "                #[lo, mid)\n",
    "                #mid\n",
    "                #[mid+1, hi)\n",
    "                all_lefts = dfs(lo,mid)\n",
    "                all_rights = dfs(mid+1, hi) \n",
    "                for left in all_lefts:\n",
    "                    for right in all_rights:\n",
    "                        node = TreeNode(val = mid, left=left, right=right)\n",
    "                        res.append(node)\n",
    "            return res\n",
    "        return dfs(1,n+1)"
   ]
  },
  {
   "cell_type": "code",
   "execution_count": null,
   "metadata": {},
   "outputs": [],
   "source": [
    "def deep_copy(node):\n",
    "    if node is None:\n",
    "        return None\n",
    "    left = deep_copy(node.left)\n",
    "    right = deep_copy(node.right)\n",
    "    return TreeNode(node.val, left, right)\n",
    "\n",
    "def dfs(lo, hi):\n",
    "    # [lo, hi)\n",
    "    if lo == hi:\n",
    "        return [None]\n",
    "    res = []\n",
    "    for mid in range(lo, hi):\n",
    "        # left [lo, mid)\n",
    "        # mid\n",
    "        # right [mid + 1, hi)\n",
    "        all_lefts = dfs(lo, mid)\n",
    "        all_rights = dfs(mid + 1, hi)\n",
    "        for left in all_lefts:\n",
    "            for right in all_rights:\n",
    "                # left, mid, right => res\n",
    "                node = TreeNode(val = mid, left = deep_copy(left), right = deep_copy(right))\n",
    "                res.append(node)\n",
    "    return res\n",
    "    return dfs(1, n + 1)"
   ]
  },
  {
   "cell_type": "markdown",
   "metadata": {},
   "source": [
    "### 96. Unique Binary Search Trees\n",
    "Given an integer n, return the number of structurally unique BST's (binary search trees) which has exactly n nodes of unique values from 1 to n."
   ]
  },
  {
   "cell_type": "code",
   "execution_count": null,
   "metadata": {},
   "outputs": [],
   "source": [
    "class Solution:\n",
    "    def numTrees(self, n: int) -> int:\n",
    "        computed = {}\n",
    "        def dfs(lo, hi):\n",
    "            if lo == hi:\n",
    "                return 1\n",
    "            if (lo, hi) in computed:\n",
    "                return computed[(lo, hi)]\n",
    "            ans = 0\n",
    "            for mid in range(lo,hi):\n",
    "                all_lefts = dfs(lo, mid)\n",
    "                all_rights = dfs(mid+1, hi)\n",
    "                ans = ans + all_lefts * all_rights\n",
    "            computed[(lo, hi)] = ans\n",
    "            return ans\n",
    "        return dfs(1,n+1)"
   ]
  },
  {
   "cell_type": "code",
   "execution_count": null,
   "metadata": {},
   "outputs": [],
   "source": [
    "class Solution:\n",
    "    def numTrees(self, n: int) -> int:\n",
    "        dp = [0] * (n + 1)\n",
    "        dp[0] = 1\n",
    "        for i in range(1, n + 1):\n",
    "            for j in range(0, i):\n",
    "                dp[i] += dp[j] * dp[i - 1 - j]\n",
    "        return dp[n]"
   ]
  },
  {
   "cell_type": "markdown",
   "metadata": {},
   "source": [
    "### 97. Interleaving String\n",
    "Given strings s1, s2, and s3, find whether s3 is formed by an interleaving of s1 and s2.\n",
    "\n",
    "An interleaving of two strings s and t is a configuration where s and t are divided into n and m \n",
    "substrings respectively"
   ]
  },
  {
   "cell_type": "code",
   "execution_count": null,
   "metadata": {},
   "outputs": [],
   "source": [
    "class Solution:\n",
    "    def isInterleave(self, s1: str, s2: str, s3: str) -> bool:\n",
    "        if len(s1)+len(s2) != len(s3):\n",
    "            return False\n",
    "        \n",
    "        row = len(s1)+1\n",
    "        col = len(s2)+1\n",
    "        dp = [[False]*col for _ in range(row)]\n",
    "        dp[0][0] = True\n",
    "\n",
    "        for i in range(row):\n",
    "            for j in range(col):\n",
    "                if not dp[i][j]:\n",
    "                    continue\n",
    "                if i < row-1 and s1[i] == s3[i+j]:\n",
    "                    dp[i+1][j] = True\n",
    "                if j < col-1 and s2[j] == s3[i+j]:\n",
    "                    dp[i][j+1] = True\n",
    "        return dp[row-1][col-1]"
   ]
  },
  {
   "cell_type": "markdown",
   "metadata": {},
   "source": [
    "### 98. Validate Binary Search Tree\n",
    "Given the root of a binary tree, determine if it is a valid binary search tree (BST).\n",
    "\n",
    "A valid BST is defined as follows:\n",
    "\n",
    "The left subtree of a node contains only nodes with keys less than the node's key.\n",
    "The right subtree of a node contains only nodes with keys greater than the node's key.\n",
    "Both the left and right subtrees must also be binary search trees."
   ]
  },
  {
   "cell_type": "code",
   "execution_count": null,
   "metadata": {},
   "outputs": [],
   "source": [
    "class Solution:\n",
    "    def isValidBST(self, root: Optional[TreeNode]) -> bool:\n",
    "        def dfs(node, lo, hi):\n",
    "            if node.left is not None and not dfs(node.left, lo, node.val):\n",
    "                return False\n",
    "            if node.right is not None and not dfs(node.right, node.val + 1, hi):\n",
    "                return False\n",
    "            return node.val in range(lo, hi)\n",
    "        return dfs(root, -1 << 100, 1 << 100)"
   ]
  },
  {
   "cell_type": "markdown",
   "metadata": {},
   "source": [
    "### 113. Path Sum II\n",
    "Given the root of a binary tree and an integer targetSum, return all root-to-leaf paths where the sum of the node values in the path equals targetSum. Each path should be returned as a list of the node values, not node references.\n",
    "A root-to-leaf path is a path starting from the root and ending at any leaf node. A leaf is a node with no children."
   ]
  },
  {
   "cell_type": "code",
   "execution_count": null,
   "metadata": {},
   "outputs": [],
   "source": [
    "class Solution:\n",
    "    def pathSum(self, root: Optional[TreeNode], targetSum: int) -> List[List[int]]:\n",
    "        res = []\n",
    "\n",
    "        def dfs(node, sum, path):\n",
    "            if node.left is None and node.right is None:\n",
    "                if sum == targetSum:\n",
    "                    res.append(path.copy()) #path is a list, ensure save current path\n",
    "            else:\n",
    "                if node.left is not None:\n",
    "                    path.append(node.left.val)\n",
    "                    dfs(node.left, sum + node.left.val, path)\n",
    "                    path.pop() #add a value, pop it\n",
    "                if node.right is not None:\n",
    "                    path.append(node.right.val)\n",
    "                    dfs(node.right, sum + node.right.val, path)\n",
    "                    path.pop()\n",
    "                \n",
    "        if root is not None:\n",
    "           dfs(root, root.val, [root.val])\n",
    "        return res"
   ]
  },
  {
   "cell_type": "markdown",
   "metadata": {},
   "source": [
    "### 124. Binary Tree Maximum Path Sum\n",
    "A path in a binary tree is a sequence of nodes where each pair of adjacent nodes in the sequence has an edge connecting them. A node can only appear in the sequence at most once. Note that the path does not need to pass through the root.\n",
    "\n",
    "The path sum of a path is the sum of the node's values in the path.\n",
    "\n",
    "Given the root of a binary tree, return the maximum path sum of any non-empty path."
   ]
  },
  {
   "cell_type": "code",
   "execution_count": null,
   "metadata": {},
   "outputs": [],
   "source": [
    "class Solution:\n",
    "    def maxPathSum(self, root: Optional[TreeNode]) -> int:\n",
    "        if root is None:\n",
    "            return 0\n",
    "        \n",
    "        def sum_subtree(node):\n",
    "            nonlocal max_sum\n",
    "            if node is None:\n",
    "                return 0\n",
    "            right_gain = max(sum_subtree(node.right), 0)\n",
    "            left_gain = max(sum_subtree(node.left), 0)\n",
    "            max_sum = max (max_sum, right_gain+left_gain+node.val)\n",
    "            return max(right_gain+node.val, left_gain+node.val)\n",
    "\n",
    "        max_sum = float('-inf')\n",
    "        sum_subtree(root)\n",
    "        return max_sum"
   ]
  }
 ],
 "metadata": {
  "kernelspec": {
   "display_name": "Python 3",
   "language": "python",
   "name": "python3"
  },
  "language_info": {
   "codemirror_mode": {
    "name": "ipython",
    "version": 3
   },
   "file_extension": ".py",
   "mimetype": "text/x-python",
   "name": "python",
   "nbconvert_exporter": "python",
   "pygments_lexer": "ipython3",
   "version": "3.8.3"
  }
 },
 "nbformat": 4,
 "nbformat_minor": 4
}
