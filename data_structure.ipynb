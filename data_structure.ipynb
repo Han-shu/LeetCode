{
 "cells": [
  {
   "cell_type": "markdown",
   "metadata": {},
   "source": [
    "# Data Structure"
   ]
  },
  {
   "cell_type": "markdown",
   "metadata": {},
   "source": [
    "* Lists\n",
    "    - Represents ordered sequences of items.\n",
    "    - Items can be of any data type, and they are enclosed in square brackets [].\n",
    "    - Lists are mutable, meaning you can change their content (add, remove, modify elements)."
   ]
  },
  {
   "cell_type": "code",
   "execution_count": 19,
   "metadata": {},
   "outputs": [
    {
     "name": "stdout",
     "output_type": "stream",
     "text": [
      "[1, 2, 'hi', [3, 4]]\n",
      "[1, 2, 'hi', [3, 4], 5]\n",
      "[1, 2, 'hello', 'hi', [3, 4], 5]\n",
      "[1, 2, 'hello', [3, 4], 5]\n",
      "[1, 2, [3, 4], 5]\n",
      "[1, 2, [3, 4], 5, 6, 7]\n",
      "[1, 2, [3, 4], 5, 6]\n",
      "[6, 5, [3, 4], 2, 1]\n",
      "[6, 5, 2, 1]\n",
      "[1, 2, 5, 6]\n",
      "[6, 5, 2, 1]\n",
      "index of 6 is:  0\n",
      "Number of 1:  1\n",
      "[]\n"
     ]
    }
   ],
   "source": [
    "my_list = [1,2,'hi',[3,4]]\n",
    "print(my_list)\n",
    "my_list.append(5)\n",
    "print(my_list)\n",
    "my_list.insert(2, 'hello')\n",
    "print(my_list)\n",
    "my_list.remove('hi')\n",
    "print(my_list)\n",
    "my_list.pop(2)\n",
    "print(my_list)\n",
    "my_list.extend([6,7])\n",
    "print(my_list)\n",
    "my_list.pop()\n",
    "print(my_list)\n",
    "my_list.reverse()\n",
    "print(my_list)\n",
    "my_list.remove([3,4])\n",
    "print(my_list)\n",
    "my_list.sort()\n",
    "print(my_list)\n",
    "my_list.sort(reverse=True)\n",
    "print(my_list)\n",
    "print(\"index of 6 is: \", my_list.index(6))\n",
    "print(\"Number of 1: \", my_list.count(1))\n",
    "my_list.clear()\n",
    "print(my_list)\n"
   ]
  },
  {
   "cell_type": "markdown",
   "metadata": {},
   "source": [
    "Use List as stack\n",
    "\n",
    "* Stack is a data structure that follows the Last-In-First-Out (LIFO) principle."
   ]
  },
  {
   "cell_type": "code",
   "execution_count": null,
   "metadata": {},
   "outputs": [],
   "source": [
    "stack = [1,2,3,4,5]\n",
    "stack.append(6)\n",
    "print(stack)\n",
    "stack.pop()\n",
    "print(stack)"
   ]
  },
  {
   "cell_type": "markdown",
   "metadata": {},
   "source": [
    "Use List as queue\n",
    "\n",
    "* Queue is a data structure that follows the First-In-First-Out (FIFO) principle."
   ]
  },
  {
   "cell_type": "code",
   "execution_count": null,
   "metadata": {},
   "outputs": [],
   "source": [
    "from collections import deque\n",
    "queue = deque([1,2,3,4,5])\n",
    "queue.append(6)\n",
    "print(queue)\n",
    "queue.popleft()\n",
    "print(queue)"
   ]
  },
  {
   "cell_type": "code",
   "execution_count": null,
   "metadata": {},
   "outputs": [],
   "source": [
    "a = [1,2,3,4,5]\n",
    "del a[0]\n",
    "print(a)\n",
    "del a[2:]\n",
    "print(a)"
   ]
  },
  {
   "cell_type": "markdown",
   "metadata": {},
   "source": [
    "* Dictionaries\n",
    "    - Represents key-value pairs.\n",
    "    - Uses curly braces {} with keys and associated values.\n",
    "    - Provides a way to access values using their keys.\n",
    "    - Dictionaries are also mutable."
   ]
  },
  {
   "cell_type": "code",
   "execution_count": null,
   "metadata": {},
   "outputs": [],
   "source": [
    "my_dict = {'name':'John', 'age':25}\n",
    "print(my_dict)\n",
    "print(my_dict['name'])\n",
    "print(my_dict.get('age'))\n",
    "print(\"list of keys:\", list(my_dict))\n",
    "print(my_dict.keys())\n",
    "print(my_dict.values())\n",
    "print(my_dict.items())\n",
    "my_dict['name'] = 'Jane'\n",
    "print(my_dict)\n",
    "my_dict['address'] = 'Seoul'\n",
    "print(my_dict)\n",
    "my_dict.pop('address')\n",
    "print(my_dict)\n",
    "my_dict.clear()\n",
    "print(my_dict)"
   ]
  },
  {
   "cell_type": "code",
   "execution_count": null,
   "metadata": {},
   "outputs": [],
   "source": [
    "my_dict = {'name':'John', 'age':25, 'address':'Seoul'}\n",
    "for key in my_dict.keys():\n",
    "    print(key)\n",
    "\n",
    "for key in list(my_dict):\n",
    "    print(key)"
   ]
  },
  {
   "cell_type": "markdown",
   "metadata": {},
   "source": [
    "*OrderedDict \n",
    "\n",
    "    A dictionary subclass in Python that remembers the order in which items were added."
   ]
  },
  {
   "cell_type": "code",
   "execution_count": null,
   "metadata": {},
   "outputs": [],
   "source": [
    "from collections import OrderedDict\n",
    "my_ordered_dict = OrderedDict()\n",
    "my_ordered_dict['name'] = 'John'\n",
    "my_ordered_dict['age'] = 25\n",
    "my_ordered_dict['address'] = 'Seoul'\n",
    "print(my_ordered_dict)\n",
    "my_ordered_dict.move_to_end('age')\n",
    "print(my_ordered_dict)\n",
    "my_ordered_dict.popitem()\n",
    "print(my_ordered_dict)\n",
    "my_ordered_dict.popitem(last=False)\n",
    "print(my_ordered_dict)\n",
    "my_ordered_dict.clear()\n",
    "print(my_ordered_dict)"
   ]
  },
  {
   "cell_type": "markdown",
   "metadata": {},
   "source": [
    "Counter\n",
    "\n",
    "    A dictionary subclass in Python that helps count hashable objects."
   ]
  },
  {
   "cell_type": "code",
   "execution_count": null,
   "metadata": {},
   "outputs": [],
   "source": [
    "from collections import Counter\n",
    "my_list = [1,2,3,4,5,5,5,6,6]\n",
    "my_counter = Counter(my_list)\n",
    "print(my_counter)\n",
    "print(my_counter[5])\n",
    "my_counter[1] -= 1\n",
    "print(my_counter)"
   ]
  },
  {
   "cell_type": "markdown",
   "metadata": {},
   "source": [
    "* Tuples\n",
    "    - Represents ordered, immutable sequences of elements.\n",
    "    - Enclosed in parentheses ().\n",
    "    - Similar to lists, but once created, their content cannot be changed.\n",
    "    - Used when you need a collection of items that should not be modified.\n",
    "    \n",
    "    A tuple consists of a number of values separated by commas, "
   ]
  },
  {
   "cell_type": "code",
   "execution_count": null,
   "metadata": {},
   "outputs": [],
   "source": [
    "my_tuple = (1,2,3,4,5)\n",
    "print(my_tuple)\n",
    "tuple2 = 6,7,8\n",
    "print(tuple2)"
   ]
  },
  {
   "cell_type": "markdown",
   "metadata": {},
   "source": [
    "* Sets\n",
    "    - Represents an unordered collection of unique elements.\n",
    "    - Enclosed in curly braces {} or the set() function.\n",
    "    - Does not allow duplicate values.\n",
    "    - Used for tasks that require testing for membership and eliminating duplicates.\n",
    "    - Create an empty set you have to use set(), not {} (an empty dictionary)."
   ]
  },
  {
   "cell_type": "code",
   "execution_count": null,
   "metadata": {},
   "outputs": [],
   "source": [
    "my_set = {1,2,3,4,5}\n",
    "print(my_set)\n",
    "my_set.add(6)\n",
    "print(my_set)\n",
    "my_set.update([7,8])\n",
    "print(my_set)\n",
    "my_set.remove(8)\n",
    "print(my_set)\n",
    "my_set.discard(7)\n",
    "print(my_set)\n",
    "my_set.pop()\n",
    "print(my_set)\n",
    "my_set.clear()\n",
    "print(my_set)\n",
    "set2 = set([1,2,3,4,5])\n",
    "print(\"set2 is \", set2)\n",
    "my_list = [1,2,3,4,5,5,5,5]\n",
    "set3 = set(my_list)\n",
    "print(\"set3 is \", set3)\n",
    "a = set('abracadabra')\n",
    "b = set('alacazam')\n",
    "print(a)\n",
    "print(a - b)                              # letters in a but not in b\n",
    "print(a | b)                              # letters in a or b or both\n",
    "print(a & b)                              # letters in both a and b\n",
    "print(a ^ b)                              # letters in a or b but not both      "
   ]
  },
  {
   "cell_type": "code",
   "execution_count": null,
   "metadata": {},
   "outputs": [],
   "source": [
    "# knights = {'gallahad': 'the pure', 'robin': 'the brave'}\n",
    "# for k, v in knights.items():\n",
    "#     print(k, v)\n",
    "\n",
    "# for i, v in enumerate(['tic', 'tac', 'toe']):\n",
    "#     print(i, v)"
   ]
  },
  {
   "cell_type": "code",
   "execution_count": null,
   "metadata": {},
   "outputs": [],
   "source": [
    "questions = ['name', 'quest', 'favorite color']\n",
    "answers = ['lancelot', 'the holy grail', 'blue']\n",
    "for q, a in zip(questions, answers):\n",
    "    print('What is your {0}?  It is {1}.'.format(q, a))"
   ]
  },
  {
   "cell_type": "markdown",
   "metadata": {},
   "source": [
    "* Booleans\n",
    "    - Represents a binary value, either True or False.\n",
    "    - Used for logical operations, comparisons, and control flow."
   ]
  },
  {
   "cell_type": "code",
   "execution_count": null,
   "metadata": {},
   "outputs": [],
   "source": [
    "import numpy as np\n",
    "\n",
    "m=700\n",
    "ans = (np.math.factorial(m)*np.math.factorial(m-1))/(np.math.factorial(m-100)*np.math.factorial(m+99))\n",
    "\n",
    "a = ['7', '9', '4'] \n",
    "print(a.reverse())\n",
    "print(a)\n",
    "a = ' '.join(a)\n",
    "print(a)\n",
    "\n"
   ]
  },
  {
   "cell_type": "code",
   "execution_count": null,
   "metadata": {},
   "outputs": [],
   "source": [
    "from fractions import Fraction\n",
    "from decimal import Decimal\n",
    "t = (13*12*4*6)/np.math.comb(52,5)\n",
    "Fraction(Decimal(t))"
   ]
  },
  {
   "cell_type": "code",
   "execution_count": null,
   "metadata": {},
   "outputs": [],
   "source": [
    "def addBinary(a, b):\n",
    "    return bin(int(a,2)+int(b,2))[2:]"
   ]
  },
  {
   "cell_type": "code",
   "execution_count": null,
   "metadata": {},
   "outputs": [],
   "source": [
    "def addBinary(A,B):\n",
    "    res = []\n",
    "    carry = 0\n",
    "    while A or B or carry:\n",
    "        if A:\n",
    "            carry += int(A.pop())\n",
    "        if B:\n",
    "            carry += int(B.pop())\n",
    "        res.append(str(carry%2)) # equal to res.append(str(carry&1))\n",
    "        carry //= 2 # equal to carry = carry >> 1\n",
    "    return ''.join(res[::-1])\n"
   ]
  },
  {
   "cell_type": "code",
   "execution_count": null,
   "metadata": {},
   "outputs": [],
   "source": [
    "words = [\"SEND\",\"MORE\"]\n",
    "letters = sorted(set(''.join(words)))"
   ]
  },
  {
   "cell_type": "code",
   "execution_count": null,
   "metadata": {},
   "outputs": [],
   "source": [
    "import random\n",
    "n = random.randrange(0,999)\n",
    "print(n)"
   ]
  },
  {
   "cell_type": "code",
   "execution_count": 16,
   "metadata": {},
   "outputs": [],
   "source": [
    "import random\n",
    "class guess_game:\n",
    "    def __init__(self):\n",
    "        self.n = random.randrange(0,999)\n",
    "        self.guess = []\n",
    "    \n",
    "    def query(self, num):\n",
    "        print(\"Guess: \", num)\n",
    "        self.guess.append(num)\n",
    "        if len(self.guess) == 1:\n",
    "            print(\"First guess\")\n",
    "            return \"First\"\n",
    "        else:\n",
    "            this = abs(self.guess[-1] - self.n)\n",
    "            last = abs(self.guess[-2] - self.n)\n",
    "            if this == last:\n",
    "                print(\"Same\")\n",
    "                return \"Same\"\n",
    "            elif this < last:\n",
    "                print(\"Closer\")\n",
    "                return \"Closer\"\n",
    "            else:\n",
    "                print(\"Farther\")\n",
    "                return \"Farther\"\n",
    "    def answer(self, res):\n",
    "        times = len(self.guess)\n",
    "        print(\"Guess times: \", times)\n",
    "        if res == self.n:\n",
    "            return print(\"Correct!\")\n",
    "        else:   \n",
    "            return print(\"Wrong!\")\n",
    "    \n",
    "    def stategy(self):\n",
    "        lo, hi = 0, 999\n",
    "        steps = 0\n",
    "        while steps < 20:\n",
    "            steps+=1\n",
    "            if self.guess == []:\n",
    "                guess = -1\n",
    "                result = self.query(guess)\n",
    "            else:\n",
    "                guess = (lo+hi) //2\n",
    "                result = self.query(guess)\n",
    "                if result == \"Closer\":\n",
    "                    if guess > self.guess[-2]:\n",
    "                        lo = (self.guess[-2]+guess) //2\n",
    "                    else:\n",
    "                        hi = (self.guess[-2]+guess) //2\n",
    "                elif result == \"Farther\":\n",
    "                    if guess > self.guess[-2]:\n",
    "                        hi = (guess+self.guess[-2]) //2\n",
    "                    else:\n",
    "                        lo = (guess+self.guess[-2]) //2\n",
    "                else:\n",
    "                    if guess != self.guess[-2]:\n",
    "                        print(self.answer((guess+self.guess[-2])//2))\n",
    "                        break\n",
    "                        return \"END\"\n",
    "                    else:\n",
    "                        guess = guess + 4\n",
    "\n",
    "\n"
   ]
  },
  {
   "cell_type": "code",
   "execution_count": 17,
   "metadata": {},
   "outputs": [
    {
     "name": "stdout",
     "output_type": "stream",
     "text": [
      "Guess:  -1\n",
      "First guess\n",
      "Guess:  499\n",
      "Closer\n",
      "Guess:  624\n",
      "Farther\n",
      "Guess:  405\n",
      "Closer\n",
      "Guess:  381\n",
      "Closer\n",
      "Guess:  321\n",
      "Closer\n",
      "Guess:  300\n",
      "Farther\n",
      "Guess:  330\n",
      "Closer\n",
      "Guess:  333\n",
      "Closer\n",
      "Guess:  341\n",
      "Closer\n",
      "Guess:  344\n",
      "Closer\n",
      "Guess:  346\n",
      "Closer\n",
      "Guess:  348\n",
      "Farther\n",
      "Guess:  346\n",
      "Closer\n",
      "Guess:  346\n",
      "Same\n",
      "Guess:  346\n",
      "Same\n",
      "Guess:  346\n",
      "Same\n",
      "Guess:  346\n",
      "Same\n",
      "Guess:  346\n",
      "Same\n",
      "Guess:  346\n",
      "Same\n"
     ]
    }
   ],
   "source": [
    "guess_game = guess_game()\n",
    "guess_game.stategy()\n"
   ]
  },
  {
   "cell_type": "code",
   "execution_count": 18,
   "metadata": {},
   "outputs": [
    {
     "data": {
      "text/plain": [
       "346"
      ]
     },
     "execution_count": 18,
     "metadata": {},
     "output_type": "execute_result"
    }
   ],
   "source": [
    "guess_game.n"
   ]
  },
  {
   "cell_type": "code",
   "execution_count": null,
   "metadata": {},
   "outputs": [],
   "source": [
    "import random\n",
    "\n",
    "def simulate_poker():\n",
    "    deck = [(value, suit) for value in range(1,14) for suit in ['spade', 'heart', 'diamond', 'club']]\n",
    "    random.shuffle(deck)\n",
    "    player1 = deck[:26]\n",
    "    player2 = deck[26:]\n",
    "    facedown = []\n",
    "\n",
    "    while player1 and player2:\n",
    "        p1= player1.pop()\n",
    "        p2=player2.pop()\n",
    "        if p1[0]>p2[0]:\n",
    "            player1.extend([p1+p2])\n",
    "            if facedown:\n",
    "                player1.extend(facedown)\n",
    "                facedown = []\n",
    "        elif p1[0] < p2[0]:\n",
    "            player2.extend([p1+p2])\n",
    "            if facedown:\n",
    "                player2.extend(facedown)\n",
    "                facedown = []\n",
    "        else:\n",
    "            if len(player1)>=4 and len(player2) >=4:\n",
    "                p1_facedown = player1[:3]\n",
    "                p2_facedown = player2[:3]\n",
    "                p1_faceup = player1[3]\n",
    "                p2_faceup = player2[3]\n",
    "                player1 = player1[4:]\n",
    "                player2 = player2[4:]\n",
    "                temp = p1_facedown + p2_facedown\n",
    "                facedown = facedown.append(i for i in temp)\n",
    "            else:\n",
    "                break\n",
    "    \n",
    "    if len(player1) > len(player2):\n",
    "        return \"Player1 wins!\"\n",
    "    elif len(player1) < len(player2):\n",
    "        return \"Player2 wins!\"\n",
    "    else:\n",
    "        return \"Draw!\""
   ]
  },
  {
   "cell_type": "code",
   "execution_count": null,
   "metadata": {},
   "outputs": [],
   "source": [
    "simulate_poker()"
   ]
  },
  {
   "cell_type": "code",
   "execution_count": 22,
   "metadata": {},
   "outputs": [],
   "source": [
    "a = [i for i in range(1,10) if i%2==0]*2"
   ]
  },
  {
   "cell_type": "code",
   "execution_count": 23,
   "metadata": {},
   "outputs": [
    {
     "data": {
      "text/plain": [
       "[2, 4, 6, 8, 2, 4, 6, 8]"
      ]
     },
     "execution_count": 23,
     "metadata": {},
     "output_type": "execute_result"
    }
   ],
   "source": [
    "a"
   ]
  }
 ],
 "metadata": {
  "kernelspec": {
   "display_name": "Python 3",
   "language": "python",
   "name": "python3"
  },
  "language_info": {
   "codemirror_mode": {
    "name": "ipython",
    "version": 3
   },
   "file_extension": ".py",
   "mimetype": "text/x-python",
   "name": "python",
   "nbconvert_exporter": "python",
   "pygments_lexer": "ipython3",
   "version": "3.10.6"
  },
  "orig_nbformat": 4
 },
 "nbformat": 4,
 "nbformat_minor": 2
}
