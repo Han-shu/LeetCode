{
 "cells": [
  {
   "cell_type": "markdown",
   "metadata": {},
   "source": [
    "# Dynamic Programming\n",
    "- [Dynamic Programming](#dynamic-programming)\n",
    "  - [Framework for DP](#framework-for-dp)\n",
    "  - [1D Probelm](#1d-probelm)\n",
    "  - [Multi-dimensional problems](#multi-dimensional-problems)\n",
    "  - [Matrix DP](#matrix-dp)\n",
    "## Problem\n",
    "- [House Robber](#house-robber)\n",
    "- [Coin Change](#coin-change)\n",
    "- [Best Time to Buy and Sell Stock](#best-time-to-buy-and-sell-stock)\n",
    "- [Match Strings](#match-strings)"
   ]
  },
  {
   "cell_type": "markdown",
   "metadata": {},
   "source": [
    "- [Dynamic Programming](#dynamic-programming)\n",
    "  - [What is Dynamic Programming](#what-is-dynamic-programming)\n",
    "  - [Top-down v.s. Bottom-up](#top-down-vs-bottom-up)\n",
    "  - [When to use DP](#when-to-use-dp)\n",
    "  - [State](#state)\n",
    "  - [Time and space complexity](#time-and-space-complexity)\n",
    "### What is Dynamic Programming\n",
    "- Optimized recursion\n",
    "- Memorization to avoid recomputation\n",
    "- Use array (if the range of states is know) or hash table (if the range of states is unknown) to store the intermediate results\n",
    "- Tree v.s. DP\n",
    "    - Tree: never repeate a state -- visit a node no more than once in DFS\n",
    "    - DP: repeat states many times\n",
    "- Example: Fibonacci number with recurrence relation `F(n) = F(n-1) + F(n-2)`\n",
    "    - Recursion: O(2^n) every call has 2 calls\n",
    "    - DP: O(n)\n",
    "```\n",
    "def fib(n):\n",
    "    if n == 0:\n",
    "        return 0\n",
    "    if n == 1:\n",
    "        return 1\n",
    "    return fib(n-1) + fib(n-2)\n",
    "```\n",
    "### Top-down v.s. Bottom-up\n",
    "- Way of impelementing the algorithm, Nothing different \n",
    "- Base cases and recurrence relation defines a DP algorithm\n",
    "- Top-down\n",
    "    - start from the top and move down towards the base case\n",
    "    - recursion + memorization\n",
    "    - call `fib(n)` and move down until reaching the base cases `fib(0)` and `fib(1)`\n",
    "    ```\n",
    "    def fib(n):\n",
    "        if n == 0:\n",
    "            return 0\n",
    "        if n == 1:\n",
    "            return 1\n",
    "        if n in memo:\n",
    "            return memo[n]\n",
    "        memo[n] = fib(n-1) + fib(n-2)\n",
    "        return memo[n]\n",
    "    memo = {} # Use a hash table to memorize the intermediate results\n",
    "    ```\n",
    "- Bottom-up\n",
    "    - start from the base case and move up towards the top\n",
    "    - iteration, aka. tabulation\n",
    "    ```\n",
    "    dp = [0] * (n+1)\n",
    "    dp[1] = 1\n",
    "    for i in range(2, n+1):\n",
    "        dp[i] = dp[i-1] + dp[i-2]\n",
    "    return dp[n]\n",
    "    ```\n",
    "- A bottom-up approach is usually more efficient than a top-down approach because it avoids the overhead of recursion\n",
    "- A top-down approach is easir to write as it follows the logic of the original problem\n",
    "### When to use DP\n",
    "- An optimal value or the number of ways to do something\n",
    "    - minimum cost/maximum profit\n",
    "    - number of ways to do something\n",
    "    - the longest possible ..\n",
    "- At each step, make a decision that can affect future decisions\n",
    "    - DP v.s. Greedy: greedy -- local decisison do not affect other decisions\n",
    "    - Example: [198. House Robber](https://leetcode.com/problems/house-robber/) \n",
    "        - DP -- the decision of robbing the current house will affect the decision of robbing the next house\n",
    "        - Greedy would not work\n",
    "        - `[2,7,9,3,1]` Greedy would choose `7` between `2,7` but the optimal solution is `2,9,1`\n",
    "### State\n",
    "- A set of variables that can fully describe a scenario\n",
    "- First step in DP: define the state, what variables are necessary\n",
    "- Common state variables\n",
    "    - An index along an inout string, array or number\n",
    "    - A second index \n",
    "    - Numerical constraints: number of obstacles that has been removed\n",
    "    - A boolean value indicating some binary property\n",
    "- Dimensions of the state\n",
    "    - 1D: a single index\n",
    "    - 2D: a pair of indices\n",
    "    - 3D: a triple of indices\n",
    "    - ...\n",
    "    - Example: 5 dimensions [1659. Maximize Grid Happiness](https://leetcode.com/problems/maximize-grid-happiness/)\n",
    "### Time and space complexity\n",
    "- Time complexity\n",
    "    - N possible states, work on each state is F => O(NF)\n",
    "- Space complexity\n",
    "    - O(N)\n",
    "    - N = the cardinality of the state\n",
    "        `i, k, holding` where `i` iterates over `nums`, `k` is given, and `holding` is a boolean. Then `N = len(nums) * k * 2` => $O(nk)$\n",
    "    - bottom-up can improve space complexity by using only the necessary states but not top-down\n"
   ]
  },
  {
   "cell_type": "markdown",
   "metadata": {},
   "source": [
    "## Framework for DP\n",
    "Example: [746. Min Cost Climbing Stairs](https://leetcode.com/problems/min-cost-climbing-stairs/)\n",
    "1. A function or data structure to compute for any state\n",
    "2. A recurrence relation to transition between states\n",
    "3. Base cases\n",
    "Optimize space complexiity is possible for bottom-up when the recurrence relation is static \n",
    "\n",
    "## 1D Probelm\n"
   ]
  },
  {
   "cell_type": "markdown",
   "metadata": {},
   "source": [
    "### House Robber\n",
    "- [198. House Robber](https://leetcode.com/problems/house-robber/)\n",
    "- [213. House Robber II](https://leetcode.com/problems/house-robber-ii/)\n",
    "- [337. House Robber III]"
   ]
  },
  {
   "cell_type": "code",
   "execution_count": 1,
   "metadata": {},
   "outputs": [
    {
     "ename": "UndefVarError",
     "evalue": "UndefVarError: `def` not defined",
     "output_type": "error",
     "traceback": [
      "UndefVarError: `def` not defined\n"
     ]
    }
   ],
   "source": [
    "# [198. House Robber](https://leetcode.com/problems/house-robber/) \n",
    "def rob(self, nums: List[int]) -> int:\n",
    "    n = len(nums)\n",
    "    dp = [0]*(n+1)\n",
    "    dp[1] = nums[0]\n",
    "    for i in range(2, n+1):\n",
    "        dp[i] = max(dp[i-1], dp[i-2]+nums[i-1])\n",
    "    return dp[-1]\n",
    "\n",
    "from functools import cache\n",
    "def rob(self, nums: List[int]) -> int:\n",
    "    @cache # automatically memoize the function\n",
    "    def dp(i):\n",
    "        if i == 0:\n",
    "            return nums[0]\n",
    "        if i == 1:\n",
    "            return max(nums[0], nums[1])\n",
    "        return max(dp(i-1), dp(i-2)+nums[i])\n",
    "    return dp(len(nums)-1)\n",
    "\n",
    "# O(1) space complexity\n",
    "def rob(self, nums: List[int]) -> int:\n",
    "    if len(nums) == 1:\n",
    "        return nums[0]\n",
    "    n = len(nums)\n",
    "    prev2 = nums[0]\n",
    "    prev1 = max(nums[0], nums[1])                                           \n",
    "    for i in range(2, n):\n",
    "        prev2, prev1 = prev1, max(prev1, prev2+nums[i])\n",
    "    return prev1\n",
    "\n",
    "# [213. House Robber II](https://leetcode.com/problems/house-robber-ii/)\n",
    "def rob(self, nums: List[int]) -> int:\n",
    "    if len(nums) == 1:\n",
    "        return nums[0]\n",
    "    def helper(nums):\n",
    "        prev2 = 0\n",
    "        prev1 = nums[0]                                          \n",
    "        for i in range(1, len(nums)):\n",
    "            prev2, prev1 = prev1, max(prev1, prev2+nums[i])\n",
    "        return prev1\n",
    "    return max(helper(nums[:-1]), helper(nums[1:]))\n",
    "\n",
    "def rob(self, nums: List[int]) -> int:\n",
    "    n = len(nums)\n",
    "    if n == 1:\n",
    "        return nums[0]\n",
    "    dp1 = [0]*n\n",
    "    dp2 = [0]*n\n",
    "    for i in range(1,n):\n",
    "        dp1[i] = max(dp1[i-1], dp1[max(0,i-2)]+nums[i-1])\n",
    "        dp2[i] = max(dp2[i-1], dp2[max(0,i-2)]+nums[i])\n",
    "    return max(dp1[-1],dp2[-1])\n",
    "\n",
    "# [337. House Robber III](https://leetcode.com/problems/house-robber-iii/)\n",
    "class Solution:\n",
    "    def rob(self, root: TreeNode) -> int:\n",
    "        def helper(node):\n",
    "            # return [rob this node, not rob this node]\n",
    "            if not node:\n",
    "                return (0, 0)\n",
    "            left = helper(node.left)\n",
    "            right = helper(node.right)\n",
    "            # if we rob this node, we cannot rob its children\n",
    "            rob = node.val + left[1] + right[1]\n",
    "            # else we could choose to either rob its children or not\n",
    "            not_rob = max(left) + max(right)\n",
    "            return [rob, not_rob]\n",
    "\n",
    "        return max(helper(root))"
   ]
  },
  {
   "cell_type": "code",
   "execution_count": 2,
   "metadata": {},
   "outputs": [
    {
     "ename": "UndefVarError",
     "evalue": "UndefVarError: `class` not defined",
     "output_type": "error",
     "traceback": [
      "UndefVarError: `class` not defined\n"
     ]
    }
   ],
   "source": [
    "# [746. Min Cost Climbing Stairs](https://leetcode.com/problems/min-cost-climbing-stairs/)\n",
    "class Solution:\n",
    "    def minCostClimbingStairs(self, cost: List[int]) -> int:\n",
    "        def dp(state):\n",
    "            if state <= 1:\n",
    "                return 0\n",
    "            if state in memo:\n",
    "                return memo[state]\n",
    "            else:\n",
    "                memo[state] = min(dp(state-1)+cost[state-1],dp(state-2)+cost[state-2])\n",
    "                return memo[state]\n",
    "        memo = {}\n",
    "        return dp(len(cost))\n",
    "        \n",
    "        # bottom up\n",
    "    def minCostClimbingStairs(self, cost: List[int]) -> int:\n",
    "        n = len(cost)\n",
    "        dp = [0]*(n+1)\n",
    "        for i in range(2,n+1):\n",
    "            dp[i] = min(dp[i-1]+cost[i-1], dp[i-2]+cost[i-2])\n",
    "        return dp[n]"
   ]
  },
  {
   "cell_type": "code",
   "execution_count": 3,
   "metadata": {},
   "outputs": [
    {
     "ename": "UndefVarError",
     "evalue": "UndefVarError: `def` not defined",
     "output_type": "error",
     "traceback": [
      "UndefVarError: `def` not defined\n"
     ]
    }
   ],
   "source": [
    "# [300. Longest Increasing Subsequence](https://leetcode.com/problems/longest-increasing-subsequence/)\n",
    "def lengthOfLIS(self, nums: List[int]) -> int:\n",
    "    n = len(nums)\n",
    "    dp = [1]*n # Each element is an increasing subsequence of length 1\n",
    "    # dp[i] length of the longest increasing subsequence that ends at index i\n",
    "    for i in range(1, n):\n",
    "        for j in range(i):\n",
    "            if nums[i] > nums[j]:\n",
    "                dp[i] = max(dp[i], dp[j]+1)\n",
    "    return max(dp)"
   ]
  },
  {
   "cell_type": "code",
   "execution_count": 4,
   "metadata": {},
   "outputs": [
    {
     "ename": "UndefVarError",
     "evalue": "UndefVarError: `class` not defined",
     "output_type": "error",
     "traceback": [
      "UndefVarError: `class` not defined\n"
     ]
    }
   ],
   "source": [
    "# [2140. Solving Questions With Brainpower](https://leetcode.com/problems/solving-questions-with-brainpower/)\n",
    "class Solution:\n",
    "    # top down\n",
    "    def mostPoints(self, questions: List[List[int]]) -> int:\n",
    "        @cache\n",
    "        def dp(i):\n",
    "            if i>=len(questions):\n",
    "                return 0\n",
    "            j = i+questions[i][1]+1\n",
    "            return max(dp(j)+questions[i][0], dp(i+1))\n",
    "        return dp(0)\n",
    "\n",
    "    # bottom up\n",
    "    def mostPoints(self, questions: List[List[int]]) -> int:\n",
    "        n = len(questions)\n",
    "        dp = [0]*(n+1)\n",
    "        for i in range(n-1, -1, -1):\n",
    "            j = i+questions[i][1]+1\n",
    "            dp[i] = max(dp[j]+questions[i][0], dp[i+1])\n",
    "        return dp[0]"
   ]
  },
  {
   "cell_type": "markdown",
   "metadata": {},
   "source": [
    "### Coin Change\n",
    "- [322. Coin Change](https://leetcode.com/problems/coin-change/)\n",
    "- [518. Coin Change 2](https://leetcode.com/problems/coin-change-2/)"
   ]
  },
  {
   "cell_type": "code",
   "execution_count": 5,
   "metadata": {},
   "outputs": [
    {
     "ename": "UndefVarError",
     "evalue": "UndefVarError: `class` not defined",
     "output_type": "error",
     "traceback": [
      "UndefVarError: `class` not defined\n"
     ]
    }
   ],
   "source": [
    "# [70. Climbing Stairs](https://leetcode.com/problems/climbing-stairs/)\n",
    "# [322. Coin Change](https://leetcode.com/problems/coin-change/)\n",
    "class Solution:\n",
    "    # top down\n",
    "    def coinChange(self, coins: List[int], amount: int) -> int:\n",
    "        @cache\n",
    "        def dp(i):\n",
    "            if i == 0:\n",
    "                return 0\n",
    "            if i < 0:\n",
    "                return math.inf\n",
    "            return min(1+dp(i-coin) for coin in coins)\n",
    "        val = dp(amount)\n",
    "        return val if val<math.inf else -1\n",
    "    # bottom up\n",
    "    def coinChange(self, coins: List[int], amount: int) -> int:\n",
    "        dp = [math.inf]*(amount+1)\n",
    "        dp[0] = 0\n",
    "        for coin in coins:\n",
    "            for i in range(coin, amount+1):\n",
    "                dp[i] = min(dp[i], dp[i-coin]+1)\n",
    "        return dp[amount] if dp[amount]<math.inf else -1\n",
    "\n",
    "# [518. Coin Change 2](https://leetcode.com/problems/coin-change-2/)\n",
    "class Solution:\n",
    "    def change(self, amount: int, coins: List[int]) -> int:        \n",
    "        dp = [0] * (amount + 1)\n",
    "        dp[0] = 1\n",
    "        for c in coins:\n",
    "            for i in range(amount - c + 1):\n",
    "                dp[i + c] += dp[i]\n",
    "        return dp[amount]"
   ]
  },
  {
   "cell_type": "markdown",
   "metadata": {},
   "source": [
    "## Multi-dimensional problems"
   ]
  },
  {
   "cell_type": "code",
   "execution_count": 6,
   "metadata": {},
   "outputs": [
    {
     "ename": "UndefVarError",
     "evalue": "UndefVarError: `class` not defined",
     "output_type": "error",
     "traceback": [
      "UndefVarError: `class` not defined\n"
     ]
    }
   ],
   "source": [
    "# [1143. Longest Common Subsequence](https://leetcode.com/problems/longest-common-subsequence/)\n",
    "class Solution:\n",
    "    # top down\n",
    "    def longestCommonSubsequence(self, text1: str, text2: str) -> int:\n",
    "        @cache\n",
    "        def dp(i,j):\n",
    "            if i==-1 or j == -1:\n",
    "                return 0\n",
    "            if text1[i] == text2[j]:\n",
    "                return 1+dp(i-1, j-1)\n",
    "            return max(dp(i-1,j), dp(i,j-1))\n",
    "        return dp(len(text1)-1, len(text2)-1)\n",
    "    # bottom up\n",
    "    def longestCommonSubsequence(self, text1: str, text2: str) -> int:   \n",
    "        n1, n2 = len(text1), len(text2)\n",
    "        dp = [[0]*(n2+1) for _ in range(n1+1)]\n",
    "        for i in range(1,n1+1):\n",
    "            for j in range(1, n2+1):\n",
    "                if text1[i-1] == text2[j-1]:\n",
    "                    dp[i][j] = dp[i-1][j-1]+1\n",
    "                dp[i][j] = max(dp[i-1][j], dp[i][j-1])\n",
    "        return dp[-1][-1]"
   ]
  },
  {
   "cell_type": "code",
   "execution_count": 7,
   "metadata": {},
   "outputs": [
    {
     "ename": "UndefVarError",
     "evalue": "UndefVarError: `class` not defined",
     "output_type": "error",
     "traceback": [
      "UndefVarError: `class` not defined\n"
     ]
    }
   ],
   "source": [
    "# [2218. Maximum Value of K Coins From Piles](https://leetcode.com/problems/maximum-value-of-k-coins-from-piles/)\n",
    "class Solution:\n",
    "    def maxValueOfCoins(self, piles: List[List[int]], k: int) -> int:\n",
    "        dp = [0] * (k + 1)\n",
    "        for ps in piles:\n",
    "            for m in reversed(range(1, k + 1)):\n",
    "                cnt_sum = 0\n",
    "                n = m\n",
    "                for p in ps:\n",
    "                    cnt_sum += p\n",
    "                    n -= 1\n",
    "                    if n < 0:\n",
    "                        break\n",
    "                    dp[m] = max(dp[m], dp[n] + cnt_sum)\n",
    "        return dp[k]\n",
    "    # two dimensional dp\n",
    "    def maxValueOfCoins(self, piles: List[List[int]], k: int) -> int:\n",
    "        n=len(piles)\n",
    "        dp = [[0]*(k+1) for _ in range(n+1)]\n",
    "        for i in reversed(range(n)): # iterate from the last pile\n",
    "            for j in range(1,k+1):\n",
    "                dp[i][j] = dp[i+1][j]\n",
    "                curr,take = 0,0\n",
    "                for p in piles[i]:\n",
    "                    take += 1\n",
    "                    curr += p\n",
    "                    if take > j:\n",
    "                        break\n",
    "                    dp[i][j] = max(dp[i][j], curr+dp[i+1][j-take])\n",
    "        return dp[0][k]"
   ]
  },
  {
   "cell_type": "markdown",
   "metadata": {},
   "source": [
    "### Best Time to Buy and Sell Stock\n",
    "- [121. Best Time to Buy and Sell Stock](https://leetcode.com/problems/best-time-to-buy-and-sell-stock/)\n",
    "- [122. Best Time to Buy and Sell Stock II](https://leetcode.com/problems/best-time-to-buy-and-sell-stock-ii/)\n",
    "- [123. Best Time to Buy and Sell Stock III](https://leetcode.com/problems/best-time-to-buy-and-sell-stock-iii/)\n",
    "- [188. Best Time to Buy and Sell Stock IV](https://leetcode.com/problems/best-time-to-buy-and-sell-stock-iv/)\n",
    "- [309. Best Time to Buy and Sell Stock with Cooldown](https://leetcode.com/problems/best-time-to-buy-and-sell-stock-with-cooldown/)\n",
    "- [714. Best Time to Buy and Sell Stock with Transaction Fee](https://leetcode.com/problems/best-time-to-buy-and-sell-stock-with-transaction-fee/) "
   ]
  },
  {
   "cell_type": "code",
   "execution_count": 8,
   "metadata": {},
   "outputs": [
    {
     "ename": "UndefVarError",
     "evalue": "UndefVarError: `def` not defined",
     "output_type": "error",
     "traceback": [
      "UndefVarError: `def` not defined\n"
     ]
    }
   ],
   "source": [
    "# [121. Best Time to Buy and Sell Stock](https://leetcode.com/problems/best-time-to-buy-and-sell-stock/)\n",
    "def maxProfit(self, prices: List[int]) -> int:\n",
    "    n = len(prices)\n",
    "    min_buy = prices[0]\n",
    "    ans = 0\n",
    "    for i in range(1,n):\n",
    "        min_buy = min(min_buy, prices[i-1])\n",
    "        ans = max(ans, prices[i] - min_buy)\n",
    "    return ans\n",
    "\n",
    "# [122. Best Time to Buy and Sell Stock II](https://leetcode.com/problems/best-time-to-buy-and-sell-stock-ii/)\n",
    "def maxProfit(self, prices: List[int]) -> int:\n",
    "    n = len(prices)\n",
    "    dp = [[-math.inf]*2 for _ in range(n+1)]\n",
    "    dp[0][0] = 0\n",
    "    for i in range(n): # Why not n+1? \n",
    "        # dp[i][X]: before the start of ith day (after i-1th day)\n",
    "        dp[i+1][0] = max(dp[i][0], dp[i][1] + prices[i])\n",
    "        dp[i+1][1] = max(dp[i][1], dp[i][0] - prices[i])\n",
    "    return dp[n][0]"
   ]
  },
  {
   "cell_type": "code",
   "execution_count": 9,
   "metadata": {},
   "outputs": [
    {
     "ename": "UndefVarError",
     "evalue": "UndefVarError: `class` not defined",
     "output_type": "error",
     "traceback": [
      "UndefVarError: `class` not defined\n"
     ]
    }
   ],
   "source": [
    "# [123. Best Time to Buy and Sell Stock III]\n",
    "# You are given an array prices where prices[i] is the price of a given stock on the ith day. Find the maximum profit you can achieve. You may complete at most two transactions.\n",
    "class Solution:\n",
    "    def maxProfit(self, prices: List[int]) -> int:\n",
    "        n = len(prices)\n",
    "        f = [0]*n\n",
    "        g = [0]*n\n",
    "        if n == 1:\n",
    "            return 0\n",
    "        min_val = prices[0]\n",
    "        for i in range(1,len(prices)):\n",
    "            f[i] = max(f[i-1], prices[i] - min_val)\n",
    "            min_val = min(min_val, prices[i])\n",
    "        max_val = prices[-1]\n",
    "        for i in reversed(range(len(prices)-1)):\n",
    "            g[i] = max(g[i+1], max_val - prices[i])\n",
    "            max_val = max(max_val, prices[i])\n",
    "        return max(f[n-1], max(f[i]+g[i+1] for i in range(n-1)))"
   ]
  },
  {
   "cell_type": "code",
   "execution_count": 10,
   "metadata": {},
   "outputs": [],
   "source": [
    "# [188. Best Time to Buy and Sell Stock IV](https://leetcode.com/problems/best-time-to-buy-and-sell-stock-iv/)"
   ]
  },
  {
   "cell_type": "code",
   "execution_count": 11,
   "metadata": {},
   "outputs": [
    {
     "ename": "UndefVarError",
     "evalue": "UndefVarError: `class` not defined",
     "output_type": "error",
     "traceback": [
      "UndefVarError: `class` not defined\n"
     ]
    }
   ],
   "source": [
    "# [714. Best Time to Buy and Sell Stock with Transaction Fee] (https://leetcode.com/problems/best-time-to-buy-and-sell-stock-with-transaction-fee/)\n",
    "class Solution:\n",
    "    def maxProfit(self, prices: List[int], fee: int) -> int:\n",
    "        n = len(prices)\n",
    "        dp = [[-math.inf]*2 for _ in range(n + 1)]\n",
    "        dp[0][0] = 0\n",
    "        for i in range(n):\n",
    "            # dp[i]: before the start of ith day => dp[i + 1] \n",
    "            dp[i + 1][0] = max(dp[i][0], dp[i][1] + prices[i] - fee)\n",
    "            dp[i + 1][1] = max(dp[i][1], dp[i][0] - prices[i])\n",
    "        return dp[n][0]"
   ]
  },
  {
   "cell_type": "code",
   "execution_count": 12,
   "metadata": {},
   "outputs": [
    {
     "ename": "UndefVarError",
     "evalue": "UndefVarError: `class` not defined",
     "output_type": "error",
     "traceback": [
      "UndefVarError: `class` not defined\n"
     ]
    }
   ],
   "source": [
    "# Best Time to Buy and Sell Stock with Cooldown (https://leetcode.com/problems/best-time-to-buy-and-sell-stock-with-cooldown/)\n",
    "class Solution:\n",
    "    def maxProfit(self, prices: List[int]) -> int:\n",
    "        n = len(prices)\n",
    "        dp = [[[-math.inf]*2 for _ in range(2)] for _ in range(n+1)]\n",
    "        #day, hold, cooldown\n",
    "        dp[0][0][0] = 0\n",
    "        dp[0][0][1] = 0\n",
    "        for i in range(n):\n",
    "            dp[i+1][0][0] = max(dp[i][0][0], dp[i][0][1])\n",
    "            dp[i+1][0][1] = dp[i][1][0] + prices[i] #sell\n",
    "            dp[i+1][1][0] = max(dp[i][1][0], dp[i][0][0] - prices[i])\n",
    "        return max(dp[n][0][1], dp[n][0][0])"
   ]
  },
  {
   "cell_type": "markdown",
   "metadata": {},
   "source": [
    "## Matrix DP\n",
    "- The matrix can be modeled as a graph"
   ]
  },
  {
   "cell_type": "code",
   "execution_count": 13,
   "metadata": {},
   "outputs": [
    {
     "ename": "UndefVarError",
     "evalue": "UndefVarError: `class` not defined",
     "output_type": "error",
     "traceback": [
      "UndefVarError: `class` not defined\n"
     ]
    }
   ],
   "source": [
    "# [62. Unique Paths](https://leetcode.com/problems/unique-paths/)\n",
    "class Solution:\n",
    "    def uniquePaths(self, m: int, n: int) -> int:\n",
    "        dp = [[1]*n for _ in range(m)]\n",
    "        #dp[i][j] num of unique paths to move to grid[i][j] from grid[0][0]\n",
    "        for i in range(1,m):\n",
    "            for j in range(1,n):\n",
    "                dp[i][j] = dp[i][j-1]+dp[i-1][j]\n",
    "        return dp[-1][-1]"
   ]
  },
  {
   "cell_type": "code",
   "execution_count": 14,
   "metadata": {},
   "outputs": [
    {
     "ename": "UndefVarError",
     "evalue": "UndefVarError: `class` not defined",
     "output_type": "error",
     "traceback": [
      "UndefVarError: `class` not defined\n"
     ]
    }
   ],
   "source": [
    "# [64. Minimum Path Sum](https://leetcode.com/problems/minimum-path-sum/)\n",
    "class Solution:\n",
    "    def minPathSum(self, grid: List[List[int]]) -> int:\n",
    "        m,n = len(grid), len(grid[0])\n",
    "        dp = [[math.inf]*n for _ in range(m)]\n",
    "        dp[0][0] = grid[0][0]\n",
    "        # dp[i][j]: min sum when arriving grid[i][j]\n",
    "        for i in range(m):\n",
    "            for j in range(n):\n",
    "                if i>0:\n",
    "                    dp[i][j] = min(dp[i][j], grid[i][j]+dp[i-1][j])\n",
    "                if j>0:\n",
    "                    dp[i][j] = min(dp[i][j], grid[i][j]+dp[i][j-1])\n",
    "        return dp[-1][-1]\n",
    "\n",
    "    def minPathSum(self, grid: List[List[int]]) -> int:\n",
    "        m,n = len(grid), len(grid[0])\n",
    "        dp = [[math.inf]*(n+1) for _ in range(m+1)]\n",
    "        dp[0][1] = dp[1][0] = 0\n",
    "        # dp[i+1][j+1]: min sum when arriving grid[i][j]\n",
    "        for i in range(m):\n",
    "            for j in range(n):\n",
    "                dp[i+1][j+1] = grid[i][j] + min(dp[i][j+1], dp[i+1][j])\n",
    "        return dp[-1][-1]"
   ]
  },
  {
   "cell_type": "code",
   "execution_count": 15,
   "metadata": {},
   "outputs": [
    {
     "ename": "UndefVarError",
     "evalue": "UndefVarError: `class` not defined",
     "output_type": "error",
     "traceback": [
      "UndefVarError: `class` not defined\n"
     ]
    }
   ],
   "source": [
    "# Unique path II (https://leetcode.com/problems/unique-paths-ii/)\n",
    "class Solution:\n",
    "    def uniquePathsWithObstacles(self, obstacleGrid: List[List[int]]) -> int:\n",
    "        m, n = len(obstacleGrid), len(obstacleGrid[0])\n",
    "        dp = [[0]*n for _ in range(m)]\n",
    "        if obstacleGrid[0][0] == 0:\n",
    "            dp[0][0] = 1\n",
    "        # dp[i][j] max number of unique paths to reach [i][j]\n",
    "        for i in range(m):\n",
    "            for j in range(n):\n",
    "                if obstacleGrid[i][j] != 1:\n",
    "                    if i > 0:\n",
    "                        dp[i][j] += dp[i-1][j]\n",
    "                    if j > 0:\n",
    "                        dp[i][j] += dp[i][j-1]\n",
    "        return dp[-1][-1]"
   ]
  },
  {
   "cell_type": "code",
   "execution_count": 16,
   "metadata": {},
   "outputs": [
    {
     "ename": "UndefVarError",
     "evalue": "UndefVarError: `class` not defined",
     "output_type": "error",
     "traceback": [
      "UndefVarError: `class` not defined\n"
     ]
    }
   ],
   "source": [
    "# Minimum Falling Path Sum (https://leetcode.com/problems/minimum-falling-path-sum/)\n",
    "class Solution:\n",
    "    def minFallingPathSum(self, matrix: List[List[int]]) -> int:\n",
    "        n = len(matrix)\n",
    "        dp = [[0]*n for _ in range(n+1)]\n",
    "        for i in range(n):\n",
    "            for j in range(n):\n",
    "                dp[i+1][j] = dp[i][j]\n",
    "                if j < n-1:\n",
    "                    dp[i+1][j] = min(dp[i+1][j], dp[i][j+1])\n",
    "                if j > 0:\n",
    "                    dp[i+1][j] = min(dp[i+1][j], dp[i][j-1])\n",
    "                dp[i+1][j] += matrix[i][j]\n",
    "        return min(dp[-1])"
   ]
  },
  {
   "cell_type": "code",
   "execution_count": 17,
   "metadata": {},
   "outputs": [
    {
     "ename": "UndefVarError",
     "evalue": "UndefVarError: `class` not defined",
     "output_type": "error",
     "traceback": [
      "UndefVarError: `class` not defined\n"
     ]
    }
   ],
   "source": [
    "# 174. Dungeon Game\n",
    "class Solution:\n",
    "    def calculateMinimumHP(self, dungeon: List[List[int]]) -> int:\n",
    "        m,n = len(dungeon), len(dungeon[0])\n",
    "        dp = [[math.inf]*n for _ in range(m)]\n",
    "        def helper(curr, row, col):\n",
    "            if row >= len(dungeon) or col >= len(dungeon[0]):\n",
    "                return math.inf\n",
    "            return max(1, dp[row][col]-curr)\n",
    "        for i in reversed(range(m)):\n",
    "            for j in reversed(range(n)):\n",
    "                curr = dungeon[i][j]\n",
    "                right_health = helper(curr, i,j+1)\n",
    "                down_health = helper(curr, i+1,j)\n",
    "                min_health = min(right_health, down_health)\n",
    "                if min_health == math.inf:\n",
    "                    min_health = 1 if curr >= 0 else 1-curr\n",
    "                dp[i][j] = min_health\n",
    "        return dp[0][0]"
   ]
  },
  {
   "cell_type": "markdown",
   "metadata": {},
   "source": [
    "## More problems"
   ]
  },
  {
   "cell_type": "markdown",
   "metadata": {},
   "source": [
    "### Match Strings\n",
    "- [5. Longest Palindromic Substring](https://leetcode.com/problems/longest-palindromic-substring/)\n",
    "- [72. Edit Distance](https://leetcode.com/problems/edit-distance/)\n",
    "- [115. Distinct Subsequences](https://leetcode.com/problems/distinct-subsequences/)\n",
    "- [516. Longest Palindromic Subsequence](https://leetcode.com/problems/longest-palindromic-subsequence/)"
   ]
  },
  {
   "cell_type": "code",
   "execution_count": 18,
   "metadata": {},
   "outputs": [
    {
     "ename": "UndefVarError",
     "evalue": "UndefVarError: `class` not defined",
     "output_type": "error",
     "traceback": [
      "UndefVarError: `class` not defined\n"
     ]
    }
   ],
   "source": [
    "# [5. Longest Palindromic Substring](https://leetcode.com/problems/longest-palindromic-substring/)\n",
    "class Solution:\n",
    "    def longestPalindrome(self, s: str) -> str:\n",
    "        # Two pointers\n",
    "        def check(le, ri):\n",
    "            while le >=0 and ri < n:\n",
    "                if s[le] == s[ri]:\n",
    "                    le -= 1\n",
    "                    ri += 1\n",
    "                else:\n",
    "                    break\n",
    "            return le, ri\n",
    "\n",
    "        n = len(s)\n",
    "        curr, ans = 0, None\n",
    "        for i in range(n):\n",
    "            # odd length\n",
    "            le, ri = check(i,i)\n",
    "            if ri-le-1 > curr:\n",
    "                ans = [le+1, ri-1]\n",
    "                curr = ri-le-1\n",
    "            # even length\n",
    "            le, ri = check(i, i+1)\n",
    "            if ri-le-1 > curr:\n",
    "                ans = [le+1, ri-1]\n",
    "                curr = ri-le-1\n",
    "        return s[ans[0]:ans[1]+1]\n",
    "\n",
    "    def longestPalindrome(self, s: str) -> str:\n",
    "        # DP\n",
    "        n=len(s)\n",
    "        dp = [[False]*n for _ in range(n)]\n",
    "        ans = [0,0]\n",
    "        for i in range(n):\n",
    "            dp[i][i] = True\n",
    "        for i in range(n-1):\n",
    "            if s[i] == s[i+1]:\n",
    "                dp[i][i+1] = True\n",
    "                ans = [i, i+1]\n",
    "        for diff in range(2, n):\n",
    "            for i in range(n-diff):\n",
    "                j = i+diff\n",
    "                if s[i] == s[j] and dp[i+1][j-1]:\n",
    "                    dp[i][j] = True\n",
    "                    ans = [i, j]\n",
    "        return s[ans[0]:ans[1]+1]"
   ]
  },
  {
   "cell_type": "code",
   "execution_count": 19,
   "metadata": {},
   "outputs": [
    {
     "ename": "UndefVarError",
     "evalue": "UndefVarError: `def` not defined",
     "output_type": "error",
     "traceback": [
      "UndefVarError: `def` not defined\n"
     ]
    }
   ],
   "source": [
    "# [72. Edit Distance](https://leetcode.com/problems/edit-distance/)\n",
    "def minDistance(self, word1: str, word2: str) -> int:\n",
    "    n, m = len(word1), len(word2)\n",
    "    dp = [[0]*(m+1) for _ in range(n+1)]\n",
    "    # dp[i][j] represents steps needed to match word1[:i] and word2[:j]\n",
    "    for i in range(n+1):\n",
    "        for j in range(m+1):\n",
    "            if i == 0 or j == 0: # boundary condition\n",
    "                dp[i][j] = max(i,j) \n",
    "            else: #i>0 and j>0     #delete, insert, replace\n",
    "                dp[i][j] = 1 + min(dp[i-1][j], dp[i][j-1], dp[i-1][j-1])\n",
    "                if word1[i-1] == word2[j-1]: # match\n",
    "                    dp[i][j] = min(dp[i-1][j-1], dp[i][j])\n",
    "    return dp[n][m]"
   ]
  },
  {
   "cell_type": "code",
   "execution_count": 20,
   "metadata": {},
   "outputs": [
    {
     "ename": "UndefVarError",
     "evalue": "UndefVarError: `class` not defined",
     "output_type": "error",
     "traceback": [
      "UndefVarError: `class` not defined\n"
     ]
    }
   ],
   "source": [
    "# [115. Distinct Subsequences](https://leetcode.com/problems/distinct-subsequences/)\n",
    "# Given two strings s and t, return the number of distinct subsequences of s which equals t.\n",
    "class Solution:\n",
    "    def numDistinct(self, s: str, t: str) -> int:\n",
    "        dp = [[0] * (len(t) + 1) for _ in range(len(s) + 1)]\n",
    "        for i in range(len(s) + 1):\n",
    "            dp[i][0] = 1\n",
    "        for i in range(1, len(s) + 1):\n",
    "            for j in range(1, len(t) + 1):\n",
    "                dp[i][j] = dp[i - 1][j]\n",
    "                if s[i - 1] == t[j - 1]:\n",
    "                    dp[i][j] += dp[i - 1][j - 1]\n",
    "        return dp[len(s)][len(t)]"
   ]
  },
  {
   "cell_type": "code",
   "execution_count": 21,
   "metadata": {},
   "outputs": [
    {
     "ename": "UndefVarError",
     "evalue": "UndefVarError: `class` not defined",
     "output_type": "error",
     "traceback": [
      "UndefVarError: `class` not defined\n"
     ]
    }
   ],
   "source": [
    "# [516. Longest Palindromic Subsequence](https://leetcode.com/problems/longest-palindromic-subsequence/)\n",
    "class Solution:\n",
    "    def longestPalindromeSubseq(self, s: str) -> int:\n",
    "        n = len(s)\n",
    "        dp = [[0] * n for _ in range(n)]\n",
    "        for i in reversed(range(n)):\n",
    "            dp[i][i] = 1\n",
    "            for j in range(i + 1, n):\n",
    "                dp[i][j] = max(dp[i + 1][j], dp[i][j - 1])\n",
    "                if s[i] == s[j]:\n",
    "                    dp[i][j] = max(dp[i][j], dp[i + 1][j - 1] + 2)\n",
    "        return dp[0][n - 1]"
   ]
  },
  {
   "cell_type": "code",
   "execution_count": 22,
   "metadata": {},
   "outputs": [
    {
     "ename": "UndefVarError",
     "evalue": "UndefVarError: `class` not defined",
     "output_type": "error",
     "traceback": [
      "UndefVarError: `class` not defined\n"
     ]
    }
   ],
   "source": [
    "# [10. Regular Expression Matching](https://leetcode.com/problems/regular-expression-matching/)\n",
    "class Solution:\n",
    "    def isMatch(self, s: str, p: str) -> bool:\n",
    "        n, m = len(s), len(p)\n",
    "        dp = [[False] * (m + 1) for _ in range(n + 1)]\n",
    "        dp[0][0] = True\n",
    "        for i in range(1, m + 1):\n",
    "            if p[i - 1] == \"*\":\n",
    "                dp[0][i] = dp[0][i - 2]\n",
    "        for i in range(1, n + 1):\n",
    "            for j in range(1, m + 1):\n",
    "                if p[j - 1] == \"*\": # why this condition? * can be used to match 0 or more of the preceding element\n",
    "                    dp[i][j] = dp[i][j-2] or (dp[i-1][j] and (s[i-1] == p[j-2] or p[j-2] == \".\"))\n",
    "                else:\n",
    "                    dp[i][j] = dp[i-1][j-1] and (s[i-1] == p[j-1] or p[j-1] == \".\")\n",
    "        return dp[n][m]"
   ]
  },
  {
   "cell_type": "markdown",
   "metadata": {},
   "source": [
    "### Subarray\n",
    "- [53. Maximum Subarray]\n",
    "- [152. Maximum Product Subarray]\n"
   ]
  },
  {
   "cell_type": "code",
   "execution_count": 23,
   "metadata": {},
   "outputs": [
    {
     "ename": "UndefVarError",
     "evalue": "UndefVarError: `class` not defined",
     "output_type": "error",
     "traceback": [
      "UndefVarError: `class` not defined\n"
     ]
    }
   ],
   "source": [
    "# [53. Maximum Subarray](https://leetcode.com/problems/maximum-subarray/)\n",
    "class Solution:\n",
    "    def maxSubArray(self, nums: List[int]) -> int:\n",
    "        # Kadane's algorithm\n",
    "        curr = res = nums[0]\n",
    "        for i in range(1, len(nums)):\n",
    "            curr = max(curr,0)\n",
    "            curr += nums[i]\n",
    "            res = max(res,curr)\n",
    "        return res\n",
    "    \n",
    "    def maxSubArray(self, nums: List[int]) -> int:\n",
    "        # dp[i] = max sum ending at index i\n",
    "        dp = [i for i in nums]\n",
    "        for i in range(1,len(nums)):\n",
    "            dp[i] = max(dp[i-1]+nums[i],nums[i])\n",
    "        return max(dp)"
   ]
  },
  {
   "cell_type": "code",
   "execution_count": 24,
   "metadata": {},
   "outputs": [
    {
     "ename": "UndefVarError",
     "evalue": "UndefVarError: `class` not defined",
     "output_type": "error",
     "traceback": [
      "UndefVarError: `class` not defined\n"
     ]
    }
   ],
   "source": [
    "# [152. Maximum Product Subarray](https://leetcode.com/problems/maximum-product-subarray/)\n",
    "class Solution:\n",
    "    def maxProduct(self, nums: List[int]) -> int:\n",
    "        best = nums[0]\n",
    "        min_now = nums[0]\n",
    "        max_now = nums[0]\n",
    "        for i in range(1, len(nums)):\n",
    "            a = nums[i]*min_now \n",
    "            b = nums[i]*max_now \n",
    "            min_now = min(nums[i],a,b)\n",
    "            max_now = max(nums[i],a,b)\n",
    "            best = max(best,max_now)\n",
    "        return best"
   ]
  },
  {
   "cell_type": "code",
   "execution_count": 25,
   "metadata": {},
   "outputs": [
    {
     "ename": "UndefVarError",
     "evalue": "UndefVarError: `class` not defined",
     "output_type": "error",
     "traceback": [
      "UndefVarError: `class` not defined\n"
     ]
    }
   ],
   "source": [
    "# [85. Maximal Rectangle](https://leetcode.com/problems/maximal-rectangle/)\n",
    "class Solution:\n",
    "    def maximalRectangle(self, matrix: List[List[str]]) -> int:\n",
    "        rows, cols = len(matrix), len(matrix[0])\n",
    "        length = [[0]*cols for _ in range(rows)]\n",
    "        for col in range(cols):\n",
    "            for row in range(rows-1, -1, -1):\n",
    "                if matrix[row][col] == \"1\":\n",
    "                    length[row][col] = 1 if row == rows-1 else 1+length[row+1][col]\n",
    "        res = 0\n",
    "        for height in range(rows,0,-1):\n",
    "            for i in range(rows-height+1):\n",
    "                curr_wid = 0\n",
    "                for j in range(cols):\n",
    "                    if length[i][j] >= height:\n",
    "                        curr_wid += 1\n",
    "                    else:\n",
    "                        curr_wid = 0\n",
    "                    res = max(res, height*curr_wid)\n",
    "        return res\n"
   ]
  },
  {
   "cell_type": "markdown",
   "metadata": {},
   "source": []
  },
  {
   "cell_type": "code",
   "execution_count": 26,
   "metadata": {},
   "outputs": [
    {
     "ename": "UndefVarError",
     "evalue": "UndefVarError: `class` not defined",
     "output_type": "error",
     "traceback": [
      "UndefVarError: `class` not defined\n"
     ]
    }
   ],
   "source": [
    "# [1235. Maximum Profit in Job Scheduling] (https://leetcode.com/problems/maximum-profit-in-job-scheduling/)\n",
    "class Solution:\n",
    "    def jobScheduling(self, startTime: List[int], endTime: List[int], profit: List[int]) -> int:\n",
    "        n = len(profit)\n",
    "        dp = [0]*(n+1)\n",
    "        cnt = []\n",
    "\n",
    "        sorted_indices = sorted(range(n), key=lambda k: startTime[k])\n",
    "        startTime = [startTime[i] for i in sorted_indices]\n",
    "        endTime = [endTime[i] for i in sorted_indices]\n",
    "        profit = [profit[i] for i in sorted_indices]\n",
    "\n",
    "        def binary_search(target):\n",
    "            lo, hi = 0, len(startTime)\n",
    "            while lo < hi:\n",
    "                mid = (lo+hi)//2\n",
    "                if startTime[mid] < target:\n",
    "                    lo = mid+1\n",
    "                else:\n",
    "                    hi = mid\n",
    "            return lo\n",
    "\n",
    "        for i in reversed(range(n)):\n",
    "            j = binary_search(endTime[i])\n",
    "            dp[i] = max(dp[i+1], profit[i]+dp[j])\n",
    "        return dp[0]"
   ]
  },
  {
   "cell_type": "markdown",
   "metadata": {},
   "source": [
    "### Numbers"
   ]
  },
  {
   "cell_type": "code",
   "execution_count": 27,
   "metadata": {},
   "outputs": [
    {
     "ename": "UndefVarError",
     "evalue": "UndefVarError: `class` not defined",
     "output_type": "error",
     "traceback": [
      "UndefVarError: `class` not defined\n"
     ]
    }
   ],
   "source": [
    "# [1105. Filling Bookcase Shelves](https://leetcode.com/problems/filling-bookcase-shelves/)\n",
    "class Solution:\n",
    "    def minHeightShelves(self, books: List[List[int]], shelfWidth: int) -> int:\n",
    "        n = len(books)\n",
    "        dp = [0]*(n+1)\n",
    "\n",
    "        for i in range(n):\n",
    "            dp[i+1] = books[i][1] + dp[i]\n",
    "            curr_w,curr_h = books[i][0],books[i][1]\n",
    "            j = i - 1\n",
    "            while j>=0 and curr_w + books[j][0] <= shelfWidth:\n",
    "                curr_w += books[j][0]\n",
    "                curr_h = max(curr_h, books[j][1])\n",
    "                dp[i+1] = min(dp[i+1], dp[j]+curr_h)\n",
    "                j -= 1\n",
    "        return dp[-1]"
   ]
  },
  {
   "cell_type": "code",
   "execution_count": 28,
   "metadata": {},
   "outputs": [
    {
     "ename": "UndefVarError",
     "evalue": "UndefVarError: `class` not defined",
     "output_type": "error",
     "traceback": [
      "UndefVarError: `class` not defined\n"
     ]
    }
   ],
   "source": [
    "# [2742. Painting the Walls](https://leetcode.com/problems/painting-the-walls/)\n",
    "class Solution:\n",
    "    def paintWalls(self, cost: List[int], time: List[int]) -> int:\n",
    "        n = len(cost)\n",
    "        dp = [[sum(cost)] * (n * 2 + 1) for _ in range(n + 1)]\n",
    "        dp[0][n] = 0\n",
    "        for i in range(n):\n",
    "            for j in range(n * 2 + 1):\n",
    "                k = min(j + time[i], n * 2)\n",
    "                dp[i + 1][k] = min(dp[i + 1][k], dp[i][j] + cost[i])\n",
    "                if j > 0:\n",
    "                    dp[i + 1][j - 1] = min(dp[i + 1][j - 1], dp[i][j])\n",
    "        best = sum(cost)\n",
    "        for i in range(n, n * 2 + 1):\n",
    "            best = min(best, dp[n][i])\n",
    "        return best"
   ]
  },
  {
   "cell_type": "code",
   "execution_count": 29,
   "metadata": {},
   "outputs": [
    {
     "ename": "UndefVarError",
     "evalue": "UndefVarError: `class` not defined",
     "output_type": "error",
     "traceback": [
      "UndefVarError: `class` not defined\n"
     ]
    }
   ],
   "source": [
    "# [741. Cherry Pickup] (https://leetcode.com/problems/cherry-pickup/)\n",
    "class Solution:\n",
    "    def cherryPickup(self, grid: List[List[int]]) -> int:\n",
    "        n = len(grid)\n",
    "        dp = [[[-math.inf]*(n) for _ in range(n)] for _ in range(n)]\n",
    "        dp[0][0][0] = grid[0][0]\n",
    "        #dp[d1][r1][d2]   r2=r1+d1-d2  r1+d1 =r2+d2\n",
    "        for i in range(n):\n",
    "            for j in range(n):\n",
    "                for k in range(max(i+j-n+1,0), min(i+j+1,n)):\n",
    "                    # 0<=i+j-k<n,  i+j-n<k<=i+j and \n",
    "                    if i >0 or j >0:\n",
    "                        if grid[i][j] >=0 and grid[k][i+j-k]>=0:\n",
    "                            if i-1>=0:\n",
    "                                dp[i][j][k] = max(dp[i][j][k], dp[i-1][j][k])\n",
    "                                if k-1>=0:    \n",
    "                                    dp[i][j][k] = max(dp[i][j][k], dp[i-1][j][k-1])\n",
    "                            if j-1>=0:\n",
    "                                dp[i][j][k] = max(dp[i][j][k], dp[i][j-1][k])\n",
    "                                if k-1>=0: \n",
    "                                    dp[i][j][k] = max(dp[i][j][k], dp[i][j-1][k-1])\n",
    "                            \n",
    "                            dp[i][j][k] += grid[i][j]\n",
    "                            if i!=k or j != i+j-k:\n",
    "                                dp[i][j][k] += grid[k][i+j-k]\n",
    "\n",
    "        return max(0, dp[-1][-1][-1])"
   ]
  },
  {
   "cell_type": "markdown",
   "metadata": {},
   "source": [
    "### Stone Game"
   ]
  },
  {
   "cell_type": "code",
   "execution_count": 30,
   "metadata": {},
   "outputs": [
    {
     "ename": "UndefVarError",
     "evalue": "UndefVarError: `class` not defined",
     "output_type": "error",
     "traceback": [
      "UndefVarError: `class` not defined\n"
     ]
    }
   ],
   "source": [
    "# 1405. Stone Game III (https://leetcode.com/problems/stone-game-ii/)\n",
    "class Solution:\n",
    "    def stoneGameII(self, piles: List[int]) -> int:\n",
    "        @cache\n",
    "        def dp(i,turn, M):\n",
    "            if i>= len(piles):\n",
    "                return 0\n",
    "            curr = 0\n",
    "            if turn %2 == 0: #Alice's turn\n",
    "                taken = 0\n",
    "                for j in range(2*M):\n",
    "                    if i+j > len(piles)-1:\n",
    "                        break\n",
    "                    curr += piles[i+j]\n",
    "                    taken = max(taken, curr + dp(i+j+1, (turn+1) % 2, max(M,j+1)))\n",
    "            else: #Bob\n",
    "                taken = 1000000000\n",
    "                for j in range(2*M):\n",
    "                    if i+j > len(piles)-1:\n",
    "                        break\n",
    "                    taken = min(taken, dp(i+j+1, (turn+1) % 2, max(M,j+1)))\n",
    "            return taken\n",
    "        return dp(0, 0, 1)"
   ]
  },
  {
   "cell_type": "code",
   "execution_count": 31,
   "metadata": {},
   "outputs": [
    {
     "ename": "UndefVarError",
     "evalue": "UndefVarError: `class` not defined",
     "output_type": "error",
     "traceback": [
      "UndefVarError: `class` not defined\n"
     ]
    }
   ],
   "source": [
    "# [1406. Stone Game III] (https://leetcode.com/problems/stone-game-iii/)\n",
    "class Solution:\n",
    "    def stoneGameIII(self, stoneValue: List[int]) -> str:\n",
    "        n = len(stoneValue)\n",
    "        dp = [0]*(n+1)\n",
    "        for i in reversed(range(n)):\n",
    "            dp[i] = stoneValue[i]-dp[i+1]\n",
    "            if i+1 < n:\n",
    "                dp[i] = max(dp[i], stoneValue[i]+stoneValue[i+1]-dp[i+2])\n",
    "            if i+2 < n:\n",
    "                dp[i] = max(dp[i], stoneValue[i]+stoneValue[i+1]+stoneValue[i+2]-dp[i+3])\n",
    "        if dp[0] > 0:\n",
    "            return \"Alice\"\n",
    "        if dp[0] < 0:\n",
    "            return \"Bob\"\n",
    "        return \"Tie\""
   ]
  },
  {
   "cell_type": "code",
   "execution_count": 32,
   "metadata": {},
   "outputs": [
    {
     "ename": "UndefVarError",
     "evalue": "UndefVarError: `class` not defined",
     "output_type": "error",
     "traceback": [
      "UndefVarError: `class` not defined\n"
     ]
    }
   ],
   "source": [
    "# [1510. Stone Game IV] (https://leetcode.com/problems/stone-game-iv/)\n",
    "class Solution:\n",
    "    def winnerSquareGame(self, n: int) -> bool:\n",
    "        dp = [False]*(n+1)\n",
    "        # dp[i]: whether the current player can win with i stones\n",
    "        for i in range(1,n+1):\n",
    "            for k in range(1, int(sqrt(i)+1)):\n",
    "                if not dp[i-k*k]:\n",
    "                    dp[i] = True\n",
    "        return dp[n]\n",
    "\n",
    "# 279. Perfect Squares (https://leetcode.com/problems/perfect-squares/description/)\n",
    "class Solution:\n",
    "    def numSquares(self, n: int) -> int:\n",
    "        dp = [100000]*(n+1)\n",
    "        dp[0] = 0\n",
    "        for i in range(1,n+1):\n",
    "            for k in range(1,int(sqrt(n)+1)):\n",
    "                dp[i] = min(dp[i], dp[i-k*k]+1)\n",
    "        return dp[n]"
   ]
  },
  {
   "cell_type": "code",
   "execution_count": 33,
   "metadata": {},
   "outputs": [],
   "source": []
  },
  {
   "cell_type": "markdown",
   "metadata": {},
   "source": [
    "### Reduce Number of States\n",
    "- [312. Burst Balloons] \n",
    "- [241. Different Ways to Add Parentheses]"
   ]
  },
  {
   "cell_type": "code",
   "execution_count": 34,
   "metadata": {},
   "outputs": [
    {
     "ename": "UndefVarError",
     "evalue": "UndefVarError: `def` not defined",
     "output_type": "error",
     "traceback": [
      "UndefVarError: `def` not defined\n"
     ]
    }
   ],
   "source": [
    "# [312. Burst Balloons](https://leetcode.com/problems/burst-balloons/)\n",
    "# Naive \n",
    "def maxCoins(self, nums: List[int]) -> int: \n",
    "    def dp(remains):\n",
    "        if len(remains) == 0:\n",
    "            return 0\n",
    "        ans = 0\n",
    "        for i in range(len(remains)):\n",
    "            gain = nums[remains[i]]\n",
    "            if i>0:\n",
    "                gain *= nums[remains[i-1]]\n",
    "            if i+1< len(remains):\n",
    "                gain *= nums[remains[i+1]]\n",
    "            new_remains = tuple([j for j in remains if j != remains[i]]) #delete remains[i]\n",
    "            ans = max(ans, gain + dp(new_remains))\n",
    "        return ans\n",
    "    return dp(tuple([i for i in range(len(nums))]))\n",
    "\n",
    "# optimized\n",
    "def maxCoins(self, nums: List[int]) -> int: \n",
    "    nums = [1]+nums+[1]\n",
    "    @cache\n",
    "    def dp(lo,hi):\n",
    "        if lo > hi:\n",
    "            return 0\n",
    "        ans = 0\n",
    "        for i in range(lo,hi+1):\n",
    "            gain = nums[lo-1]*nums[i]*nums[hi+1] # nums[i] as the last burst balloon among [lo,hi]\n",
    "            ans = max(ans, gain+dp(lo,i-1)+dp(i+1,hi))\n",
    "        return ans\n",
    "    return dp(1,len(nums)-2) "
   ]
  },
  {
   "cell_type": "code",
   "execution_count": 35,
   "metadata": {},
   "outputs": [
    {
     "ename": "UndefVarError",
     "evalue": "UndefVarError: `class` not defined",
     "output_type": "error",
     "traceback": [
      "UndefVarError: `class` not defined\n"
     ]
    }
   ],
   "source": [
    "# [241. Different Ways to Add Parentheses](https://leetcode.com/problems/different-ways-to-add-parentheses/)\n",
    "# Each operator offers a chance to split the expression into two smaller parts\n",
    "class Solution:\n",
    "    def diffWaysToCompute(self, expression: str) -> List[int]:\n",
    "        @cache\n",
    "        def dp(lo,hi):\n",
    "            if lo+1 == hi or lo+2 == hi:\n",
    "                return [int(expression[lo:hi])]\n",
    "            ans = []\n",
    "            for i in range(lo,hi):\n",
    "                if expression[i] in ['+','-','*']:\n",
    "                    A = dp(lo,i) \n",
    "                    B = dp(i+1,hi)\n",
    "                    for a in A:\n",
    "                        for b in B:\n",
    "                            if expression[i] == '+':\n",
    "                                ans.append(a+b)\n",
    "                            elif expression[i] == '-':\n",
    "                                ans.append(a-b)\n",
    "                            else:\n",
    "                                ans.append(a*b)\n",
    "            return ans\n",
    "        return dp(0,len(expression))"
   ]
  },
  {
   "cell_type": "markdown",
   "metadata": {},
   "source": [
    "### Jump Game\n",
    "- [55. Jump Game] (https://leetcode.com/problems/jump-game/)\n",
    "- [45. Jump Game II]\n",
    "- [1326. Minimum Number of Taps to Open to Water a Garden]"
   ]
  },
  {
   "cell_type": "code",
   "execution_count": 36,
   "metadata": {},
   "outputs": [
    {
     "ename": "UndefVarError",
     "evalue": "UndefVarError: `class` not defined",
     "output_type": "error",
     "traceback": [
      "UndefVarError: `class` not defined\n"
     ]
    }
   ],
   "source": [
    "# [55. Jump Game] (https://leetcode.com/problems/jump-game/)\n",
    "class Solution:\n",
    "    def canJump(self, nums: List[int]) -> bool:\n",
    "        # DP\n",
    "        n = len(nums)\n",
    "        best = nums[0]\n",
    "        for i in range(1,n):\n",
    "            if best < i:\n",
    "                return False\n",
    "            best = max(best, i+nums[i])\n",
    "        return True"
   ]
  },
  {
   "cell_type": "code",
   "execution_count": 37,
   "metadata": {},
   "outputs": [
    {
     "ename": "UndefVarError",
     "evalue": "UndefVarError: `class` not defined",
     "output_type": "error",
     "traceback": [
      "UndefVarError: `class` not defined\n"
     ]
    }
   ],
   "source": [
    "# [45. Jump Game II]\n",
    "class Solution:\n",
    "    def jump(self, nums: List[int]) -> int:\n",
    "        n = len(nums)\n",
    "        dp = [100000]*n\n",
    "        dp[0] = 0\n",
    "        for i in range(n):\n",
    "            for j in range(1,min(nums[i]+1, n-i)):\n",
    "                dp[i+j] = min(dp[i+j],dp[i]+1)\n",
    "        return dp[-1]"
   ]
  },
  {
   "cell_type": "code",
   "execution_count": null,
   "metadata": {},
   "outputs": [],
   "source": [
    "# [1326. Minimum Number of Taps to Open to Water a Garden]\n",
    "# 1. Convert to jump game II\n",
    "def minTaps(self, n: int, ranges: List[int]) -> int:   \n",
    "    jumps = [0]*(n+1)\n",
    "    for i in range(len(ranges)):\n",
    "        start = max(0, i - ranges[i])\n",
    "        end = min(n, i + ranges[i])\n",
    "        jumps[start] = max(jumps[start], end)\n",
    "    \n",
    "    dp = [math.inf]*(n+1)\n",
    "    dp[0] = 0\n",
    "    for i in range(len(jumps)):\n",
    "        for j in range(i+1,min(jumps[i]+1,n+1)):\n",
    "            dp[j] = min(dp[j], dp[i]+1)\n",
    "    return dp[-1] if dp[-1] <math.inf else -1\n",
    "\n",
    "# 2. DP\n",
    "def minTaps(self, n: int, ranges: List[int]) -> int:\n",
    "    dp = [math.inf]*(n+1)\n",
    "    dp[0] = 0\n",
    "    for i in range(len(ranges)):\n",
    "        start = max(0, i - ranges[i])\n",
    "        end = min(n, i + ranges[i])\n",
    "        for j in range(start, end+1):\n",
    "            dp[end] = min(dp[end], dp[j]+1)\n",
    "    return dp[-1] if dp[-1] <math.inf else -1"
   ]
  },
  {
   "cell_type": "code",
   "execution_count": null,
   "metadata": {},
   "outputs": [],
   "source": [
    "# [689. Maximum Sum of 3 Non-Overlapping Subarrays](https://leetcode.com/problems/maximum-sum-of-3-non-overlapping-subarrays/)\n",
    "class Solution:\n",
    "    def maxSumOfThreeSubarrays(self, nums: List[int], k: int) -> List[int]:\n",
    "        ksum = [sum(nums[:k])]\n",
    "        for i in range(k, len(nums)):\n",
    "            ksum.append(ksum[-1] + nums[i] - nums[i-k])\n",
    "\n",
    "        @cache\n",
    "        def dp(i, remain):\n",
    "            if remain == 0:\n",
    "                return 0, tuple()\n",
    "            if remain * k > i:\n",
    "                return -int(1e100), tuple()\n",
    "            val1, path1 = dp(i - 1, remain)\n",
    "            val2, path2 = dp(i - k, remain - 1)\n",
    "            val2 += ksum[i - k]\n",
    "            path2 = path2 + (i - k,)\n",
    "\n",
    "            if val1 > val2 or val1 == val2 and path1 < path2:\n",
    "                return val1, path1\n",
    "            else:\n",
    "                return val2, path2\n",
    "\n",
    "        return list(dp(len(nums), 3)[1])"
   ]
  },
  {
   "cell_type": "code",
   "execution_count": null,
   "metadata": {},
   "outputs": [],
   "source": [
    "# [552. Student Attendance Record II](https://leetcode.com/problems/student-attendance-record-ii/)\n",
    "class Solution:\n",
    "    def checkRecord(self, n: int) -> int:\n",
    "        # cntA <= 1, maxConL <= 2\n",
    "        MOD = 1000000007\n",
    "        memo = [[[-1] * 3 for _ in range(2)] for _ in range(n + 1)]\n",
    "        def dp(i,cntA,lastL):\n",
    "            if i == n:\n",
    "                return 1\n",
    "            if memo[i][cntA][lastL] > -1:\n",
    "                return memo[i][cntA][lastL] \n",
    "            ans = 0\n",
    "            if cntA == 0:\n",
    "                ans += dp(i+1,1,0)\n",
    "            if lastL < 2:\n",
    "                ans += dp(i+1,cntA,lastL+1)\n",
    "            ans += dp(i+1,cntA,0)\n",
    "            memo[i][cntA][lastL] = ans % MOD\n",
    "            return memo[i][cntA][lastL] \n",
    "        return dp(0,0,0)% MOD"
   ]
  },
  {
   "cell_type": "code",
   "execution_count": null,
   "metadata": {},
   "outputs": [],
   "source": [
    "# [279. Perfect Squares](https://leetcode.com/problems/perfect-squares/)\n",
    "class Solution:\n",
    "    def numSquares(self, n: int) -> int:\n",
    "        dp = [100000]*(n+1)\n",
    "        dp[0] = 0\n",
    "        for i in range(1,n+1):\n",
    "            for k in range(1,int(sqrt(n)+1)):\n",
    "                if i < k*k:\n",
    "                    break\n",
    "                dp[i] = min(dp[i], dp[i-k*k]+1)\n",
    "        return dp[n]"
   ]
  }
 ],
 "metadata": {
  "kernelspec": {
   "display_name": "Julia 1.10.5",
   "language": "julia",
   "name": "julia-1.10"
  },
  "language_info": {
   "file_extension": ".jl",
   "mimetype": "application/julia",
   "name": "julia",
   "version": "1.10.5"
  }
 },
 "nbformat": 4,
 "nbformat_minor": 4
}
