{
 "cells": [
  {
   "cell_type": "markdown",
   "metadata": {},
   "source": [
    "# Recursion\n",
    "Recursion is an approach to solving problems using a function that calls itself as a subroutine.\n",
    "\n",
    "A recursive function \n",
    "\n",
    "1. Base case: a terminating scenario that does not use recursion to produce an answer\n",
    "2. Recurrence relation: reduce all other cases towards the base case"
   ]
  },
  {
   "cell_type": "markdown",
   "metadata": {},
   "source": [
    "- Write down recurence relationship\n",
    "- Whenever possible, apply memoization\n",
    "- Stack overflows can be avoided by using tail recursion"
   ]
  },
  {
   "cell_type": "code",
   "execution_count": null,
   "metadata": {},
   "outputs": [],
   "source": [
    "# Definition for singly-linked list.\n",
    "class ListNode:\n",
    "    def __init__(self, val=0, next=None):\n",
    "        self.val = val\n",
    "        self.next = next\n",
    "\n",
    "# Recursive\n",
    "def reverseList(self, head: ListNode) -> ListNode:\n",
    "    if (not head) or (not head.next):\n",
    "        return head\n",
    "    \n",
    "    p = self.reverseList(head.next)\n",
    "    head.next.next = head\n",
    "    head.next = None\n",
    "    return p\n",
    "\n",
    "# Iterative\n",
    "def reverseList(self, head: ListNode) -> ListNode:\n",
    "    prev = None\n",
    "    curr = head\n",
    "    while curr:\n",
    "        next_temp = curr.next\n",
    "        curr.next = prev\n",
    "        prev = curr\n",
    "        curr = next_temp\n",
    "        \n",
    "    return prev"
   ]
  },
  {
   "cell_type": "code",
   "execution_count": 1,
   "metadata": {},
   "outputs": [],
   "source": [
    "# Example\n",
    "head_list = [1,2,3,4,5]\n",
    "head = ListNode(head_list[0])\n",
    "temp = head\n",
    "for i in range(1, len(head_list)):\n",
    "    temp.next = ListNode(head_list[i])\n",
    "    temp = temp.next"
   ]
  },
  {
   "cell_type": "markdown",
   "metadata": {},
   "source": [
    "## Memorization\n",
    "Eliminate duplicate calculation. Store the intermediate results in the cache so that we could reuse them later without re-calculation."
   ]
  },
  {
   "cell_type": "markdown",
   "metadata": {},
   "source": [
    "Back to our Fibonacci function F(n). We could use a hash table to keep track of the result of each F(n) with n as the key. "
   ]
  },
  {
   "cell_type": "code",
   "execution_count": 2,
   "metadata": {},
   "outputs": [],
   "source": [
    "def fib(self, N):\n",
    "    cache = {}\n",
    "    def recur_fib(N):\n",
    "        if N in cache:\n",
    "            return cache[N]\n",
    "\n",
    "        if N < 2:\n",
    "            result = N\n",
    "        else:\n",
    "            result = recur_fib(N-1) + recur_fib(N-2)\n",
    "\n",
    "        # put result in cache for later reference.\n",
    "        cache[N] = result\n",
    "        return result\n",
    "\n",
    "    return recur_fib(N)"
   ]
  },
  {
   "cell_type": "code",
   "execution_count": null,
   "metadata": {},
   "outputs": [],
   "source": [
    "class Solution:\n",
    "    def binPow(self, x, n):\n",
    "        if n == 0:\n",
    "            return 1\n",
    "        if n == 1:\n",
    "            return x\n",
    "        if n%2 == 0:\n",
    "            return self.binPow(x*x, n//2)\n",
    "        else:\n",
    "            return x*self.binPow(x*x, (n-1)//2)\n",
    "\n",
    "    def myPow(self, x: float, n: int) -> float:\n",
    "        if n < 0:\n",
    "            return 1/self.binPow(x, -n)\n",
    "        else:\n",
    "            return self.binPow(x, n)"
   ]
  },
  {
   "cell_type": "code",
   "execution_count": null,
   "metadata": {},
   "outputs": [],
   "source": [
    "# https://leetcode.com/problems/unique-binary-search-trees-ii/\n",
    "\n",
    "# Definition for a binary tree node.\n",
    "class TreeNode:\n",
    "    def __init__(self, val=0, left=None, right=None):\n",
    "        self.val = val\n",
    "        self.left = left\n",
    "        self.right = right\n",
    "\n",
    "class Solution:\n",
    "    def generateTrees(self, n: int) -> List[Optional[TreeNode]]:\n",
    "        computed = {}\n",
    "        def dfs(lo, hi):\n",
    "            res = []\n",
    "            if (lo,hi) in computed:\n",
    "                return computed[(lo,hi)]\n",
    "            if lo == hi:\n",
    "                res.append(None)\n",
    "            for i in range(lo, hi):\n",
    "                leftSubTree = dfs(lo, i)\n",
    "                rightSubTree = dfs(i+1, hi)\n",
    "                for left in leftSubTree:\n",
    "                    for right in rightSubTree:\n",
    "                        root = TreeNode(i, left, right)\n",
    "                        res.append(root)\n",
    "            computed[(lo,hi)] = res\n",
    "            return res\n",
    "        return dfs(1,n+1)"
   ]
  },
  {
   "cell_type": "markdown",
   "metadata": {},
   "source": [
    "## Divide and Conquer\n",
    "Template:\n",
    "1. Divide. Divide the problem S into a set of subproblems: {S_1,S_2,...,S_n} where n>=2, i.e. there are usually more than one subproblem.\n",
    "\n",
    "2. Conquer. Solve each subproblem recursively. \n",
    "\n",
    "3. Combine. Combine the results of each subproblem.\n",
    "\n",
    "Recurrence relation: divide() and combine()"
   ]
  },
  {
   "cell_type": "code",
   "execution_count": null,
   "metadata": {},
   "outputs": [],
   "source": [
    "# Pseudocode template for Divide and Conquer\n",
    "def divide_and_conquer( S ):\n",
    "    # (1). Divide the problem into a set of subproblems.\n",
    "    [S1, S2, ... Sn] = divide(S)\n",
    "\n",
    "    # (2). Solve the subproblem recursively,\n",
    "    #   obtain the results of subproblems as [R1, R2... Rn].\n",
    "    rets = [divide_and_conquer(Si) for Si in [S1, S2, ... Sn]]\n",
    "    [R1, R2,... Rn] = rets\n",
    "\n",
    "    # (3). combine the results from the subproblems.\n",
    "    #   and return the combined result.\n",
    "    return combine([R1, R2,... Rn])"
   ]
  },
  {
   "cell_type": "markdown",
   "metadata": {},
   "source": [
    "### Merge Sort"
   ]
  },
  {
   "cell_type": "code",
   "execution_count": null,
   "metadata": {},
   "outputs": [],
   "source": [
    "def merge_sort(nums):\n",
    "    # bottom cases: empty or list of a single element.\n",
    "    if len(nums) <= 1:\n",
    "        return nums\n",
    "\n",
    "    pivot = int(len(nums) / 2)\n",
    "    left_list = merge_sort(nums[0:pivot])\n",
    "    right_list = merge_sort(nums[pivot:])\n",
    "    return merge(left_list, right_list)\n",
    "\n",
    "\n",
    "def merge(left_list, right_list):\n",
    "    left_cursor = right_cursor = 0\n",
    "    ret = []\n",
    "    while left_cursor < len(left_list) and right_cursor < len(right_list):\n",
    "        if left_list[left_cursor] < right_list[right_cursor]:\n",
    "            ret.append(left_list[left_cursor])\n",
    "            left_cursor += 1\n",
    "        else:\n",
    "            ret.append(right_list[right_cursor])\n",
    "            right_cursor += 1\n",
    "    \n",
    "    # append what is remained in either of the lists\n",
    "    ret.extend(left_list[left_cursor:])\n",
    "    ret.extend(right_list[right_cursor:])\n",
    "    \n",
    "    return ret"
   ]
  },
  {
   "cell_type": "code",
   "execution_count": null,
   "metadata": {},
   "outputs": [],
   "source": [
    "class TreeNode:\n",
    "    def __init__(self, val=0, left=None, right=None):\n",
    "        self.val = val\n",
    "        self.left = left\n",
    "        self.right = right\n",
    "\n",
    "import math\n",
    "class Solution:\n",
    "    def isValidBST(self, root: Optional[TreeNode]) -> bool:\n",
    "        \n",
    "        def dfs(root, lo, hi): \n",
    "            if root is None:\n",
    "                return True\n",
    "            if root.val >= hi or root.val <= lo:\n",
    "                return False\n",
    "            return dfs(root.left,lo,root.val) and dfs(root.right,root.val,hi)\n",
    "\n",
    "        return dfs(root, -math.inf, math.inf)"
   ]
  },
  {
   "cell_type": "code",
   "execution_count": 7,
   "metadata": {},
   "outputs": [
    {
     "data": {
      "text/plain": [
       "0"
      ]
     },
     "execution_count": 7,
     "metadata": {},
     "output_type": "execute_result"
    }
   ],
   "source": [
    "# https://leetcode.com/problems/search-a-2d-matrix-ii/description/\n",
    "# Search a 2D Matrix II\n",
    "class Solution:\n",
    "    def searchMatrix(self, matrix: List[List[int]], target: int) -> bool:\n",
    "        m, n = len(matrix), len(matrix[0])\n",
    "        def dnc(matrix, x1, x2, y1, y2):\n",
    "            if x1>x2 or y1 > y2:\n",
    "                return False\n",
    "            if target < matrix[x1][y1] or target > matrix[x2][y2]:\n",
    "                return False\n",
    "            mid = y1 + (y2-y1)//2\n",
    "            # find row\n",
    "            row = x1\n",
    "            while row <= x2 and matrix[row][mid] <= target:\n",
    "                if matrix[row][mid] == target:\n",
    "                    return True\n",
    "                row+=1\n",
    "            return dnc(matrix, row, x2, y1, mid-1) or dnc(matrix, x1, row-1, mid+1, y2) \n",
    "        return dnc(matrix, 0, m-1, 0 ,n-1)\n",
    "            \n",
    "        # m, n = len(matrix), len(matrix[0])\n",
    "        # if m==0 or n==0:\n",
    "        #     return False\n",
    "        # i,j = m-1, 0\n",
    "        # while i>=0 and j < n:\n",
    "        #     if matrix[i][j] == target:\n",
    "        #         return True\n",
    "        #     elif matrix[i][j] > target:\n",
    "        #         i-=1\n",
    "        #     else:\n",
    "        #         j+=1\n",
    "        # return False"
   ]
  },
  {
   "cell_type": "markdown",
   "metadata": {},
   "source": [
    "### Quick Sort\n",
    "1. Select a pivot element from the array.\n",
    "2. Partition the other elements into two sub-arrays according to whether they are less than or greater than the pivot.\n",
    "3. Recursively sort the sub-arrays."
   ]
  },
  {
   "cell_type": "code",
   "execution_count": null,
   "metadata": {},
   "outputs": [],
   "source": [
    "def quicksort(lst):\n",
    "    \"\"\"\n",
    "    Sorts an array in the ascending order in O(n log n) time\n",
    "    :param nums: a list of numbers\n",
    "    :return: the sorted list\n",
    "    \"\"\"\n",
    "    n = len(lst)\n",
    "    qsort(lst, 0, n - 1)\n",
    "\n",
    "def qsort(lst, lo, hi):\n",
    "    \"\"\"\n",
    "    Helper\n",
    "    :param lst: the list to sort\n",
    "    :param lo:  the index of the first element in the list\n",
    "    :param hi:  the index of the last element in the list\n",
    "    :return: the sorted list\n",
    "    \"\"\"\n",
    "    if lo < hi:\n",
    "        p = partition(lst, lo, hi)\n",
    "        qsort(lst, lo, p - 1)\n",
    "        qsort(lst, p + 1, hi)\n",
    "\n",
    "def partition(lst, lo, hi):\n",
    "    \"\"\"\n",
    "    Picks the last element hi as a pivot\n",
    "     and returns the index of pivot value in the sorted array\n",
    "    \"\"\"\n",
    "    pivot = lst[hi]\n",
    "    i = lo\n",
    "    for j in range(lo, hi):\n",
    "        if lst[j] < pivot:\n",
    "            lst[i], lst[j] = lst[j], lst[i]\n",
    "            i += 1\n",
    "    lst[i], lst[hi] = lst[hi], lst[i]\n",
    "    return i"
   ]
  },
  {
   "cell_type": "code",
   "execution_count": 12,
   "metadata": {},
   "outputs": [],
   "source": [
    "a = set([i for i in range(1, 10)])"
   ]
  },
  {
   "cell_type": "code",
   "execution_count": 13,
   "metadata": {},
   "outputs": [
    {
     "data": {
      "text/plain": [
       "{2, 3, 4, 5, 6, 7, 8, 9}"
      ]
     },
     "execution_count": 13,
     "metadata": {},
     "output_type": "execute_result"
    }
   ],
   "source": [
    "a.remove(1)\n",
    "a"
   ]
  }
 ],
 "metadata": {
  "kernelspec": {
   "display_name": "Python 3",
   "language": "python",
   "name": "python3"
  },
  "language_info": {
   "codemirror_mode": {
    "name": "ipython",
    "version": 3
   },
   "file_extension": ".py",
   "mimetype": "text/x-python",
   "name": "python",
   "nbconvert_exporter": "python",
   "pygments_lexer": "ipython3",
   "version": "3.10.6"
  }
 },
 "nbformat": 4,
 "nbformat_minor": 2
}
