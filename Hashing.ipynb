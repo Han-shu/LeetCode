{
 "cells": [
  {
   "cell_type": "markdown",
   "metadata": {},
   "source": [
    "# Hashing\n",
    "- Find length/number of dinstinct elements\n",
    "- Update element\n",
    "- Iterate over elements"
   ]
  },
  {
   "cell_type": "code",
   "execution_count": 4,
   "metadata": {},
   "outputs": [],
   "source": [
    "hash_map = {} # hash_map = dict()\n",
    "hash_map['a'] = 1\n",
    "hash_map['b'] = 2\n",
    "hash_map['c'] = 3\n",
    "# Get size\n",
    "len(hash_map) # 3\n",
    "# Updating a value\n",
    "hash_map['c'] = 100\n",
    "# Accessing a value given a key\n",
    "hash_map['a'] # 1\n",
    "# Deleting a key: Key must exist or it will raise a KeyError\n",
    "del hash_map['a']"
   ]
  },
  {
   "cell_type": "code",
   "execution_count": 5,
   "metadata": {},
   "outputs": [
    {
     "data": {
      "text/plain": [
       "{'b': 2, 'c': 100}"
      ]
     },
     "execution_count": 5,
     "metadata": {},
     "output_type": "execute_result"
    }
   ],
   "source": [
    "hash_map"
   ]
  },
  {
   "cell_type": "markdown",
   "metadata": {},
   "source": [
    "## Set\n",
    "- Add\n",
    "- Remove\n",
    "- Check if element is in set"
   ]
  },
  {
   "cell_type": "code",
   "execution_count": 6,
   "metadata": {},
   "outputs": [],
   "source": [
    "s = set()\n",
    "s.add(1)\n",
    "s.add(2)\n",
    "s.add(3)\n",
    "s.remove(2)\n",
    "# Check if element is in set\n",
    "1 in s # True"
   ]
  },
  {
   "cell_type": "code",
   "execution_count": null,
   "metadata": {},
   "outputs": [],
   "source": [
    "# https://leetcode.com/problems/jewels-and-stones/\n",
    "\n",
    "class Solution:\n",
    "    def numJewelsInStones(self, jewels: str, stones: str) -> int:\n",
    "        # ans = 0\n",
    "        # cnt = collections.Counter(stones)\n",
    "        # for j in jewels:\n",
    "        #     ans += cnt[j]\n",
    "        # return ans\n",
    "        \n",
    "        Jset = set(jewels)\n",
    "        return sum(s in Jset for s in stones)"
   ]
  },
  {
   "cell_type": "code",
   "execution_count": 1,
   "metadata": {},
   "outputs": [
    {
     "name": "stdout",
     "output_type": "stream",
     "text": [
      "('a', 'e', 't')\n",
      "('a', 'e', 't')\n",
      "('a', 'n', 't')\n",
      "('a', 'e', 't')\n",
      "('a', 'n', 't')\n",
      "('a', 'b', 't')\n"
     ]
    },
    {
     "data": {
      "text/plain": [
       "dict_values([['eat', 'tea', 'ate'], ['tan', 'nat'], ['bat']])"
      ]
     },
     "execution_count": 1,
     "metadata": {},
     "output_type": "execute_result"
    }
   ],
   "source": [
    "# Example key of dict is immutable, so we can't use list as key\n",
    "from collections import defaultdict\n",
    "def groupAnagrams(strs):\n",
    "    groups = defaultdict(list)\n",
    "    for s in strs:\n",
    "        # key = \"\".join(sorted(s)) # String as key\n",
    "        key = tuple(sorted(s)) # Tuple as key\n",
    "        # key = sorted(s)  # TypeError: unhashable type: 'list'\n",
    "        print(key)\n",
    "        groups[key].append(s)\n",
    "    return groups.values()\n",
    "\n",
    "strs = [\"eat\", \"tea\", \"tan\", \"ate\", \"nat\", \"bat\"]\n",
    "groupAnagrams(strs)"
   ]
  },
  {
   "cell_type": "code",
   "execution_count": null,
   "metadata": {},
   "outputs": [],
   "source": [
    "from collections import defaultdict\n",
    "def subarraySum(nums, k):\n",
    "    counts = defaultdict(int)\n",
    "    counts[0] = 1\n",
    "    curr, ans = 0, 0\n",
    "    for num in nums:\n",
    "        curr += num  # sum of subarray\n",
    "        # curr += num % 2\n",
    "        counts[curr] += 1\n",
    "        ans += counts[curr - k]\n",
    "    return ans"
   ]
  },
  {
   "cell_type": "code",
   "execution_count": null,
   "metadata": {},
   "outputs": [],
   "source": [
    "# https://leetcode.com/problems/contiguous-array/\n",
    "\n",
    "class Solution:\n",
    "    def findMaxLength(self, nums: List[int]) -> int:\n",
    "        count = dict()\n",
    "        count[0] = -1\n",
    "        ans, curr = 0, 0\n",
    "        for i in range(len(nums)):\n",
    "            if nums[i] == 0:\n",
    "                curr-=1\n",
    "            else:\n",
    "                curr+=1\n",
    "            if curr in count:\n",
    "                ans = max(ans, i - count[curr])\n",
    "            else:\n",
    "                count[curr] = i\n",
    "        return ans"
   ]
  }
 ],
 "metadata": {
  "kernelspec": {
   "display_name": "Python 3",
   "language": "python",
   "name": "python3"
  },
  "language_info": {
   "codemirror_mode": {
    "name": "ipython",
    "version": 3
   },
   "file_extension": ".py",
   "mimetype": "text/x-python",
   "name": "python",
   "nbconvert_exporter": "python",
   "pygments_lexer": "ipython3",
   "version": "3.10.6"
  }
 },
 "nbformat": 4,
 "nbformat_minor": 2
}
