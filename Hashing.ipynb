{
 "cells": [
  {
   "cell_type": "markdown",
   "metadata": {},
   "source": [
    "# Hashing\n",
    "- Find length/number of dinstinct elements\n",
    "- Update element\n",
    "- Iterate over elements"
   ]
  },
  {
   "cell_type": "code",
   "execution_count": 4,
   "metadata": {},
   "outputs": [],
   "source": [
    "hash_map = {} # hash_map = dict()\n",
    "hash_map['a'] = 1\n",
    "hash_map['b'] = 2\n",
    "hash_map['c'] = 3\n",
    "# Get size\n",
    "len(hash_map) # 3\n",
    "# Updating a value\n",
    "hash_map['c'] = 100\n",
    "# Accessing a value given a key\n",
    "hash_map['a'] # 1\n",
    "# Deleting a key: Key must exist or it will raise a KeyError\n",
    "del hash_map['a']"
   ]
  },
  {
   "cell_type": "code",
   "execution_count": 5,
   "metadata": {},
   "outputs": [
    {
     "data": {
      "text/plain": [
       "{'b': 2, 'c': 100}"
      ]
     },
     "execution_count": 5,
     "metadata": {},
     "output_type": "execute_result"
    }
   ],
   "source": [
    "hash_map"
   ]
  },
  {
   "cell_type": "markdown",
   "metadata": {},
   "source": [
    " Compare if two dictionaries are equal:\n",
    "- `dict1 == dict2`\n",
    "- For collections.defaultdict, if `cnt[s] += 1` and `cnt[s] -= 1`, then `cnt[s] == 0`, `s in cnt`, need to `del cnt[s]`"
   ]
  },
  {
   "cell_type": "code",
   "execution_count": null,
   "metadata": {},
   "outputs": [],
   "source": [
    "# [438. Find All Anagrams in a String](https://leetcode.com/problems/find-all-anagrams-in-a-string/)\n",
    "class Solution:\n",
    "    def findAnagrams(self, s: str, p: str) -> List[int]:\n",
    "        k = len(p)\n",
    "        ans = []\n",
    "        if len(s) < k:\n",
    "            return []\n",
    "        cnt = collections.defaultdict(int)\n",
    "        cntp = collections.defaultdict(int)\n",
    "        for i in range(k):\n",
    "            cnt[s[i]] += 1\n",
    "            cntp[p[i]] += 1\n",
    "\n",
    "        if cnt == cntp:\n",
    "            ans.append(0)\n",
    "        for ri in range(k, len(s)):\n",
    "            cnt[s[ri]] += 1\n",
    "            if cnt[s[ri-k]] == 1:\n",
    "                del cnt[s[ri-k]]\n",
    "            else:\n",
    "                cnt[s[ri-k]] -= 1\n",
    "            if cnt == cntp:\n",
    "                ans.append(ri-k+1)\n",
    "        return ans"
   ]
  },
  {
   "cell_type": "code",
   "execution_count": 1,
   "metadata": {},
   "outputs": [
    {
     "name": "stdout",
     "output_type": "stream",
     "text": [
      "defaultdict(<class 'int'>, {'a': 0, 'b': 1, 'c': 1})\n"
     ]
    }
   ],
   "source": [
    "import collections\n",
    "cnt = collections.defaultdict(int)\n",
    "for c in 'abc':\n",
    "    cnt[c] += 1\n",
    "cnt['a'] -= 1\n",
    "print(cnt)"
   ]
  },
  {
   "cell_type": "code",
   "execution_count": null,
   "metadata": {},
   "outputs": [],
   "source": [
    "# [169. Majority Element](https://leetcode.com/problems/majority-element/)\n",
    "class Solution:\n",
    "    def majorityElement(self, nums: List[int]) -> int:\n",
    "        count = collections.Counter(nums)\n",
    "        return max(count.keys(), key = count.get)"
   ]
  },
  {
   "cell_type": "markdown",
   "metadata": {},
   "source": [
    "## Set\n",
    "- Add\n",
    "- Remove\n",
    "- Check if element is in set"
   ]
  },
  {
   "cell_type": "code",
   "execution_count": 6,
   "metadata": {},
   "outputs": [],
   "source": [
    "s = set()\n",
    "s.add(1)\n",
    "s.add(2)\n",
    "s.add(3)\n",
    "s.remove(2)\n",
    "# Check if element is in set\n",
    "1 in s # True"
   ]
  },
  {
   "cell_type": "code",
   "execution_count": null,
   "metadata": {},
   "outputs": [],
   "source": [
    "# https://leetcode.com/problems/jewels-and-stones/\n",
    "\n",
    "class Solution:\n",
    "    def numJewelsInStones(self, jewels: str, stones: str) -> int:\n",
    "        # ans = 0\n",
    "        # cnt = collections.Counter(stones)\n",
    "        # for j in jewels:\n",
    "        #     ans += cnt[j]\n",
    "        # return ans\n",
    "        \n",
    "        Jset = set(jewels)\n",
    "        return sum(s in Jset for s in stones)"
   ]
  },
  {
   "cell_type": "code",
   "execution_count": 1,
   "metadata": {},
   "outputs": [
    {
     "name": "stdout",
     "output_type": "stream",
     "text": [
      "('a', 'e', 't')\n",
      "('a', 'e', 't')\n",
      "('a', 'n', 't')\n",
      "('a', 'e', 't')\n",
      "('a', 'n', 't')\n",
      "('a', 'b', 't')\n"
     ]
    },
    {
     "data": {
      "text/plain": [
       "dict_values([['eat', 'tea', 'ate'], ['tan', 'nat'], ['bat']])"
      ]
     },
     "execution_count": 1,
     "metadata": {},
     "output_type": "execute_result"
    }
   ],
   "source": [
    "# Example key of dict is immutable, so we can't use list as key\n",
    "from collections import defaultdict\n",
    "def groupAnagrams(strs):\n",
    "    groups = defaultdict(list)\n",
    "    for s in strs:\n",
    "        # key = \"\".join(sorted(s)) # String as key\n",
    "        key = tuple(sorted(s)) # Tuple as key\n",
    "        # key = sorted(s)  # TypeError: unhashable type: 'list'\n",
    "        print(key)\n",
    "        groups[key].append(s)\n",
    "    return groups.values()\n",
    "\n",
    "strs = [\"eat\", \"tea\", \"tan\", \"ate\", \"nat\", \"bat\"]\n",
    "groupAnagrams(strs)"
   ]
  },
  {
   "cell_type": "markdown",
   "metadata": {},
   "source": [
    "## Hash map for subarray\n",
    "- Hash map to record index or cnt for one value"
   ]
  },
  {
   "cell_type": "code",
   "execution_count": null,
   "metadata": {},
   "outputs": [],
   "source": [
    "# https://leetcode.com/problems/contiguous-array/\n",
    "class Solution:\n",
    "    def findMaxLength(self, nums: List[int]) -> int:\n",
    "        count = dict()\n",
    "        count[0] = -1\n",
    "        ans, curr = 0, 0\n",
    "        for i in range(len(nums)):\n",
    "            if nums[i] == 0:\n",
    "                curr-=1\n",
    "            else:\n",
    "                curr+=1\n",
    "            if curr in count:\n",
    "                ans = max(ans, i - count[curr])\n",
    "            else:\n",
    "                count[curr] = i\n",
    "        return ans"
   ]
  },
  {
   "cell_type": "code",
   "execution_count": null,
   "metadata": {},
   "outputs": [],
   "source": [
    "# [560. Subarray Sum Equals K](https://leetcode.com/problems/subarray-sum-equals-k/)\n",
    "class Solution:\n",
    "    def subarraySum(self, nums: List[int], k: int) -> int:\n",
    "        cnt = collections.defaultdict(int)\n",
    "        ans = curr = 0\n",
    "        for i in nums:\n",
    "            curr += i\n",
    "            ans += cnt[curr-k] # Corner case when k = 0\n",
    "            cnt[curr] += 1\n",
    "            if curr == k:\n",
    "                ans += 1 # subarray from 0 to curr i\n",
    "        return ans\n",
    "\n",
    "# This is only for positive numbers\n",
    "def subarraySum(nums, k):\n",
    "    counts = collections.defaultdict(int)\n",
    "    counts[0] = 1\n",
    "    curr, ans = 0, 0\n",
    "    for num in nums:\n",
    "        curr += num  # sum of subarray from 0 to i\n",
    "        counts[curr] += 1\n",
    "        ans += counts[curr - k]\n",
    "    return ans\n",
    "\n",
    "# [523. Continuous Subarray Sum](https://leetcode.com/problems/continuous-subarray-sum/)\n",
    "class Solution:\n",
    "    def checkSubarraySum(self, nums: List[int], k: int) -> bool:\n",
    "        cnt = dict()\n",
    "        curr = 0\n",
    "        for (i, num) in enumerate(nums):\n",
    "            curr += num\n",
    "            s = curr % k\n",
    "            if (i > 0 and s == 0) or (s in cnt and i - cnt[s] > 1): # At least two elements in the subarray\n",
    "                return True\n",
    "            if s not in cnt:\n",
    "                cnt[s] = i\n",
    "        return False"
   ]
  },
  {
   "cell_type": "code",
   "execution_count": null,
   "metadata": {},
   "outputs": [],
   "source": [
    "# [128. Longest Consecutive Sequence](https://leetcode.com/problems/longest-consecutive-sequence/)\n",
    "class Solution:\n",
    "    def longestConsecutive(self, nums: List[int]) -> int:\n",
    "        ss = set(nums)\n",
    "        best = 0\n",
    "        for i in ss:\n",
    "            if i-1 not in ss:\n",
    "                curr = 1\n",
    "                while i+1 in ss:\n",
    "                    i+=1\n",
    "                    curr+=1\n",
    "                best = max(best, curr)\n",
    "        return best"
   ]
  },
  {
   "cell_type": "code",
   "execution_count": null,
   "metadata": {},
   "outputs": [],
   "source": [
    "# 1590. Make Sum Divisible by P (https://leetcode.com/problems/make-sum-divisible-by-p/)\n",
    "class Solution:\n",
    "    def minSubarray(self, nums: List[int], p: int) -> int:\n",
    "        total_sum = sum(nums)\n",
    "        target = total_sum % p\n",
    "        if target == 0:\n",
    "            return 0\n",
    "        cnt = {0:-1}\n",
    "        curr = 0\n",
    "        best = len(nums)\n",
    "        for (i, num) in enumerate(nums):\n",
    "            curr = (curr + num)%p\n",
    "            need = (curr - target +p)%p # curr - need = target\n",
    "            if need in cnt:\n",
    "                best = min(best, i - cnt[need])\n",
    "            cnt[curr] = i\n",
    "        return best if best < len(nums) else -1"
   ]
  }
 ],
 "metadata": {
  "kernelspec": {
   "display_name": "Python 3",
   "language": "python",
   "name": "python3"
  },
  "language_info": {
   "codemirror_mode": {
    "name": "ipython",
    "version": 3
   },
   "file_extension": ".py",
   "mimetype": "text/x-python",
   "name": "python",
   "nbconvert_exporter": "python",
   "pygments_lexer": "ipython3",
   "version": "3.11.9"
  }
 },
 "nbformat": 4,
 "nbformat_minor": 2
}
