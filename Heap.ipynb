{
 "cells": [
  {
   "cell_type": "markdown",
   "metadata": {},
   "source": [
    "# Heaps\n",
    "- An implementation of the priority queue\n",
    "- Operations:\n",
    "    - Add an element $O(\\log n)$\n",
    "    - Remove the minimum element $O(\\log n)$\n",
    "    - Get the minimum element $O(1)$\n",
    "- Min heap v.s. Max heap\n",
    "    - Min heap: find/remove the min element\n",
    "    - Max heap: find/remove the max element\n",
    "- Implementation: min heap\n",
    "    - Implemented using a binary tree but with only an array\n",
    "    - The tree is complete\n",
    "    - The root is the smallest element\n",
    "    - `parent.val <= child.val`\n",
    "        -  Heap property is between a parent and it children\n",
    "    - The children of the node at index $i$ are at indices $2i+1$ and $2i+2$\n",
    "- An existing array can be converted to a heap in $O(n)$ time\n",
    "- Using heap can improve the time complexity from $O(n^2)$ to $O(n \\log n)$\n",
    "    - `n = 1e6`: $O(n^2)$ takes 1 second, $O(n \\log n)$ takes 0.1 second\n",
    "- When to use heap\n",
    "    - Find the smallest/largest repeatedly\n",
    "- Python implemente min heap using `heapq` module\n",
    "    - `heapq.heappush(heap, val)`  adds a new element\n",
    "    - `heapq.heappop(heap)` returns the smallest element\n",
    "    - `heapq.heappushpop(heap, val)` \n",
    "    - `heapq.heapify(heap)`: convert a list to a heap\n",
    "    - `heapq.nlargest(k, iterable)`: find the k largest elements\n",
    "    - `heapq.nsmallest(k, iterable)`: find the k smallest elements\n",
    "    - `heap[0]` is the smallest element\n",
    "    - max heap: multiply the value by -1"
   ]
  },
  {
   "cell_type": "code",
   "execution_count": null,
   "metadata": {},
   "outputs": [],
   "source": [
    "# 1046. Last Stone Weight https://leetcode.com/problems/last-stone-weight/\n",
    "# Time complexity: O(nlogn)\n",
    "import heapq\n",
    "class Solution:\n",
    "    def lastStoneWeight(self, stones: List[int]) -> int:\n",
    "        heap = [-i for i in stones]\n",
    "        heapq.heapify(heap)\n",
    "       \n",
    "        while len(heap)>1:\n",
    "            s1 = heapq.heappop(heap)\n",
    "            s2 = heapq.heappop(heap)\n",
    "            if s1 != s2:\n",
    "                val = s1 - s2\n",
    "                heapq.heappush(heap, val)\n",
    "        return -heap[0] if heap else 0"
   ]
  },
  {
   "cell_type": "code",
   "execution_count": null,
   "metadata": {},
   "outputs": [],
   "source": [
    "# 2208. Minimum operations to Halve Array Sum https://leetcode.com/problems/minimum-operations-to-halve-array-sum/\n",
    "import heapq\n",
    "class Solution:\n",
    "    def halveArray(self, nums: List[int]) -> int:\n",
    "        total_sum = sum(nums)\n",
    "        operation, curr = 0, 0\n",
    "        nums = [-i for i in nums]\n",
    "        heapq.heapify(nums)\n",
    "        while curr < total_sum/2:\n",
    "            a = heapq.heappop(nums)\n",
    "            curr -= a/2\n",
    "            operation += 1\n",
    "            heapq.heappush(nums,a/2)\n",
    "        return operation\n"
   ]
  },
  {
   "cell_type": "markdown",
   "metadata": {},
   "source": [
    "## Two heaps\n",
    "- Two heaps: one max heap and one min heap\n",
    "- Used to find the median of a stream of numbers\n",
    "- Examples\n",
    "    - [295. Find Median from Data Stream](https://leetcode.com/problems/find-median-from-data-stream/)\n",
    "    - [480. Sliding Window Median](https://leetcode.com/problems/sliding-window-median/)"
   ]
  },
  {
   "cell_type": "code",
   "execution_count": 4,
   "metadata": {},
   "outputs": [],
   "source": [
    "# [295. Find Median from Data Stream](https://leetcode.com/problems/find-median-from-data-stream/)\n",
    "import heapq\n",
    "class MedianFinder:\n",
    "    def __init__(self):\n",
    "        self.maxheap = []\n",
    "        self.minheap = []\n",
    "\n",
    "    def addNum(self, num):\n",
    "        heapq.heappush(self.maxheap, -num)\n",
    "        heapq.heappush(self.minheap, -heapq.heappop(self.maxheap))\n",
    "        if len(self.minheap) > len(self.maxheap):\n",
    "            heapq.heappush(self.maxheap, -heapq.heappop(self.minheap))\n",
    "\n",
    "    def findMedian(self):\n",
    "        if len(self.maxheap) == len(self.minheap):\n",
    "            return (-self.maxheap[0]+self.minheap[0])/2\n",
    "        else:\n",
    "            return -self.maxheap[0]"
   ]
  },
  {
   "cell_type": "code",
   "execution_count": 8,
   "metadata": {},
   "outputs": [
    {
     "data": {
      "text/plain": [
       "[]"
      ]
     },
     "execution_count": 8,
     "metadata": {},
     "output_type": "execute_result"
    }
   ],
   "source": [
    "# [480. Sliding Window Median](https://leetcode.com/problems/sliding-window-median/)\n",
    "# Two heaps\n",
    "import heapq\n",
    "class Solution:\n",
    "    def medianSlidingWindow(self, nums: List[int], k: int) -> List[float]:\n",
    "        maxheap, minheap = [], []\n",
    "        res = []\n",
    "        for i in range(len(nums)):\n",
    "            if not maxheap or nums[i] <= -maxheap[0]:\n",
    "                heapq.heappush(maxheap, -nums[i])\n",
    "            else:\n",
    "                heapq.heappush(minheap, nums[i])\n",
    "            if i >= k:\n",
    "                if nums[i-k] <= -maxheap[0]:\n",
    "                    maxheap.remove(-nums[i-k])\n",
    "                    heapq.heapify(maxheap)\n",
    "                else:\n",
    "                    minheap.remove(nums[i-k])\n",
    "                    heapq.heapify(minheap)\n",
    "            while len(maxheap) > len(minheap):\n",
    "                heapq.heappush(minheap, -heapq.heappop(maxheap))\n",
    "            while len(minheap) > len(maxheap):\n",
    "                heapq.heappush(maxheap, -heapq.heappop(minheap))\n",
    "            if i >= k-1:\n",
    "                if k % 2 == 0:\n",
    "                    res.append((-maxheap[0]+minheap[0])/2)\n",
    "                else:\n",
    "                    res.append(-maxheap[0])\n",
    "        return res\n"
   ]
  },
  {
   "cell_type": "code",
   "execution_count": null,
   "metadata": {},
   "outputs": [],
   "source": [
    "# Remove Stones to Minimize the Total https://leetcode.com/problems/remove-stones-to-minimize-the-total/\n",
    "class Solution:\n",
    "    def minStoneSum(self, piles: List[int], k: int) -> int:\n",
    "        piles = [-i for i in piles]\n",
    "        heapq.heapify(piles)\n",
    "        while k > 0:\n",
    "            val = heappop(piles)\n",
    "            heappush(piles, val + floor(-val/2))\n",
    "            k -= 1\n",
    "        return -sum(piles)"
   ]
  },
  {
   "cell_type": "code",
   "execution_count": null,
   "metadata": {},
   "outputs": [],
   "source": [
    "# Minimum Cost to connect Sticks https://leetcode.com/problems/minimum-cost-to-connect-sticks/\n",
    "class Solution:\n",
    "    def connectSticks(self, sticks: List[int]) -> int:\n",
    "        heapq.heapify(sticks)\n",
    "        cost = 0\n",
    "        while len(sticks) > 1:\n",
    "            val1 = heapq.heappop(sticks)\n",
    "            val2 = heapq.heappop(sticks)\n",
    "            cost += (val1+val2)\n",
    "            heapq.heappush(sticks, val1+val2)\n",
    "        return cost"
   ]
  },
  {
   "cell_type": "markdown",
   "metadata": {},
   "source": [
    "## Top k\n",
    "- Find the `k` largest or smallest elements\n",
    "- Sort $O(n \\log n)$ v.s. heap $O(n \\log k)$\n",
    "- Interviews look for these small imporvements\n",
    "- Iterate over the input while pushing every element to the heap and pop from the heap if it exceeds `k`"
   ]
  },
  {
   "cell_type": "code",
   "execution_count": null,
   "metadata": {},
   "outputs": [],
   "source": [
    "# 347. Top K Frequent Elements https://leetcode.com/problems/top-k-frequent-elements/\n",
    "class Solution:\n",
    "    def topKFrequent(self, nums: List[int], k: int) -> List[int]:\n",
    "        heap = []\n",
    "        cnt = collections.Counter(nums)\n",
    "        for num, i in cnt.items():\n",
    "            heapq.heappush(heap, (i, num))\n",
    "            if len(heap) > k:\n",
    "                heapq.heappop(heap)\n",
    "        return [y for _,y in heap]"
   ]
  },
  {
   "cell_type": "code",
   "execution_count": null,
   "metadata": {},
   "outputs": [],
   "source": [
    "# 658. Find K Closest Elements https://leetcode.com/problems/find-k-closest-elements/\n",
    "# heap O(nlogk)\n",
    "def findClosestElements(self, arr: List[int], k: int, x: int) -> List[int]:\n",
    "    heap = []\n",
    "    for num in arr:\n",
    "        heapq.heappush(heap, (-abs(num-x), -num))\n",
    "        if len(heap) > k:\n",
    "            heapq.heappop(heap)\n",
    "    ans = [-y for _,y in heap]\n",
    "    return sorted(ans)\n",
    "\n",
    "# O(n)\n",
    "def findClosestElements(self, arr: List[int], k: int, x: int) -> List[int]:\n",
    "    left, right = 0, len(arr)-1\n",
    "    while right - left >= k:\n",
    "        if x - arr[left] > arr[right] - x:\n",
    "            left += 1\n",
    "        else:\n",
    "            right -= 1\n",
    "    return arr[left:right+1]\n",
    "\n",
    "# O(logn)\n",
    "def findClosestElements(self, arr: List[int], k: int, x: int) -> List[int]:\n",
    "    left, right = 0, len(arr)-k\n",
    "    while left < right:\n",
    "        mid = (left+right)//2\n",
    "        if x - arr[mid] > arr[mid+k] - x:\n",
    "            left = mid + 1\n",
    "        else:\n",
    "            right = mid\n",
    "    return arr[left:left+k]"
   ]
  },
  {
   "cell_type": "code",
   "execution_count": null,
   "metadata": {},
   "outputs": [],
   "source": [
    "# Kth Largest Element in an Array https://leetcode.com/problems/kth-largest-element-in-an-array/\n",
    "class Solution:\n",
    "    def findKthLargest(self, nums: List[int], k: int) -> int:\n",
    "        # min heap\n",
    "        # Time complexity $O(n logk)$\n",
    "        heap = []\n",
    "        for num in nums:\n",
    "            heapq.heappush(heap, num)\n",
    "            if len(heap) > k:\n",
    "                heapq.heappop(heap)\n",
    "        return heap[0]"
   ]
  },
  {
   "cell_type": "code",
   "execution_count": null,
   "metadata": {},
   "outputs": [],
   "source": [
    "# K Closest Points to Origin https://leetcode.com/problems/k-closest-points-to-origin/\n",
    "class Solution:\n",
    "    def kClosest(self, points: List[List[int]], k: int) -> List[List[int]]:\n",
    "        heap = []\n",
    "        for i, [x,y] in enumerate(points):\n",
    "            dist = x**2 + y**2\n",
    "            heapq.heappush(heap, (-dist, i))\n",
    "            if len(heap) > k:\n",
    "                heapq.heappop(heap)\n",
    "        return [points[l[1]] for l in heap] "
   ]
  },
  {
   "cell_type": "code",
   "execution_count": null,
   "metadata": {},
   "outputs": [],
   "source": [
    "# Kth Largest Element in a Stream https://leetcode.com/problems/kth-largest-element-in-a-stream/\n",
    "class KthLargest:\n",
    "\n",
    "    def __init__(self, k: int, nums: List[int]):\n",
    "        self.heap = nums\n",
    "        heapq.heapify(self.heap)\n",
    "        self.k = k\n",
    "        \n",
    "\n",
    "    def add(self, val: int) -> int:\n",
    "        heapq.heappush(self.heap, val)\n",
    "        while len(self.heap) > self.k:\n",
    "            heapq.heappop(self.heap)\n",
    "        return self.heap[0]"
   ]
  }
 ],
 "metadata": {
  "kernelspec": {
   "display_name": "Python 3",
   "language": "python",
   "name": "python3"
  },
  "language_info": {
   "codemirror_mode": {
    "name": "ipython",
    "version": 3
   },
   "file_extension": ".py",
   "mimetype": "text/x-python",
   "name": "python",
   "nbconvert_exporter": "python",
   "pygments_lexer": "ipython3",
   "version": "3.10.6"
  }
 },
 "nbformat": 4,
 "nbformat_minor": 2
}
