{
 "cells": [
  {
   "cell_type": "code",
   "execution_count": null,
   "metadata": {},
   "outputs": [],
   "source": []
  },
  {
   "cell_type": "markdown",
   "metadata": {},
   "source": [
    "# Complexity \n",
    "Computational complexity is a way to describe how the time or space required to solve a problem grows as the size of the input grows.\n",
    "\n",
    "Computation resource is between 10^8 ~ 10^9 per second.\n",
    "\n",
    "- 10^4 O(n^2)\n",
    "- 10^5 ~ 10^6 O(nlogn)\n",
    "- 10^7 O(n)"
   ]
  },
  {
   "cell_type": "markdown",
   "metadata": {},
   "source": [
    "## Sort\n",
    "- `arr.sort()` sort array in place\n",
    "    - `arr.sort(reserve=True)` sort in descending order\n",
    "- `sorted(arr)` return sorted array\n",
    "- `arr.sort(key=lambda x: (x[0], -x[1]))` sort by multiple keys\n",
    "- `arr.sort(key=lambda x: x[0])` sort by first element\n",
    "- Get sorted index and apply to other array\n",
    "    - `sorted_index = sorted(range(len(arr)), key=lambda x: arr[x])`\n",
    "    - `sort_arr = [arr[i] for i in sorted_index]`"
   ]
  },
  {
   "cell_type": "code",
   "execution_count": null,
   "metadata": {},
   "outputs": [],
   "source": [
    "heights = [2,1,9,4,11]\n",
    "ih = sorted(enumerate(heights), key=lambda x: x[1], reverse=True)"
   ]
  },
  {
   "cell_type": "code",
   "execution_count": 8,
   "metadata": {},
   "outputs": [],
   "source": [
    "# Find the index of a letter in a string\n",
    "s = \"hello\"\n",
    "s.index(\"e\")\n",
    "ss = list(s)\n",
    "del ss[ss.index(\"e\")]"
   ]
  },
  {
   "cell_type": "code",
   "execution_count": 9,
   "metadata": {},
   "outputs": [
    {
     "data": {
      "text/plain": [
       "['h', 'l', 'l', 'o']"
      ]
     },
     "execution_count": 9,
     "metadata": {},
     "output_type": "execute_result"
    }
   ],
   "source": [
    "last = {c: i for i, c in enumerate(S)}"
   ]
  },
  {
   "cell_type": "code",
   "execution_count": null,
   "metadata": {},
   "outputs": [],
   "source": [
    "# get the most frequent element in a list\n",
    "count = collections.Counter(nums)\n",
    "most_frequent = max(count.keys(), key = count.get)"
   ]
  }
 ],
 "metadata": {
  "kernelspec": {
   "display_name": "Python 3",
   "language": "python",
   "name": "python3"
  },
  "language_info": {
   "codemirror_mode": {
    "name": "ipython",
    "version": 3
   },
   "file_extension": ".py",
   "mimetype": "text/x-python",
   "name": "python",
   "nbconvert_exporter": "python",
   "pygments_lexer": "ipython3",
   "version": "3.10.6"
  }
 },
 "nbformat": 4,
 "nbformat_minor": 2
}
