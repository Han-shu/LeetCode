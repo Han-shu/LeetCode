{
 "cells": [
  {
   "cell_type": "markdown",
   "metadata": {},
   "source": [
    "# Greedy Algorithms\n",
    "- Greedy algorithms makes the locally optimal decision at every step\n",
    "- Ask for the minimum or maximum of something, but not always\n",
    "- Many greedy probelms are solved by sorting the input first\n",
    "- In real life, greedy algorithms can give good approximations to hard problems, e.g., the traveling salesman problem (TSG)\n",
    "- Often very fast\n",
    "## Example\n",
    "- [2126. Destroying Asteroids]\n",
    "- [2294. Partition Array Such That Maximum Difference is K]\n",
    "- [881. Boats to Save People](https://www.leetcode.com/problems/boats-to-save-people)\n"
   ]
  },
  {
   "cell_type": "code",
   "execution_count": null,
   "metadata": {},
   "outputs": [],
   "source": [
    "# [2126. Destroying Asteroids](https://www.leetcode.com/problems/destroying-asteroids)\n",
    "class Solution:\n",
    "    def asteroidsDestroyed(self, mass: int, asteroids: List[int]) -> bool:\n",
    "        asteroids.sort()\n",
    "        for a in asteroids:\n",
    "            if a > mass:\n",
    "                return False\n",
    "            mass += a\n",
    "        return True"
   ]
  },
  {
   "cell_type": "code",
   "execution_count": null,
   "metadata": {},
   "outputs": [],
   "source": [
    "# [2294. Partition Array Such That Maximum Difference is K](https://www.leetcode.com/problems/partition-array-such-that-maximum-difference-is-k)\n",
    "class Solution:\n",
    "    def partitionArray(self, nums: List[int], k: int) -> int:\n",
    "        nums.sort()\n",
    "        le, cnt = 0, 1\n",
    "        for i in range(1, len(nums)):\n",
    "            if nums[i] - nums[le] > k:\n",
    "                cnt += 1\n",
    "                le = i\n",
    "        return cnt "
   ]
  },
  {
   "cell_type": "code",
   "execution_count": null,
   "metadata": {},
   "outputs": [],
   "source": [
    "# [502. IPO](https://www.leetcode.com/problems/ipo)\n",
    "class Solution:\n",
    "    def findMaximizedCapital(self, k: int, w: int, profits: List[int], capital: List[int]) -> int:\n",
    "        # max, mmin heap\n",
    "        work, wait = [], []\n",
    "        for p, c in zip(profits, capital):\n",
    "            if c <= w:\n",
    "                heapq.heappush(work, -p)\n",
    "            else:\n",
    "                heapq.heappush(wait, (c, p))\n",
    "        for _ in range(k):\n",
    "            if not work:\n",
    "                return w\n",
    "            w -= heapq.heappop(work)\n",
    "            while wait and wait[0][0] <= w:\n",
    "                c,p = heapq.heappop(wait)\n",
    "                heapq.heappush(work, -p)\n",
    "        return w"
   ]
  },
  {
   "cell_type": "code",
   "execution_count": null,
   "metadata": {},
   "outputs": [],
   "source": [
    "# [1481. Least Number of Unique Integers after K Removals](https://www.leetcode.com/problems/least-number-of-unique-integers-after-k-removals)\n",
    "class Solution:\n",
    "    def findLeastNumOfUniqueInts(self, arr: List[int], k: int) -> int:\n",
    "        cnt = collections.Counter(arr)\n",
    "        s = sorted(cnt.values())\n",
    "        i = 0\n",
    "        while i < len(s):\n",
    "            k-= s[i]\n",
    "            if k >= 0:\n",
    "                i+=1\n",
    "            else:\n",
    "                break\n",
    "        return len(s)-i"
   ]
  },
  {
   "cell_type": "code",
   "execution_count": null,
   "metadata": {},
   "outputs": [],
   "source": [
    "# [881. Boats to Save People](https://www.leetcode.com/problems/boats-to-save-people)\n",
    "class Solution:\n",
    "    def numRescueBoats(self, people: List[int], limit: int) -> int:\n",
    "        people.sort()\n",
    "        le, ri = 0, len(people)-1\n",
    "        cnt = 0\n",
    "        while le <= ri:\n",
    "            if people[le]+people[ri] <= limit:\n",
    "                le += 1\n",
    "            ri -= 1\n",
    "            cnt += 1\n",
    "        return cnt"
   ]
  },
  {
   "cell_type": "code",
   "execution_count": null,
   "metadata": {},
   "outputs": [],
   "source": [
    "# [MAximum 69 Number](https://leetcode.com/problems/maximum-69-number)"
   ]
  },
  {
   "cell_type": "code",
   "execution_count": null,
   "metadata": {},
   "outputs": [],
   "source": [
    "# [Maximum Units on a Truck](https://leetcode.com/problems/maximum-units-on-a-truck)\n",
    "class Solution:\n",
    "    def maximumUnits(self, boxTypes: List[List[int]], truckSize: int) -> int:\n",
    "        boxTypes.sort(key = lambda x : x[1])\n",
    "        res = 0\n",
    "        while boxTypes and truckSize > 0:\n",
    "            num, unit = boxTypes.pop()\n",
    "            res += min(num, truckSize)*unit\n",
    "            truckSize -= num\n",
    "        return res"
   ]
  },
  {
   "cell_type": "code",
   "execution_count": null,
   "metadata": {},
   "outputs": [],
   "source": [
    "# [How Many Apples Can You Put into the Basket](https://leetcode.com/problems/how-many-apples-can-you-put-into-the-basket)\n",
    "class Solution:\n",
    "    def maxNumberOfApples(self, weight: List[int]) -> int:\n",
    "        weight.sort()\n",
    "        apples, curr = 0, 0 \n",
    "        for w in weight:\n",
    "            curr += w\n",
    "            if curr <= 5000:\n",
    "                apples+=1\n",
    "            else:\n",
    "                break\n",
    "        return apples"
   ]
  },
  {
   "cell_type": "code",
   "execution_count": null,
   "metadata": {},
   "outputs": [],
   "source": [
    "# [Reduce Array Size to The Half] (https://leetcode.com/problems/reduce-array-size-to-the-half)\n",
    "class Solution:\n",
    "    def minSetSize(self, arr: List[int]) -> int:\n",
    "        cnt = collections.Counter(arr)\n",
    "        s = sorted(cnt.values())\n",
    "        remove = (sum(s)-1)//2+1\n",
    "        res = 0\n",
    "        while s and remove>0:\n",
    "            remove -= s.pop()\n",
    "            res += 1\n",
    "        return res"
   ]
  },
  {
   "cell_type": "code",
   "execution_count": null,
   "metadata": {},
   "outputs": [],
   "source": [
    "# [857. Minimum Cost to Hire K Workers](https://www.leetcode.com/problems/minimum-cost-to-hire-k-workers)\n",
    "class Solution:\n",
    "    def mincostToHireWorkers(self, quality: List[int], wage: List[int], k: int) -> float:\n",
    "        n = len(quality)\n",
    "        ratio = [(w/q, q) for q,w in zip(quality, wage)]\n",
    "        ratio.sort(key = lambda x: x[0])\n",
    "        workers = [] #maxheap\n",
    "        total_cost = math.inf\n",
    "        curr_quality = 0\n",
    "        for i in range(n):\n",
    "            heapq.heappush(workers, -ratio[i][1])\n",
    "            curr_quality += ratio[i][1]\n",
    "            if len(workers) > k:\n",
    "                curr_quality += heapq.heappop(workers)\n",
    "            if len(workers) == k:\n",
    "                total_cost = min(total_cost, curr_quality*ratio[i][0])\n",
    "        return total_cost"
   ]
  }
 ],
 "metadata": {
  "language_info": {
   "name": "python"
  }
 },
 "nbformat": 4,
 "nbformat_minor": 2
}
