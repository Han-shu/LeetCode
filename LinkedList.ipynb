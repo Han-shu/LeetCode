{
 "cells": [
  {
   "cell_type": "markdown",
   "metadata": {},
   "source": [
    "# Linked List\n",
    "- Advantages:\n",
    "    - O(1) insert/remove elements at any position if you have a reference to the node\n",
    "    - Dynamic size\n",
    "- Disadvantages:\n",
    "    - No random access, O(n) to access an element ai a given position\n",
    "    - Extra memory for the pointers"
   ]
  },
  {
   "cell_type": "markdown",
   "metadata": {},
   "source": [
    "All non-primitive types are passed by reference in Python\n",
    "\n",
    "Primitive types: int, float, bool, str, tuple\n",
    "\n",
    "- Assigment (=) \n",
    "    - Python is by reference, so be careful when copying linked lists\n",
    "    - Use deepcopy to avoid this\n",
    "    - `import copy` and `copy.deepcopy()`\n",
    "- Chaining .next\n",
    "    - Multiple `.next`: e.g. `head.next.next` everything before the final '.next' is a node"
   ]
  },
  {
   "cell_type": "markdown",
   "metadata": {},
   "source": [
    "- Assignment operator (=)\n",
    "    - `head.next = node` chnaging the next node of the head\n",
    "    -  `node = head.next` refering to the next node of the head\n",
    "- `head.next = head.next.next` removing the next node of the head\n",
    "- Sentinel node: dummy node that is always at the head of the linked list"
   ]
  },
  {
   "cell_type": "markdown",
   "metadata": {},
   "source": [
    "### Fast and slow pointers\n",
    "- Fast pointer moves twice as fast as the slow pointer\n",
    "    -  Used to find the middle of the linked list\n",
    "    - Used to find the cycle in the linked list\n",
    "- Seperate the two pointers by a gap of k elements"
   ]
  },
  {
   "cell_type": "code",
   "execution_count": null,
   "metadata": {},
   "outputs": [],
   "source": [
    "# 876. Middle of the Linked List https://leetcode.com/problems/middle-of-the-linked-list/description/\n",
    "def get_middle(head):\n",
    "    if head is None:\n",
    "        return None\n",
    "    slow = head\n",
    "    fast = head\n",
    "    while fast.next is not None and fast.next.next is not None:\n",
    "        slow = slow.next\n",
    "        fast = fast.next.next\n",
    "    return slow.val"
   ]
  },
  {
   "cell_type": "code",
   "execution_count": null,
   "metadata": {},
   "outputs": [],
   "source": [
    "def hasCycle(head):\n",
    "    if head is None:\n",
    "        return False\n",
    "    slow = head\n",
    "    fast = head\n",
    "    while fast.next is not None and fast.next.next is not None:\n",
    "        slow = slow.next\n",
    "        fast = fast.next.next\n",
    "        if slow == fast:\n",
    "            return True\n",
    "    return False"
   ]
  },
  {
   "cell_type": "code",
   "execution_count": null,
   "metadata": {},
   "outputs": [],
   "source": [
    "# Find the kth node from the end of a singly linked\n",
    "def kth_from_end(head, k):\n",
    "    if head is None:\n",
    "        return None\n",
    "    slow = head\n",
    "    fast = head\n",
    "    for i in range(k):\n",
    "        if fast is None:\n",
    "            return None\n",
    "        fast = fast.next\n",
    "    while fast is not None:\n",
    "        slow = slow.next\n",
    "        fast = fast.next\n",
    "    return slow.val"
   ]
  },
  {
   "cell_type": "code",
   "execution_count": null,
   "metadata": {},
   "outputs": [],
   "source": [
    "# https://leetcode.com/problems/remove-duplicates-from-sorted-list/description/\n",
    "\n",
    "def deleteDuplicates(self, head: ListNode) -> ListNode:\n",
    "    current = head\n",
    "    while current is not None and current.next is not None:\n",
    "        if current.next.val == current.val:\n",
    "            current.next = current.next.next # skip the next node but do not move current\n",
    "        else:\n",
    "            current = current.next\n",
    "    return head"
   ]
  },
  {
   "cell_type": "code",
   "execution_count": null,
   "metadata": {},
   "outputs": [],
   "source": [
    "# Reverse a linked list https://leetcode.com/problems/reverse-linked-list/description/\n",
    "def reverse_list(head):\n",
    "    prev = None\n",
    "    curr = head\n",
    "    while curr is not None:\n",
    "        next_node = curr.next # save the next node\n",
    "        curr.next = prev\n",
    "        prev = curr\n",
    "        curr = next_node\n",
    "    return prev"
   ]
  },
  {
   "cell_type": "code",
   "execution_count": null,
   "metadata": {},
   "outputs": [],
   "source": [
    "# Reverse linked lisk II https://leetcode.com/problems/middle-of-the-linked-list/description/\n",
    "def reverseBetween(self, head: Optional[ListNode], left: int, right: int) -> Optional[ListNode]:\n",
    "    dummy = ListNode(val=0, next=head)\n",
    "    lefthead = dummy\n",
    "    for _ in range(left-1):\n",
    "        lefthead = head\n",
    "        head = head.next\n",
    "    righthead = head\n",
    "    prev = None\n",
    "    for _ in range(right-left+1):\n",
    "        NextNode = head.next\n",
    "        head.next = prev\n",
    "        prev = head\n",
    "        head = NextNode\n",
    "    lefthead.next = prev\n",
    "    righthead.next = head\n",
    "    return dummy.next\n"
   ]
  },
  {
   "cell_type": "code",
   "execution_count": null,
   "metadata": {},
   "outputs": [],
   "source": [
    "def swappairs(head):\n",
    "    if head is None or head.next is None:\n",
    "        return head\n",
    "    prev = None\n",
    "    dummy = head.next # SAVE new head\n",
    "    while head is not None and head.next is not None:\n",
    "        if prev is not None:\n",
    "            prev.next = head.next # connect the previous pair to the current pair\n",
    "        prev = head # save a pointer to connect to the rest of the list later\n",
    "        next_node = head.next.next # save the next pair\n",
    "        head.next.next = head # swap the pair\n",
    "        head.next = next_node # handle the case when there is only one node left\n",
    "        head = next_node # move to the next pair\n",
    "    return dummy"
   ]
  },
  {
   "cell_type": "code",
   "execution_count": null,
   "metadata": {},
   "outputs": [],
   "source": [
    "# https://leetcode.com/problems/maximum-twin-sum-of-a-linked-list/\n",
    "\n",
    "class Solution:\n",
    "    def pairSum(self, head: Optional[ListNode]) -> int:\n",
    "        slow, fast = head, head\n",
    "        while fast is not None and fast.next is not None:\n",
    "            slow = slow.next\n",
    "            fast = fast.next.next\n",
    "        prev, curr = None, slow\n",
    "        while curr is not None:\n",
    "            NextNode = curr.next\n",
    "            curr.next = prev\n",
    "            prev = curr\n",
    "            curr = NextNode\n",
    "        curr = prev\n",
    "        ans = 0\n",
    "        while curr is not None:\n",
    "            ans = max(ans, curr.val+head.val)\n",
    "            curr = curr.next\n",
    "            head = head.next\n",
    "        return ans"
   ]
  }
 ],
 "metadata": {
  "language_info": {
   "name": "python"
  }
 },
 "nbformat": 4,
 "nbformat_minor": 2
}
