{
 "cells": [
  {
   "cell_type": "markdown",
   "metadata": {},
   "source": [
    "# Array and String\n",
    "In Python, \n",
    "- array is mutable\n",
    "    - Mutable: A type of data that can be changed\n",
    "- string is immutable\n",
    "    - Immutable: A type of data that cannot be changed after it is created\n",
    "- Example: arr = [\"a\", \"b\", \"c\"], s = \"abc\"\n",
    "    - want to represent \"abd\"\n",
    "    - you can easily do arr[2] = \"d\", but you cannot do s[2] = \"d\"\n",
    "- Operations of array/list\n",
    "    - Random access: O(1)\n",
    "    - Modification: O(1)\n",
    "    - Append to end: O(1)\n",
    "    - Pop from end: O(1)\n",
    "    - Insertion: O(n)\n",
    "    - Deletion: O(n)\n",
    "    - Check if element exists: O(n)\n",
    "\n",
    "## Two pointers\n",
    "- Common technique used to solve array and string problems\n",
    "- Using two integer variables to move along some iterables\n",
    "    - Start the pointers at the edges of the input. Move them towards each other until they meet\n",
    "        - Check if a string is a palindrome\n",
    "        - Given a sorted array of unique integers, find two numbers that sum up to a target number\n",
    "    - Move along both inputs simultaneously\n",
    "        - Merge two sorted arrays\n",
    "        - Given a string, find the length of the longest substring without repeating characters\n",
    "        - [392. Is Subsequence](https://leetcode.com/problems/is-subsequence/) \n",
    "- Time complexity: $O(n)$"
   ]
  },
  {
   "cell_type": "code",
   "execution_count": null,
   "metadata": {},
   "outputs": [],
   "source": [
    "def combine(arr1, arr2):\n",
    "    ans = []\n",
    "    i = j = 0\n",
    "    while i < len(arr1) and j < len(arr2):\n",
    "        if arr1[i] < arr2[j]:\n",
    "            ans.append(arr1[i])\n",
    "            i += 1\n",
    "        else:\n",
    "            ans.append(arr2[j])\n",
    "            j += 1\n",
    "    while i < len(arr1):\n",
    "        ans.append(arr1[i])\n",
    "        i += 1\n",
    "    while j < len(arr2):\n",
    "        ans.append(arr2[j])\n",
    "        j += 1\n",
    "    return ans"
   ]
  },
  {
   "cell_type": "code",
   "execution_count": null,
   "metadata": {},
   "outputs": [],
   "source": [
    "# 344. Reverse String https://leetcode.com/problems/reverse-string/\n",
    "class Solution:\n",
    "    def reverseString(self, s: List[str]) -> None:\n",
    "        le, ri = 0, len(s)-1\n",
    "        while le < ri:\n",
    "            s[le], s[ri] = s[ri], s[le]\n",
    "            le += 1\n",
    "            ri -= 1\n",
    "        return "
   ]
  },
  {
   "cell_type": "code",
   "execution_count": null,
   "metadata": {},
   "outputs": [],
   "source": [
    "# 977. Squares of a Sorted Array https://leetcode.com/problems/squares-of-a-sorted-array/\n",
    "class Solution:\n",
    "    def sortedSquares(self, nums: List[int]) -> List[int]:\n",
    "        # O(n)\n",
    "        ans = []\n",
    "        le, ri = 0, len(nums)-1\n",
    "        while le <= ri:\n",
    "            if nums[le]**2 < nums[ri]**2:\n",
    "                ans.append(nums[ri]**2)\n",
    "                ri -=1\n",
    "            else:\n",
    "                ans.append(nums[le]**2)\n",
    "                le +=1\n",
    "        return reversed(ans)\n",
    "\n",
    "        # O(log n) + O(n)\n",
    "        # find the index of the first nonnegative element\n",
    "    def sortedSquares(self, nums: List[int]) -> List[int]:\n",
    "        def bin_search(arr):\n",
    "            lo, hi = 0, len(arr)\n",
    "            while lo < hi:\n",
    "                mid = (lo+hi)//2\n",
    "                if arr[mid] < 0:\n",
    "                    lo = mid+1\n",
    "                else:\n",
    "                    hi = mid\n",
    "            return lo\n",
    "        ri = bin_search(nums)\n",
    "        le = ri - 1\n",
    "        ans = []\n",
    "        while le >= 0 and ri < len(nums):\n",
    "            if nums[le]**2 < nums[ri]**2:\n",
    "                ans.append(nums[le]**2)\n",
    "                le -= 1\n",
    "            else:\n",
    "                ans.append(nums[ri]**2)\n",
    "                ri += 1\n",
    "        while le >=0:\n",
    "            ans.append(nums[le]**2)\n",
    "            le -= 1\n",
    "        while ri < len(nums):\n",
    "            ans.append(nums[ri]**2)\n",
    "            ri += 1\n",
    "        return ans  "
   ]
  },
  {
   "cell_type": "code",
   "execution_count": null,
   "metadata": {},
   "outputs": [],
   "source": [
    "# [75. Sort Colors](https://leetcode.com/problems/sort-colors/)\n",
    "class Solution:\n",
    "    def sortColors(self, nums: List[int]) -> None:\n",
    "        \"\"\"\n",
    "        Do not return anything, modify nums in-place instead.\n",
    "        \"\"\"\n",
    "        p0, p2, curr = 0, len(nums)-1, 0\n",
    "        while curr <= p2:\n",
    "            if nums[curr] == 0:\n",
    "                nums[p0], nums[curr] = nums[curr], nums[p0]\n",
    "                p0 += 1\n",
    "                curr += 1\n",
    "            elif nums[curr] == 2:\n",
    "                nums[p2], nums[curr] = nums[curr], nums[p2]\n",
    "                p2 -= 1\n",
    "            else: \n",
    "                curr += 1\n",
    "        return "
   ]
  },
  {
   "cell_type": "code",
   "execution_count": null,
   "metadata": {},
   "outputs": [],
   "source": [
    "# [189. Rotate Array](https://leetcode.com/problems/rotate-array/)\n",
    "class Solution:\n",
    "    def rotate(self, nums: List[int], k: int) -> None:\n",
    "        \"\"\"\n",
    "        Do not return anything, modify nums in-place instead.\n",
    "        \"\"\"\n",
    "        def reverse(arr,le,ri):\n",
    "            while le < ri:\n",
    "                arr[le], arr[ri] = arr[ri], arr[le]\n",
    "                le += 1\n",
    "                ri -= 1\n",
    "            return \n",
    "        k %= len(nums)\n",
    "        reverse(nums, 0, len(nums)-1)\n",
    "        reverse(nums, 0, k-1)\n",
    "        reverse(nums, k, len(nums)-1)\n",
    "        return \n",
    "    def rotate(self, nums: List[int], k: int) -> None:\n",
    "        n = len(nums)\n",
    "        k = k % n\n",
    "        start, cnt = 0, 0\n",
    "        while cnt < n:\n",
    "            curr, prev = start, nums[start]\n",
    "            while True:\n",
    "                nxt_idx = (curr + k)%n\n",
    "                nums[nxt_idx], prev = prev, nums[nxt_idx]\n",
    "                curr = nxt_idx\n",
    "                cnt += 1\n",
    "                if start == curr:\n",
    "                    break\n",
    "            start += 1\n",
    "        return      "
   ]
  },
  {
   "cell_type": "markdown",
   "metadata": {},
   "source": [
    "## Sliding window\n",
    "- Use two pointers (start and end) to represent current subarray or substring under consideration\n",
    "- When to use\n",
    "    - The problem define criteria that make a subarray valid\n",
    "    - Ask to find valid subarrays in some way\n",
    "        - Best, shortest, longest\n",
    "        - Number of valid subarrays        \n",
    "- Number of subarrays\n",
    "    - [713. Subarray Product Less Than K](https://leetcode.com/problems/subarray-product-less-than-k/) \n",
    "- Fixed window size\n",
    "- Time complexity: $O(n)$"
   ]
  },
  {
   "cell_type": "code",
   "execution_count": null,
   "metadata": {},
   "outputs": [],
   "source": [
    "# Maximum Average Subarray I https://leetcode.com/problems/maximum-average-subarray-i/\n",
    "class Solution:\n",
    "    def findMaxAverage(self, nums: List[int], k: int) -> float:\n",
    "        max_sum = sum(nums[0:k])\n",
    "        curr_sum = max_sum\n",
    "        for i in range(k, len(nums)):\n",
    "            curr_sum += nums[i] - nums[i-k]\n",
    "            max_sum = max(max_sum, curr_sum)\n",
    "        return max_sum/k\n"
   ]
  },
  {
   "cell_type": "code",
   "execution_count": null,
   "metadata": {},
   "outputs": [],
   "source": [
    "# 1004. Max Consecutive Ones III https://leetcode.com/problems/max-consecutive-ones-iii/\n",
    "class Solution:\n",
    "    def longestOnes(self, nums: List[int], k: int) -> int:\n",
    "        le, ans, flip = 0, 0, 0\n",
    "        for ri in range(len(nums)):\n",
    "            if nums[ri] == 0:\n",
    "                flip += 1\n",
    "            while flip > k:\n",
    "                if nums[le] == 0:\n",
    "                    flip -= 1\n",
    "                le += 1\n",
    "            ans = max(ans, ri-le+1)\n",
    "        return ans"
   ]
  },
  {
   "cell_type": "code",
   "execution_count": null,
   "metadata": {},
   "outputs": [],
   "source": [
    "# [76. Minimum Window Substring](https://leetcode.com/problems/minimum-window-substring/)\n",
    "class Solution:\n",
    "    def minWindow(self, s: str, t: str) -> str:\n",
    "        cnt_t = collections.Counter(t)\n",
    "        todo = len(t)\n",
    "        ans = \"\"\n",
    "        ri = 0\n",
    "        for le in range(len(s)):\n",
    "            while ri < len(s) and todo > 0:\n",
    "                if s[ri] in cnt_t:\n",
    "                    cnt_t[s[ri]] -= 1\n",
    "                    if cnt_t[s[ri]] >= 0:\n",
    "                        todo -= 1\n",
    "                ri += 1\n",
    "            if todo == 0 and (ans == \"\" or ri-le <len(ans)):\n",
    "                ans = s[le:ri]\n",
    "            if s[le] in cnt_t:\n",
    "                cnt_t[s[le]] += 1\n",
    "                if cnt_t[s[le]] > 0:\n",
    "                    todo += 1\n",
    "        return ans  "
   ]
  },
  {
   "cell_type": "markdown",
   "metadata": {},
   "source": [
    "## Prefix sum\n",
    "- A tachnique to speed up range sum queries\n",
    "- Create an array of `prefix` where `prefix[i]` is the sum of all elements up to index `i`\n",
    "- Find the sum of elements between index `i` and `j` by `prefix[j] - prefix[i-1]` or `prefix[j] - prefix[i] + nums[i]`\n",
    "- $O(n)$ to build (pre-processing) but $O(1)$ for future subarray queries\n"
   ]
  },
  {
   "cell_type": "code",
   "execution_count": null,
   "metadata": {},
   "outputs": [],
   "source": [
    "# 2270 Number of ways to split array https://leetcode.com/problems/number-of-ways-to-split-array/\n",
    "class Solution:\n",
    "    def waysToSplitArray(self, nums: List[int]) -> int:\n",
    "        prefix = [nums[0]]\n",
    "        for i in range(1,len(nums)):\n",
    "            prefix.append(prefix[-1]+nums[i])\n",
    "        ans = 0\n",
    "        for i in range(len(prefix)-1):\n",
    "            if prefix[i] >= prefix[-1] - prefix[i]:\n",
    "                ans += 1\n",
    "        return ans"
   ]
  },
  {
   "cell_type": "markdown",
   "metadata": {},
   "source": [
    "## Similar to prefix sum\n",
    "- From left to right maximum\n",
    "    - Find the maximum value from left to right\n",
    "    - [239. Sliding Window Maximum](https://leetcode.com/problems/sliding-window-maximum/) \n",
    "- From right to left maximum\n",
    "    - Find the maximum value from right to left\n",
    "    - [42. Trapping Rain Water](https://leetcode.com/problems/trapping-rain-water/) \n",
    "- From left to right minimum\n",
    "    - Find the minimum value from left to right\n",
    "    - [84. Largest Rectangle in Histogram](https://leetcode.com/problems/largest-rectangle-in-histogram/) \n",
    "- From right to left minimum\n",
    "    - Find the minimum value from right to left\n",
    "    - [85. Maximal Rectangle](https://leetcode.com/problems/maximal-rectangle/) "
   ]
  },
  {
   "cell_type": "code",
   "execution_count": null,
   "metadata": {},
   "outputs": [],
   "source": []
  },
  {
   "cell_type": "code",
   "execution_count": null,
   "metadata": {},
   "outputs": [],
   "source": [
    "# [238. Product of Array Except Self](https://leetcode.com/problems/product-of-array-except-self/)\n",
    "class Solution:\n",
    "    def productExceptSelf(self, nums: List[int]) -> List[int]:\n",
    "        L = [1]\n",
    "        for num in nums:\n",
    "            L.append(L[-1]*num)\n",
    "        R = [1]\n",
    "        for num in reversed(nums):\n",
    "            R.append(R[-1]*num)\n",
    "        R.reverse()\n",
    "        return [L[i]*R[i+1] for i in range(len(nums))]"
   ]
  },
  {
   "cell_type": "markdown",
   "metadata": {},
   "source": [
    "## String\n",
    "- $O(n)$ string building \n",
    "    - String is immutable, concatenate a single character is $O(n)$ operation\n",
    "    - Build a string with n characters is $O(n^2)$ operation\n",
    "    - Build the characters to a list and then join them is $O(n)$ operation\n",
    "    - `\"\".join(list)`\n",
    "- Split a string\n",
    "    - `.split('')` method is often used to split a string into a list of substrings based on a specified delimiter\n",
    "    - Splitting by each character: use `list()` instead of `.split('')`\n",
    "\n",
    "## Subarray, substring, subsequence, subset\n",
    "- subarray/substring \n",
    "    - contiguous section of an array or string\n",
    "    - Sliding window technique\n",
    "        - sum greater than or equal to `k`\n",
    "        - limits on what is contained: maximum `k` distinct characters or no duplicates\n",
    "        - minimum or maximum length\n",
    "        - Number of subarrays/substrings\n",
    "        - Max or min sum\n",
    "- subsqeuence\n",
    "    - set of elements of an array or string that keeps the same relative order but not necessarily contiguous\n",
    "    - Dynamic programming\n",
    "        - Longest increasing subsequence\n",
    "        - Longest common subsequence\n",
    "        - Edit distance\n",
    "        - Regular expression matching\n",
    "        - Wildcard matching\n",
    "        - Distinct subsequences\n",
    "        - Arithmetic slices\n",
    "        - Longest arithmetic subsequence\n",
    "        - Longest arithmetic subsequence of difference 1\n",
    "        - Longest well-performing interval\n",
    "        - Maximum length of a concatenated string with unique characters\n",
    "        - Longest string chain\n",
    "        - Longest word in dictionary through deleting\n",
    "        - Longest palindromic subsequence\n",
    "        - Longest palindromic substring\n",
    "        - Longest uncommon subsequence II\n",
    "        - Longest subarray of 1's after deleting one element\n",
    "        - Longest substring with at most two distinct characters\n",
    "        - Longest substring with at most K distinct characters\n",
    "        - Longest substring without repeating characters\n",
    "        - Longest subsequence repeated k times\n",
    "        - Longest well-performing interval\n",
    "        - Maximum length of a concatenated string with unique characters\n",
    "        - Maximum length of pair chain\n",
    "        - Maximum product of word lengths\n",
    "- subset\n",
    "    - set of elements of an array or string that may not keep the same relative order"
   ]
  },
  {
   "cell_type": "markdown",
   "metadata": {},
   "source": [
    "## Problems\n",
    "### Two pointers\n",
    "- [557. Reverse Words in a String III](https://leetcode.com/problems/reverse-words-in-a-string-iii/)\n",
    "\n",
    "### Sliding window\n",
    "\n",
    "### Prefix sum\n",
    "- [1732. Find the Highest Altitude](https://leetcode.com/problems/find-the-highest-altitude/)"
   ]
  },
  {
   "cell_type": "markdown",
   "metadata": {},
   "source": [
    "## Similar to prefix sum\n",
    "    - left to right max\n",
    "    - right to left max"
   ]
  },
  {
   "cell_type": "code",
   "execution_count": null,
   "metadata": {},
   "outputs": [],
   "source": [
    "# [1937. Maximum Number of Points with Cost] (https://leetcode.com/problems/maximum-number-of-points-with-cost/)\n",
    "class Solution:\n",
    "    def maxPoints(self, points: List[List[int]]) -> int:\n",
    "        m, n = len(points), len(points[0])\n",
    "        dp = points.copy()\n",
    "        for i in range(1,m):\n",
    "            left_max =  [dp[i-1][0]]\n",
    "            right_max = [0]*n\n",
    "            right_max[-1] = dp[i-1][-1]\n",
    "            for k in range(1,n):\n",
    "                left_max.append(max(dp[i-1][k], left_max[-1] -1))\n",
    "            for j in reversed(range(n-1)):\n",
    "                right_max[j] = (max(dp[i-1][j], right_max[j+1]-1))\n",
    "            for j in range(n):\n",
    "                dp[i][j] += max(left_max[j], right_max[j])\n",
    "        return max(dp[-1])"
   ]
  },
  {
   "cell_type": "markdown",
   "metadata": {},
   "source": [
    "## Intervals\n",
    "- Sort and iterate while comparing adjacent intervals\n",
    "### Problems\n",
    "- [252. Meeting Rooms](https://leetcode.com/problems/meeting-rooms/)\n",
    "- [56. Merge intervals](https://leetcode.com/problems/merge-intervals/)\n",
    "- [57. Insert Interval](https://leetcode.com/problems/insert-interval/)\n",
    "- [435. Non-overlapping Intervals](https://leetcode.com/problems/non-overlapping-intervals/)"
   ]
  },
  {
   "cell_type": "code",
   "execution_count": null,
   "metadata": {},
   "outputs": [],
   "source": [
    "# [252. Meeting Rooms] (https://leetcode.com/problems/meeting-rooms/)\n",
    "class Solution:\n",
    "    def canAttendMeetings(self, intervals: List[List[int]]) -> bool:\n",
    "        intervals.sort(key  = lambda x: x[0])\n",
    "        n = len(intervals)\n",
    "        i = 0\n",
    "        while i < n-1:\n",
    "            if intervals[i+1][0] < intervals[i][1]:\n",
    "                return False\n",
    "            i += 1\n",
    "        return True"
   ]
  },
  {
   "cell_type": "code",
   "execution_count": null,
   "metadata": {},
   "outputs": [],
   "source": [
    "# [56. Merge Intervals] (https://leetcode.com/problems/merge-intervals/)\n",
    "class Solution:\n",
    "    def merge(self, intervals: List[List[int]]) -> List[List[int]]:\n",
    "        intervals.sort(key = lambda x: x[0])\n",
    "        ans = [intervals[0]]\n",
    "        for i in range(1,len(intervals)):\n",
    "            if intervals[i][0] <= ans[-1][1]:\n",
    "                ans[-1][1] = max(ans[-1][1], intervals[i][1])\n",
    "            else:\n",
    "                ans.append(intervals[i])\n",
    "        return ans            "
   ]
  },
  {
   "cell_type": "code",
   "execution_count": null,
   "metadata": {},
   "outputs": [],
   "source": [
    "# [57. Insert Interval] (https://leetcode.com/problems/insert-interval/)\n",
    "class Solution:\n",
    "    def insert(self, intervals: List[List[int]], newInterval: List[int]) -> List[List[int]]:\n",
    "        lo,hi = [],[]\n",
    "        for start, end in intervals:\n",
    "            if end < newInterval[0]:\n",
    "                lo.append([start, end])\n",
    "            elif start > newInterval[1]:\n",
    "                hi.append([start, end])\n",
    "            else:\n",
    "                newInterval[0] = min(start, newInterval[0])\n",
    "                newInterval[1] = max(end, newInterval[1])\n",
    "        return lo+[newInterval]+hi"
   ]
  },
  {
   "cell_type": "code",
   "execution_count": null,
   "metadata": {},
   "outputs": [],
   "source": [
    "# [435. Non-overlapping Intervals] (https://leetcode.com/problems/non-overlapping-intervals/)\n",
    "class Solution:\n",
    "    def eraseOverlapIntervals(self, intervals: List[List[int]]) -> int:\n",
    "        intervals.sort()\n",
    "        prev, ans = 0, 0\n",
    "        for i in range(1,len(intervals)):\n",
    "            if intervals[prev][1] > intervals[i][0]:\n",
    "                ans += 1\n",
    "                if intervals[i][1] < intervals[prev][1]:\n",
    "                    prev = i\n",
    "            else:\n",
    "                prev = i\n",
    "        return ans"
   ]
  },
  {
   "cell_type": "code",
   "execution_count": 14,
   "metadata": {},
   "outputs": [
    {
     "name": "stdout",
     "output_type": "stream",
     "text": [
      "['r', 't', 'k', 'h', 'k', 's', 'd', 'b', 'i', 'j', 'i', 'o', 'v', 'j', 'l', 'v', 'l']\n"
     ]
    }
   ],
   "source": [
    "s = 'rtkhksdbijiovjlvl'\n",
    "print(list(s))"
   ]
  },
  {
   "cell_type": "code",
   "execution_count": 17,
   "metadata": {},
   "outputs": [
    {
     "data": {
      "text/plain": [
       "['', 'home', 'user', 'Documents', '..', 'Pictures', '', 'new']"
      ]
     },
     "execution_count": 17,
     "metadata": {},
     "output_type": "execute_result"
    }
   ],
   "source": [
    "path = \"/home/user/Documents/../Pictures//new\"\n",
    "path = path.split('/')\n",
    "path"
   ]
  },
  {
   "cell_type": "code",
   "execution_count": 13,
   "metadata": {},
   "outputs": [
    {
     "name": "stdout",
     "output_type": "stream",
     "text": [
      "None\n"
     ]
    }
   ],
   "source": [
    "# a.reverse() modify a in place and returns None\n",
    "# a.sort() modify a in place and returns None\n",
    "a = [1, 2, 3, 4, 5]\n",
    "print(a.reverse())"
   ]
  },
  {
   "cell_type": "code",
   "execution_count": 2,
   "metadata": {},
   "outputs": [
    {
     "name": "stdout",
     "output_type": "stream",
     "text": [
      "97\n",
      "65\n",
      "a\n"
     ]
    }
   ],
   "source": [
    "print(ord('a'))\n",
    "print(ord('A'))\n",
    "print(chr(97))"
   ]
  },
  {
   "cell_type": "code",
   "execution_count": null,
   "metadata": {},
   "outputs": [],
   "source": [
    "# [41. First Missing Positive](https://leetcode.com/problems/first-missing-positive/)\n",
    "class Solution:\n",
    "    def firstMissingPositive(self, nums: List[int]) -> int:\n",
    "        n = len(nums)\n",
    "        exist_1 = False\n",
    "        for i in range(n):\n",
    "            if nums[i] == 1:\n",
    "                exist_1 = True\n",
    "            if nums[i] <= 0 or nums[i] > n:\n",
    "                nums[i] = 1\n",
    "        if not exist_1:\n",
    "            return 1\n",
    "        \n",
    "        for i in range(n):\n",
    "            val = abs(nums[i])\n",
    "            if val == n:\n",
    "                nums[0] = -abs(nums[0])\n",
    "            else:\n",
    "                nums[val] = -abs(nums[val])\n",
    "        for i in range(1, n):\n",
    "            if nums[i] > 0:\n",
    "                return i\n",
    "        if nums[0] > 0:\n",
    "            return n\n",
    "        return n+1"
   ]
  },
  {
   "cell_type": "code",
   "execution_count": null,
   "metadata": {},
   "outputs": [],
   "source": [
    "# [48. Rotate Image](https://leetcode.com/problems/rotate-image/)\n",
    "# Cloclwise rotate 90 degree\n",
    "class Solution:\n",
    "    def rotate(self, matrix: List[List[int]]) -> None:\n",
    "        \"\"\"\n",
    "        Do not return anything, modify matrix in-place instead.\n",
    "        \"\"\"\n",
    "        n = len(matrix)\n",
    "        for i in range(n):\n",
    "            for j in range(i+1,n):\n",
    "                matrix[i][j], matrix[j][i] = matrix[j][i], matrix[i][j]\n",
    "        for i in range(len(matrix)):\n",
    "            matrix[i] = matrix[i][::-1]\n",
    "        return "
   ]
  }
 ],
 "metadata": {
  "kernelspec": {
   "display_name": "Python 3",
   "language": "python",
   "name": "python3"
  },
  "language_info": {
   "codemirror_mode": {
    "name": "ipython",
    "version": 3
   },
   "file_extension": ".py",
   "mimetype": "text/x-python",
   "name": "python",
   "nbconvert_exporter": "python",
   "pygments_lexer": "ipython3",
   "version": "3.11.9"
  }
 },
 "nbformat": 4,
 "nbformat_minor": 2
}
