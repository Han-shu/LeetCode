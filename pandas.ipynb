{
 "cells": [
  {
   "cell_type": "markdown",
   "metadata": {},
   "source": [
    "## Pandas Data Strucutre\n",
    "- Series: one-dimensional array of indexed data\n",
    "\n",
    "- DataFrame: two-dimensional array of indexed data\n",
    "    - Each variable is in a column\n",
    "    - Each observation is in a row"
   ]
  },
  {
   "cell_type": "markdown",
   "metadata": {},
   "source": [
    "- Create from dictionary or list\n",
    "- I/O\n",
    "    - Read and write to CSV\n",
    "        - df = pd.read_csv('file.csv')\n",
    "        - df.to_csv('file.csv')\n",
    "    - Read and write to Excel\n",
    "        - df = pd.read_excel('file.xlsx')\n",
    "        - df.to_excel('file.xlsx', sheet_name='Sheet1')"
   ]
  },
  {
   "cell_type": "code",
   "execution_count": 2,
   "metadata": {},
   "outputs": [],
   "source": [
    "import pandas as pd\n",
    "\n",
    "s = pd.Series([3, -5, 7, 4], index=['a', 'b', 'c', 'd'])"
   ]
  },
  {
   "cell_type": "code",
   "execution_count": 3,
   "metadata": {},
   "outputs": [
    {
     "data": {
      "text/plain": [
       "a    10.0\n",
       "b     NaN\n",
       "c     5.0\n",
       "d     7.0\n",
       "dtype: float64"
      ]
     },
     "execution_count": 3,
     "metadata": {},
     "output_type": "execute_result"
    }
   ],
   "source": [
    "s3 = pd.Series([7, -2, 3], index=['a', 'c', 'd'])\n",
    "s+s3"
   ]
  },
  {
   "cell_type": "code",
   "execution_count": 4,
   "metadata": {},
   "outputs": [
    {
     "data": {
      "text/plain": [
       "a    0.428571\n",
       "b   -1.666667\n",
       "c   -3.500000\n",
       "d    1.333333\n",
       "dtype: float64"
      ]
     },
     "execution_count": 4,
     "metadata": {},
     "output_type": "execute_result"
    }
   ],
   "source": [
    "s.add(s3, fill_value=0)\n",
    "s.sub(s3, fill_value=2)\n",
    "s.mul(s3, fill_value=4)\n",
    "s.div(s3, fill_value=3)"
   ]
  },
  {
   "cell_type": "code",
   "execution_count": 5,
   "metadata": {},
   "outputs": [
    {
     "name": "stdout",
     "output_type": "stream",
     "text": [
      "DataFrame cretaed by column \n",
      "    a  b  c\n",
      "0  1  4  7\n",
      "1  2  5  8\n",
      "2  3  6  9 \n",
      "\n",
      "DataFrame cretaed by column with index\n",
      "    a  b  c\n",
      "0  1  4  7\n",
      "1  2  5  8\n",
      "2  3  6  9 \n",
      "\n",
      "DataFrame cretaed by row \n",
      "    a  b  c\n",
      "0  1  4  7\n",
      "1  2  5  8\n",
      "2  3  6  9 \n",
      "\n"
     ]
    }
   ],
   "source": [
    "# Create a DataFrame by column\n",
    "df1 = pd.DataFrame({'a':[1,2,3], 'b':[4,5,6], 'c':[7,8,9]})\n",
    "print(\"DataFrame cretaed by column \\n\", df1, \"\\n\")\n",
    "df2 = pd.DataFrame({'a':[1,2,3], 'b':[4,5,6], 'c':[7,8,9]}, index=['x','y','z'])\n",
    "print(\"DataFrame cretaed by column with index\\n\", df1, \"\\n\")\n",
    "# Create a DataFrame by row\n",
    "df3 = pd.DataFrame([[1,4,7],[2,5,8],[3,6,9]], columns=['a','b','c'])\n",
    "print(\"DataFrame cretaed by row \\n\", df3, \"\\n\")"
   ]
  },
  {
   "cell_type": "markdown",
   "metadata": {},
   "source": [
    "- Basic Information\n",
    "    - len(df) : number of rows\n",
    "    - df.shape : number of rows df.shape[0] and number of columns df.shape[1]\n",
    "    - df.columns / df.index : column names and index names\n",
    "    - df.dtypes / df.info() / df.describe() / df.head() / df.tail() \n",
    "    - df.values : get values as a 2D numpy array\n",
    "- Summary\n",
    "    - df.sum()\n",
    "    - df.mean() / df.median() / df.quantile([0.25, 0.75]) / df.std() / df.var() / \n",
    "    - df.max() / df.min()   /   df.idxmax() / df.idxmin()\n",
    "    - df.max(axis=1) / df.min(axis=1) : max/min value of each row\n",
    "    - df.count()\n",
    "    - df.describe() : get summary statistics\n",
    "    - df.T\n",
    "- Selection\n",
    "    - df[col] : Returns column with label col as Series\n",
    "    - df[[col1, col2]] : Returns columns as a new DataFrame\n",
    "    - df.loc[row, col] : Returns scalar value\n",
    "    - df.loc[row] : Returns Series with label row\n",
    "    - df.loc[[row1, row2]] : Returns DataFrame with label row1, row2\n",
    "    - df.iloc[0] : Returns first row as Series\n",
    "    - df.iloc[:, 0] : Returns first column as Series\n",
    "    - df.iloc[0, 0] : Returns first element as scalar\n",
    "    - df.iloc[[0, 1], [0, 1]] : Returns first 2 rows and first 2 columns as DataFrame\n",
    "    - df.ix[0] : Returns first row as Series\n",
    "    - df.ix[:, 0] : Returns first column as Series\n",
    "    - df.ix[0, 0] : Returns first element as scalar\n",
    "    - df.ix[[0, 1], [0, 1]] : Returns first 2 rows and first 2 columns as DataFrame\n",
    "    - df.at[0, 'col'] : Returns scalar value\n",
    "    - df.iat[0, 0] : Returns scalar value"
   ]
  },
  {
   "cell_type": "code",
   "execution_count": 14,
   "metadata": {},
   "outputs": [
    {
     "data": {
      "text/plain": [
       "5"
      ]
     },
     "execution_count": 14,
     "metadata": {},
     "output_type": "execute_result"
    }
   ],
   "source": [
    "# equivalent\n",
    "df1.iloc[1,1]\n",
    "df1.iloc[1][1]\n",
    "df1.iloc[1]['b']"
   ]
  },
  {
   "cell_type": "markdown",
   "metadata": {},
   "source": [
    "- Operations\n",
    "    - df.abs()\n",
    "    - df.clip(lower=-10, upper=10) : Trim values at input thresholds\n",
    "    - df['col'].map(lambda x: x * 2)\n",
    "    - df.apply(func) : apply function \n",
    "    - df.applymap(func) : apply function element-wise\n",
    "    - df.sort_index(axis=0, ascending=False)\n",
    "    - df.sort_values(by='col1')\n",
    "    - df.rank()\n",
    "- Combining\n",
    "    - pd.concat([df1, df2], axis=0) : Concatenate rows\n",
    "    - pd.concat([df1, df2], axis=1) : Concatenate columns\n",
    "    - pd.merge(df1, df2, on='col1', how='XXX') : Merge dataframes, how can be 'left', 'right', 'outer', 'inner'\n",
    "    - df.append(df2) : Append rows\n",
    "- df.drop(columns=['col1', 'col2']) : Drop columns\n",
    "- Missing Data\n",
    "    - df.dropna() : Drop rows with missing data\n",
    "    - df.dropna(axis=1) : Drop columns with missing data, *inplace=True* for in-place operation\n",
    "    - df.fillna(value) : Fill missing data with value"
   ]
  },
  {
   "cell_type": "code",
   "execution_count": 31,
   "metadata": {},
   "outputs": [
    {
     "data": {
      "text/plain": [
       "array([[1, 4, 7],\n",
       "       [2, 5, 8],\n",
       "       [3, 6, 9]])"
      ]
     },
     "execution_count": 31,
     "metadata": {},
     "output_type": "execute_result"
    }
   ],
   "source": [
    "df1.values"
   ]
  },
  {
   "cell_type": "code",
   "execution_count": 28,
   "metadata": {},
   "outputs": [
    {
     "data": {
      "text/html": [
       "<div>\n",
       "<style scoped>\n",
       "    .dataframe tbody tr th:only-of-type {\n",
       "        vertical-align: middle;\n",
       "    }\n",
       "\n",
       "    .dataframe tbody tr th {\n",
       "        vertical-align: top;\n",
       "    }\n",
       "\n",
       "    .dataframe thead th {\n",
       "        text-align: right;\n",
       "    }\n",
       "</style>\n",
       "<table border=\"1\" class=\"dataframe\">\n",
       "  <thead>\n",
       "    <tr style=\"text-align: right;\">\n",
       "      <th></th>\n",
       "      <th>a</th>\n",
       "      <th>b</th>\n",
       "      <th>c</th>\n",
       "    </tr>\n",
       "  </thead>\n",
       "  <tbody>\n",
       "    <tr>\n",
       "      <th>count</th>\n",
       "      <td>3.0</td>\n",
       "      <td>3.0</td>\n",
       "      <td>3.0</td>\n",
       "    </tr>\n",
       "    <tr>\n",
       "      <th>mean</th>\n",
       "      <td>2.0</td>\n",
       "      <td>5.0</td>\n",
       "      <td>8.0</td>\n",
       "    </tr>\n",
       "    <tr>\n",
       "      <th>std</th>\n",
       "      <td>1.0</td>\n",
       "      <td>1.0</td>\n",
       "      <td>1.0</td>\n",
       "    </tr>\n",
       "    <tr>\n",
       "      <th>min</th>\n",
       "      <td>1.0</td>\n",
       "      <td>4.0</td>\n",
       "      <td>7.0</td>\n",
       "    </tr>\n",
       "    <tr>\n",
       "      <th>25%</th>\n",
       "      <td>1.5</td>\n",
       "      <td>4.5</td>\n",
       "      <td>7.5</td>\n",
       "    </tr>\n",
       "    <tr>\n",
       "      <th>50%</th>\n",
       "      <td>2.0</td>\n",
       "      <td>5.0</td>\n",
       "      <td>8.0</td>\n",
       "    </tr>\n",
       "    <tr>\n",
       "      <th>75%</th>\n",
       "      <td>2.5</td>\n",
       "      <td>5.5</td>\n",
       "      <td>8.5</td>\n",
       "    </tr>\n",
       "    <tr>\n",
       "      <th>max</th>\n",
       "      <td>3.0</td>\n",
       "      <td>6.0</td>\n",
       "      <td>9.0</td>\n",
       "    </tr>\n",
       "  </tbody>\n",
       "</table>\n",
       "</div>"
      ],
      "text/plain": [
       "         a    b    c\n",
       "count  3.0  3.0  3.0\n",
       "mean   2.0  5.0  8.0\n",
       "std    1.0  1.0  1.0\n",
       "min    1.0  4.0  7.0\n",
       "25%    1.5  4.5  7.5\n",
       "50%    2.0  5.0  8.0\n",
       "75%    2.5  5.5  8.5\n",
       "max    3.0  6.0  9.0"
      ]
     },
     "execution_count": 28,
     "metadata": {},
     "output_type": "execute_result"
    }
   ],
   "source": [
    "df1.describe()"
   ]
  },
  {
   "cell_type": "code",
   "execution_count": 68,
   "metadata": {},
   "outputs": [
    {
     "data": {
      "text/html": [
       "<div>\n",
       "<style scoped>\n",
       "    .dataframe tbody tr th:only-of-type {\n",
       "        vertical-align: middle;\n",
       "    }\n",
       "\n",
       "    .dataframe tbody tr th {\n",
       "        vertical-align: top;\n",
       "    }\n",
       "\n",
       "    .dataframe thead th {\n",
       "        text-align: right;\n",
       "    }\n",
       "</style>\n",
       "<table border=\"1\" class=\"dataframe\">\n",
       "  <thead>\n",
       "    <tr style=\"text-align: right;\">\n",
       "      <th></th>\n",
       "      <th>a</th>\n",
       "      <th>b</th>\n",
       "      <th>c</th>\n",
       "    </tr>\n",
       "  </thead>\n",
       "  <tbody>\n",
       "    <tr>\n",
       "      <th>0</th>\n",
       "      <td>2</td>\n",
       "      <td>8</td>\n",
       "      <td>14</td>\n",
       "    </tr>\n",
       "    <tr>\n",
       "      <th>1</th>\n",
       "      <td>4</td>\n",
       "      <td>10</td>\n",
       "      <td>16</td>\n",
       "    </tr>\n",
       "    <tr>\n",
       "      <th>2</th>\n",
       "      <td>6</td>\n",
       "      <td>12</td>\n",
       "      <td>18</td>\n",
       "    </tr>\n",
       "  </tbody>\n",
       "</table>\n",
       "</div>"
      ],
      "text/plain": [
       "   a   b   c\n",
       "0  2   8  14\n",
       "1  4  10  16\n",
       "2  6  12  18"
      ]
     },
     "execution_count": 68,
     "metadata": {},
     "output_type": "execute_result"
    }
   ],
   "source": [
    "f = lambda x: x*2\n",
    "df1.applymap(f)"
   ]
  },
  {
   "cell_type": "markdown",
   "metadata": {},
   "source": [
    "### Histogram, Boxplot, Scatter Plot\n",
    "- Plotting\n",
    "    - df.plot.hist() : Histogram for each column\n",
    "    - df.col.plot.hist() : Histogram for column col\n",
    "    - df.plot.box() : Boxplot for each column, good for detecting outliers\n",
    "    - df.plot.scatter(x='col1', y='col2') : Scatter plot"
   ]
  },
  {
   "cell_type": "code",
   "execution_count": 74,
   "metadata": {},
   "outputs": [
    {
     "data": {
      "text/plain": [
       "<Axes: ylabel='Frequency'>"
      ]
     },
     "execution_count": 74,
     "metadata": {},
     "output_type": "execute_result"
    },
    {
     "data": {
      "image/png": "[encoded data removed]",
      "text/plain": [
       "<Figure size 640x480 with 1 Axes>"
      ]
     },
     "metadata": {},
     "output_type": "display_data"
    }
   ],
   "source": [
    "df1.a.plot.hist()"
   ]
  }
 ],
 "metadata": {
  "kernelspec": {
   "display_name": "Python 3",
   "language": "python",
   "name": "python3"
  },
  "language_info": {
   "codemirror_mode": {
    "name": "ipython",
    "version": 3
   },
   "file_extension": ".py",
   "mimetype": "text/x-python",
   "name": "python",
   "nbconvert_exporter": "python",
   "pygments_lexer": "ipython3",
   "version": "3.10.6"
  }
 },
 "nbformat": 4,
 "nbformat_minor": 2
}
