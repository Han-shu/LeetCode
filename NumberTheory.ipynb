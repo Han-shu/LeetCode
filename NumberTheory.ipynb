{
 "cells": [
  {
   "cell_type": "markdown",
   "metadata": {},
   "source": [
    "# Number Theory\n",
    "## Find Prime Numbers in a Range\n"
   ]
  },
  {
   "cell_type": "code",
   "execution_count": null,
   "metadata": {},
   "outputs": [],
   "source": [
    "# [204. Count Primes](https://leetcode.com/problems/count-primes/)\n",
    "class Solution:\n",
    "    def countPrimes(self, n: int) -> int:\n",
    "        if n <= 2:\n",
    "            return 0\n",
    "        nums = [True]*n\n",
    "        nums[0], nums[1] = False, False\n",
    "        for i in range(2, int(sqrt(n))+1):\n",
    "            if nums[i]:\n",
    "                for multiple in range(i*i,n,i):\n",
    "                    nums[multiple] = False\n",
    "        return sum(nums)"
   ]
  },
  {
   "cell_type": "code",
   "execution_count": null,
   "metadata": {},
   "outputs": [],
   "source": [
    "# [866. Prime Palindrome](https://leetcode.com/problems/prime-palindrome/)\n",
    "class Solution:\n",
    "    def primePalindrome(self, N: int) -> int:\n",
    "        def is_prime(n):\n",
    "            if n < 2:\n",
    "                return False\n",
    "            for i in range(2, int(n**0.5)+1):\n",
    "                if n % i == 0:\n",
    "                    return False\n",
    "            return True\n",
    "        \n",
    "        def is_palindrome(n):\n",
    "            return str(n) == str(n)[::-1]\n",
    "        \n",
    "        while True:\n",
    "            if is_palindrome(N) and is_prime(N):\n",
    "                return N\n",
    "            N += 1\n",
    "            if 10**7 < N < 10**8:\n",
    "                N = 10**8\n",
    "\n",
    "    def primePalindrome(self, n: int) -> int:\n",
    "        a = [] # store all palindromes\n",
    "        for i in range(1, 1000000):\n",
    "            s = str(i)\n",
    "            num = int(s + s[::-1]) # even length\n",
    "            if num > 200000000:\n",
    "                break\n",
    "            a.append(num)\n",
    "        for i in range(1, 1000000):\n",
    "            s = str(i)\n",
    "            num = int(s + s[:-1][::-1]) # odd length\n",
    "            if num > 200000000:\n",
    "                break\n",
    "            a.append(num)\n",
    "        a.sort()\n",
    "        for x in a: # find the smallest palindrome prime number\n",
    "            if x >= n and x >= 2:\n",
    "                is_prime = True\n",
    "                for i in range(2, math.floor(math.sqrt(x)) + 1):\n",
    "                    if x % i == 0:\n",
    "                        is_prime = False\n",
    "                        break\n",
    "                if is_prime:\n",
    "                    return x\n"
   ]
  },
  {
   "cell_type": "code",
   "execution_count": 4,
   "metadata": {},
   "outputs": [
    {
     "data": {
      "text/plain": [
       "3"
      ]
     },
     "execution_count": 4,
     "metadata": {},
     "output_type": "execute_result"
    }
   ],
   "source": [
    "# [914. X of a Kind in a Deck of Cards](https://leetcode.com/problems/x-of-a-kind-in-a-deck-of-cards/)\n",
    "class Solution:\n",
    "    def hasGroupsSizeX(self, deck: List[int]) -> bool:\n",
    "        def euclid_gcd(a,b):\n",
    "            while b != 0:\n",
    "                a,b = b, a%b\n",
    "            return a\n",
    "\n",
    "        cnt = collections.Counter(deck)\n",
    "        s = list(set(cnt.values()))\n",
    "        if len(s) == 1:\n",
    "            return s[0] != 1\n",
    "        gcd = euclid_gcd(s[0],s[1])\n",
    "        for i in range(2, len(s)):\n",
    "            gcd = euclid_gcd(s[i], gcd)\n",
    "        return gcd > 1"
   ]
  },
  {
   "cell_type": "markdown",
   "metadata": {},
   "source": [
    "### Ugly Numbers\n",
    "- [264. Ugly Number II](https://leetcode.com/problems/ugly-number-ii/)\n",
    "- [1201. Ugly Number III](https://leetcode.com/problems/ugly-number-iii/)"
   ]
  },
  {
   "cell_type": "code",
   "execution_count": null,
   "metadata": {},
   "outputs": [],
   "source": [
    "# [264. Ugly Number II](https://leetcode.com/problems/ugly-number-ii/)\n",
    "# Most numbers are not ugly. Try to focus your effort on generating only the ugly ones\n",
    "class Solution:\n",
    "    def nthUglyNumber(self, n: int) -> int:\n",
    "        ugly = [1]\n",
    "        i2, i3, i5 = 0, 0, 0\n",
    "        while n > 1:\n",
    "            u2, u3, u5 = 2*ugly[i2], 3*ugly[i3], 5*ugly[i5]\n",
    "            umin = min(u2, u3, u5)\n",
    "            if umin == u2:\n",
    "                i2 += 1\n",
    "            if umin == u3:\n",
    "                i3 += 1\n",
    "            if umin == u5:\n",
    "                i5 += 1\n",
    "            ugly.append(umin)\n",
    "            n -= 1\n",
    "        return ugly[-1]"
   ]
  },
  {
   "cell_type": "code",
   "execution_count": null,
   "metadata": {},
   "outputs": [],
   "source": [
    "# [1201. Ugly Number III](https://leetcode.com/problems/ugly-number-iii/)\n",
    "class Solution:\n",
    "    def nthUglyNumber(self, n: int, a: int, b: int, c: int) -> int:\n",
    "        def gcd(a, b):\n",
    "            return a if b == 0 else gcd(b, a % b)\n",
    "        \n",
    "        def lcm(a, b):\n",
    "            return a * b // gcd(a, b)\n",
    "\n",
    "        ab = lcm(a, b)\n",
    "        bc = lcm(b, c)\n",
    "        ac = lcm(a, c)\n",
    "        abc = lcm(ab, c)\n",
    "\n",
    "        lo, hi = 1, 2000000000\n",
    "        while lo < hi:\n",
    "            mid = (lo + hi) // 2\n",
    "            if mid // a + mid // b + mid // c - mid // ab - mid // bc - mid // ac + mid // abc >= n:\n",
    "                hi = mid\n",
    "            else:\n",
    "                lo = mid + 1\n",
    "        return lo"
   ]
  }
 ],
 "metadata": {
  "kernelspec": {
   "display_name": "Python 3",
   "language": "python",
   "name": "python3"
  },
  "language_info": {
   "codemirror_mode": {
    "name": "ipython",
    "version": 3
   },
   "file_extension": ".py",
   "mimetype": "text/x-python",
   "name": "python",
   "nbconvert_exporter": "python",
   "pygments_lexer": "ipython3",
   "version": "3.10.6"
  }
 },
 "nbformat": 4,
 "nbformat_minor": 2
}
