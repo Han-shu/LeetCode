{
 "cells": [
  {
   "cell_type": "markdown",
   "metadata": {},
   "source": [
    "# Bit Manipulation\n",
    "## Basic Operations\n",
    "- `&` (AND): `1 & 1 = 1`, `1 & 0 = 0`, `0 & 0 = 0`\n",
    "- `|` (OR): `1 | 1 = 1`, `1 | 0 = 1`, `0 | 0 = 0`\n",
    "- `^` (XOR): `1 ^ 1 = 0`, `1 ^ 0 = 1`, `0 ^ 0 = 0`\n",
    "- `~` (NOT): `~1 = 0`, `~0 = 1`\n",
    "- `<<` (left shift): `a << b` is equivalent to `a * 2^b`\n",
    "- `>>` (right shift): `a >> b` is equivalent to `a / 2^b`\n",
    "- `&` (AND) with `1`: `a & 1` is equivalent to `a % 2`\n",
    "- `&` (AND) with `0`: `a & 0` is equivalent to `0`\n",
    "- `|` (OR) with `1`: `a | 1` is equivalent to `1`\n",
    "- `|` (OR) with `0`: `a | 0` is equivalent to `a`\n",
    "- `^` (XOR) with `1`: `a ^ 1` is equivalent to `~a`\n",
    "- `^` (XOR) with `0`: `a ^ 0` is equivalent to `a`\n",
    "- `~` (NOT) with `1`: `~1` is equivalent to `0`"
   ]
  },
  {
   "cell_type": "code",
   "execution_count": null,
   "metadata": {},
   "outputs": [],
   "source": [
    "# [2220. Minimum Bit Flips to Convert Number](https://leetcode.com/problems/minimum-bit-flips-to-convert-number/)\n",
    "\n",
    "def minBitFlips(self, start: int, goal: int) -> int:\n",
    "    count = 0\n",
    "    while start > 0 or goal > 0:\n",
    "        if (start & 1) != (goal & 1):\n",
    "            count += 1\n",
    "        start >>= 1\n",
    "        goal >>= 1\n",
    "    return count\n",
    "\n",
    "def minBitFlips(self, start: int, goal: int) -> int:\n",
    "    xor = start ^ goal\n",
    "    count = 0\n",
    "    while xor > 0:\n",
    "        count += (xor&1)\n",
    "        xor >>= 1\n",
    "    return count      "
   ]
  }
 ],
 "metadata": {
  "language_info": {
   "name": "python"
  }
 },
 "nbformat": 4,
 "nbformat_minor": 2
}
