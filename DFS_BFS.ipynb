{
 "cells": [
  {
   "cell_type": "markdown",
   "metadata": {},
   "source": [
    "# DFS\n",
    "\n",
    "1. Traverse all vertices in a “graph”\n",
    "2. Traverse all paths between any two vertices in a “graph”\n",
    "\n",
    "Data Structure to implement DFS:\n",
    "\n",
    "Stack: FILO, go to previous state by popping \n"
   ]
  },
  {
   "cell_type": "code",
   "execution_count": null,
   "metadata": {},
   "outputs": [],
   "source": [
    "# How to construct a graph\n",
    "# 1. Adjacency list\n",
    "adjacency_list = [[] for _ in range(n)]\n",
    "for a,b in edges:\n",
    "    adjacency_list[a].append(b)\n",
    "    adjacency_list[b].append(a)\n",
    "\n",
    "# 2. Dictionary\n",
    "adjacency_dict = collections.defaultdict(list)\n",
    "for a,b in edges:\n",
    "    adjacency_dict[a].append(b)\n",
    "    adjacency_dict[b].append(a)\n"
   ]
  },
  {
   "cell_type": "code",
   "execution_count": 4,
   "metadata": {},
   "outputs": [
    {
     "name": "stdout",
     "output_type": "stream",
     "text": [
      "2\n",
      "5\n",
      "4\n",
      "6\n"
     ]
    }
   ],
   "source": [
    "buildings = [[2,5,9],[4,6,9]]\n",
    "for building in buildings:\n",
    "    for x in building[:2]:\n",
    "        print(x)"
   ]
  },
  {
   "cell_type": "code",
   "execution_count": 8,
   "metadata": {},
   "outputs": [],
   "source": []
  },
  {
   "cell_type": "markdown",
   "metadata": {},
   "source": [
    "## BFS\n",
    "1. Traversing all vertices in the “graph\"\n",
    "2. Find the shortest path between two vertices in a “graph” where the edges have a weight of 1.\n",
    "\n",
    "Data Structure to implement BFS:\n",
    "deque: FIFO, .popleft() to get the first element\n",
    "list + index"
   ]
  },
  {
   "cell_type": "code",
   "execution_count": null,
   "metadata": {},
   "outputs": [],
   "source": []
  },
  {
   "cell_type": "code",
   "execution_count": null,
   "metadata": {},
   "outputs": [],
   "source": []
  },
  {
   "cell_type": "markdown",
   "metadata": {},
   "source": [
    "**Eulerian Cycle**\n",
    "\n",
    "In graph theory, an Eulerian trail (or Eulerian path) is a trail in a finite graph that visits every edge exactly once (allowing for revisiting vertices)."
   ]
  },
  {
   "cell_type": "code",
   "execution_count": null,
   "metadata": {},
   "outputs": [],
   "source": [
    "# https://leetcode.com/problems/reconstruct-itinerary/description/\n",
    "# LC 332. Reconstruct Itinerary\n",
    "# DFS, graph, Eulerian path\n",
    "# Given a list of airline tickets represented by pairs of departure and arrival airports [from, to], reconstruct the itinerary in order.\n",
    "\n",
    "class Solution:\n",
    "    def findItinerary(self, tickets: List[List[str]]) -> List[str]:\n",
    "        self.edges = collections.defaultdict(list)\n",
    "        for fr,to in tickets:\n",
    "            self.edges[fr].append(to)\n",
    "        for fr, to_des in self.edges.items():\n",
    "            to_des.sort(reverse = True)\n",
    "        self.result = []\n",
    "        self.DFS('JFK')\n",
    "        return self.result[::-1]\n",
    "    \n",
    "    def DFS(self, fr):\n",
    "        to_des = self.edges[fr]\n",
    "        while to_des:\n",
    "            to = to_des.pop()\n",
    "            self.DFS(to)\n",
    "        self.result.append(fr)"
   ]
  },
  {
   "cell_type": "code",
   "execution_count": 8,
   "metadata": {},
   "outputs": [],
   "source": [
    "import collections\n",
    "def findItinerary(tickets):\n",
    "    edges = collections.defaultdict(list)\n",
    "    for u, v in tickets:\n",
    "        edges[u].append(v)\n",
    "    for u in edges:\n",
    "        edges[u].sort(reverse=True)\n",
    "\n",
    "    def dfs(u):\n",
    "        res = []\n",
    "        while len(edges[u]) > 0:\n",
    "            v = edges[u].pop()\n",
    "            res = [v] + dfs(v) + res\n",
    "            print(res)\n",
    "        return res\n",
    "\n",
    "    return ['JFK'] + dfs('JFK')"
   ]
  },
  {
   "cell_type": "code",
   "execution_count": 9,
   "metadata": {},
   "outputs": [
    {
     "name": "stdout",
     "output_type": "stream",
     "text": [
      "['KUL']\n",
      "['JFK']\n",
      "['NRT', 'JFK', 'KUL']\n"
     ]
    },
    {
     "data": {
      "text/plain": [
       "['JFK', 'NRT', 'JFK', 'KUL']"
      ]
     },
     "execution_count": 9,
     "metadata": {},
     "output_type": "execute_result"
    }
   ],
   "source": [
    "findItinerary([[\"JFK\",\"KUL\"],[\"JFK\",\"NRT\"],[\"NRT\",\"JFK\"]])"
   ]
  },
  {
   "cell_type": "code",
   "execution_count": null,
   "metadata": {},
   "outputs": [],
   "source": [
    "# https://leetcode.com/problems/unique-binary-search-trees/\n",
    "\n",
    "class Solution:\n",
    "    def numTrees(self, n: int) -> int:\n",
    "        computed = {}\n",
    "        def dfs(lo, hi):\n",
    "            if lo == hi:\n",
    "                return 1\n",
    "            if (lo, hi) in computed:\n",
    "                return computed[(lo, hi)]\n",
    "            ans = 0\n",
    "            for mid in range(lo,hi):\n",
    "                all_lefts = dfs(lo, mid)\n",
    "                all_rights = dfs(mid+1, hi)\n",
    "                ans = ans + all_lefts * all_rights\n",
    "            computed[(lo, hi)] = ans\n",
    "            return ans\n",
    "\n",
    "        return dfs(1,n+1)\n",
    "    \n",
    "        '''\n",
    "        dp = [0] * (n + 1)\n",
    "        dp[0] = 1\n",
    "        for i in range(1, n + 1):\n",
    "            for j in range(0, i):\n",
    "                dp[i] += dp[j] * dp[i - 1 - j]\n",
    "        return dp[n]\n",
    "        '''\n"
   ]
  },
  {
   "cell_type": "code",
   "execution_count": 1,
   "metadata": {},
   "outputs": [
    {
     "data": {
      "text/plain": [
       "209"
      ]
     },
     "execution_count": 1,
     "metadata": {},
     "output_type": "execute_result"
    }
   ],
   "source": [
    "text = \"The largest collaborative programming project I have worked on involved implementing dynamic reserves to replace existing static requirements for the New York System Operator (NYISO). This model is designed to clear the electricity market in the New York region by determining the commitment status of every generator, their energy dispatch, and scheduling reserves for different time scales, ultimately settling the clearing prices. I focused on the Long Island Reserve Modeling, which accounted for about 20% of the total project. The primary language used was AMPL. My role involved extensive collaboration with both the design and operating teams to understand their requirements and accurately model different physical components. Specifically, I communicated closely with the design team to grasp the theoretical underpinnings of the dynamic reserves model. then worked with the operating team to ensure that the model accurately represented the physical realities of the power grid. This collaboration involved regular meetings, code reviews, and iterative testing to refine the model. NYISO plans to implement this design in practice in 2027, transitioning from static to dynamic reserves and improving the efficiency and reliability of the electricity market. My contributions were crucial in ensuring that the model was both accurate and practical, leading to better generator scheduling and more stable market prices.\"\n",
    "len(text.split())"
   ]
  },
  {
   "cell_type": "code",
   "execution_count": 2,
   "metadata": {},
   "outputs": [
    {
     "data": {
      "text/plain": [
       "8"
      ]
     },
     "execution_count": 2,
     "metadata": {},
     "output_type": "execute_result"
    }
   ],
   "source": [
    "# https://leetcode.com/problems/convert-binary-search-tree-to-sorted-doubly-linked-list/description/\n",
    "# LC 426. Convert Binary Search Tree to Sorted Doubly Linked List\n",
    "\n",
    "class Solution:\n",
    "    def treeToDoublyList(self, root: 'Optional[Node]') -> 'Optional[Node]':\n",
    "        if root is None:\n",
    "            return None\n",
    "            \n",
    "        def dfs(node):\n",
    "            head, tail = node, node\n",
    "            if node.left is not None:\n",
    "                head, ret = dfs(node.left)\n",
    "                ret.right = node\n",
    "                node.left = ret\n",
    "            if node.right is not None:\n",
    "                ret, tail = dfs(node.right)\n",
    "                ret.left = node\n",
    "                node.right = ret\n",
    "            return head, tail\n",
    "\n",
    "        head, tail = dfs(root)\n",
    "        head.left = tail\n",
    "        tail.right = head\n",
    "        return head"
   ]
  }
 ],
 "metadata": {
  "kernelspec": {
   "display_name": "Python 3",
   "language": "python",
   "name": "python3"
  },
  "language_info": {
   "codemirror_mode": {
    "name": "ipython",
    "version": 3
   },
   "file_extension": ".py",
   "mimetype": "text/x-python",
   "name": "python",
   "nbconvert_exporter": "python",
   "pygments_lexer": "ipython3",
   "version": "3.10.6"
  }
 },
 "nbformat": 4,
 "nbformat_minor": 2
}
